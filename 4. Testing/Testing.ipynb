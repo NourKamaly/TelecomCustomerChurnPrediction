{
 "cells": [
  {
   "cell_type": "code",
   "execution_count": 8,
   "metadata": {},
   "outputs": [],
   "source": [
    "import pandas as pd,numpy as np, seaborn as sns, matplotlib.pyplot as plt, joblib\n",
    "from scipy import stats\n",
    "from sklearn.impute import KNNImputer\n",
    "from sklearn.tree import DecisionTreeClassifier\n",
    "from sklearn.model_selection import train_test_split, cross_val_score\n",
    "from sklearn.metrics import accuracy_score,precision_score,recall_score,f1_score, confusion_matrix"
   ]
  },
  {
   "cell_type": "code",
   "execution_count": 15,
   "metadata": {},
   "outputs": [],
   "source": [
    "df = pd.read_csv('../0. Dataset/Holdout set.csv')"
   ]
  },
  {
   "cell_type": "code",
   "execution_count": 16,
   "metadata": {},
   "outputs": [
    {
     "data": {
      "text/plain": [
       "CustomerID                       0\n",
       "Churn                        20000\n",
       "MonthlyRevenue                  60\n",
       "MonthlyMinutes                  60\n",
       "TotalRecurringCharge            60\n",
       "DirectorAssistedCalls           60\n",
       "OverageMinutes                  60\n",
       "RoamingCalls                    60\n",
       "PercChangeMinutes              135\n",
       "PercChangeRevenues             135\n",
       "DroppedCalls                     0\n",
       "BlockedCalls                     0\n",
       "UnansweredCalls                  0\n",
       "CustomerCareCalls                0\n",
       "ThreewayCalls                    0\n",
       "ReceivedCalls                    0\n",
       "OutboundCalls                    0\n",
       "InboundCalls                     0\n",
       "PeakCallsInOut                   0\n",
       "OffPeakCallsInOut                0\n",
       "DroppedBlockedCalls              0\n",
       "CallForwardingCalls              0\n",
       "CallWaitingCalls                 0\n",
       "MonthsInService                  0\n",
       "UniqueSubs                       0\n",
       "ActiveSubs                       0\n",
       "ServiceArea                      4\n",
       "Handsets                         0\n",
       "HandsetModels                    0\n",
       "CurrentEquipmentDays             0\n",
       "AgeHH1                         335\n",
       "AgeHH2                         335\n",
       "ChildrenInHH                     0\n",
       "HandsetRefurbished               0\n",
       "HandsetWebCapable                0\n",
       "TruckOwner                       0\n",
       "RVOwner                          0\n",
       "Homeownership                    0\n",
       "BuysViaMailOrder                 0\n",
       "RespondsToMailOffers             0\n",
       "OptOutMailings                   0\n",
       "NonUSTravel                      0\n",
       "OwnsComputer                     0\n",
       "HasCreditCard                    0\n",
       "RetentionCalls                   0\n",
       "RetentionOffersAccepted          0\n",
       "NewCellphoneUser                 0\n",
       "NotNewCellphoneUser              0\n",
       "ReferralsMadeBySubscriber        0\n",
       "IncomeGroup                      0\n",
       "OwnsMotorcycle                   0\n",
       "AdjustmentsToCreditRating        0\n",
       "HandsetPrice                     0\n",
       "MadeCallToRetentionTeam          0\n",
       "CreditRating                     0\n",
       "PrizmCode                        0\n",
       "Occupation                       0\n",
       "MaritalStatus                    0\n",
       "dtype: int64"
      ]
     },
     "execution_count": 16,
     "metadata": {},
     "output_type": "execute_result"
    }
   ],
   "source": [
    "df.isna().sum()"
   ]
  },
  {
   "cell_type": "code",
   "execution_count": 17,
   "metadata": {},
   "outputs": [],
   "source": [
    "def get_state(code):\n",
    "    if not isinstance(code, str) or len(code) < 3:\n",
    "        return np.nan\n",
    "    metro_code = code[:3] \n",
    "    # Disambiguate 'SAN' based on area code\n",
    "    if metro_code == 'SAN':\n",
    "        area_code = code[-3:] if len(code) >= 9 else ''\n",
    "        if area_code in ['512', '210', '830', '254', '361', '956']:  # Texas area codes\n",
    "            return 'Texas'\n",
    "        return 'California'  # Default for 'SAN' in other contexts (e.g., Santa Ana)\n",
    "    return state_map.get(metro_code, np.nan)\n",
    "\n",
    "\n",
    "state_map = {\n",
    "        'NYC': 'New York', 'LAX': 'California', 'CHI': 'Illinois', 'HAR': 'Connecticut',\n",
    "        'DAL': 'Texas', 'SAN': 'Texas', 'MIA': 'Florida', 'MIL': 'Wisconsin', 'NCR': 'North Carolina',\n",
    "        'PHI': 'Pennsylvania', 'OKC': 'Oklahoma', 'MIN': 'Minnesota', 'OHI': 'Ohio', 'IND': 'Indiana',\n",
    "        'SFR': 'California', 'LOU': 'Kentucky', 'APC': 'Maryland', 'BOS': 'Massachusetts', 'NOL': 'Louisiana',\n",
    "        'SEA': 'Washington', 'DET': 'Michigan', 'PHX': 'Arizona', 'NEV': 'Nevada', 'OMA': 'Nebraska',\n",
    "        'NNY': 'New York', 'STL': 'Missouri', 'FLN': 'Florida', 'HOU': 'Texas', 'PIT': 'Pennsylvania',\n",
    "        'KCY': 'Kansas', 'ATL': 'Georgia', 'AIR': 'South Carolina', 'NMX': 'New Mexico', 'SHE': 'Virginia',\n",
    "        'LAU': 'Mississippi', 'SLC': 'Utah', 'HWI': 'Hawaii', 'NSH': 'Tennessee', 'BIR': 'Alabama',\n",
    "        'AWI': 'Wisconsin', 'DEN': 'Colorado', 'NOR': 'Minnesota', 'GCW': 'Mississippi', 'NVU': 'Nevada',\n",
    "        'LAW': 'Texas', 'VAH': 'Virginia', 'SDA': 'South Dakota', 'SEW': 'Oregon', 'HOP': 'Montana',\n",
    "        'SFU': 'California'\n",
    "    }\n",
    "\n",
    "df.drop(columns=['CustomerID','Churn'],axis=1,inplace=True)\n",
    "df['HandsetPrice'] = df['HandsetPrice'].replace('Unknown', np.nan)\n",
    "df['MaritalStatus'] = df['MaritalStatus'].replace('Unknown', np.nan)\n",
    "\n",
    "yes_no_features = ['ChildrenInHH','HandsetRefurbished','HandsetWebCapable','TruckOwner','RVOwner','BuysViaMailOrder',\n",
    "     'RespondsToMailOffers','OptOutMailings','NonUSTravel','OwnsComputer','HasCreditCard','NewCellphoneUser','NotNewCellphoneUser',\n",
    "     'OwnsMotorcycle','MadeCallToRetentionTeam']\n",
    "\n",
    "keep_values = {'CreditRating': ['2-High','1-Highest','3-Good'], 'Occupation': ['Professional','Crafts'], \n",
    "               'PrizmCode': ['Suburban','Town'],'ServiceArea': ['Texas', 'New York', 'California', 'Florida',\n",
    "               'Maryland', 'Illinois','Georgia', 'Ohio', 'North Carolina', 'Nevada', 'Pennsylvania','Michigan', \n",
    "               'Massachusetts' ,'Washington', 'Kansas'] }\n",
    "\n",
    "for feature in yes_no_features:\n",
    "    df[feature] = [1 if value == 'Yes' else 0 for value in df[feature]]\n",
    "df['Homeownership'] = [1 if value == 'Known' else 0 for value in df['Homeownership']]\n",
    "df['ServiceArea'] = df['ServiceArea'].apply(lambda code: get_state(code))\n",
    "for feature, values in keep_values.items():\n",
    "    df[feature] = [value if value in values else 'Other' for value in df[feature]]\n",
    "df = pd.get_dummies(df,columns=['CreditRating','PrizmCode','Occupation','ServiceArea'])\n",
    "\n",
    "df['MaritalStatus'] = [1 if status == 'Yes' else 0 if status =='No' else np.nan for status in df['MaritalStatus']]\n"
   ]
  },
  {
   "cell_type": "code",
   "execution_count": null,
   "metadata": {},
   "outputs": [],
   "source": [
    "imputer = joblib.load('../2. Preprocessing/NullImputer.h5')"
   ]
  },
  {
   "cell_type": "code",
   "execution_count": 19,
   "metadata": {},
   "outputs": [],
   "source": [
    "imputed = imputer.transform(df)"
   ]
  },
  {
   "cell_type": "code",
   "execution_count": 20,
   "metadata": {},
   "outputs": [],
   "source": [
    "f = pd.DataFrame(imputed,columns= df.columns)"
   ]
  },
  {
   "cell_type": "code",
   "execution_count": 25,
   "metadata": {},
   "outputs": [],
   "source": [
    "selected_features = ['MonthlyRevenue',\n",
    " 'MonthlyMinutes',\n",
    " 'TotalRecurringCharge',\n",
    " 'DirectorAssistedCalls',\n",
    " 'OverageMinutes',\n",
    " 'RoamingCalls',\n",
    " 'PercChangeMinutes',\n",
    " 'PercChangeRevenues',\n",
    " 'DroppedCalls',\n",
    " 'UnansweredCalls',\n",
    " 'CustomerCareCalls',\n",
    " 'ThreewayCalls',\n",
    " 'ReceivedCalls',\n",
    " 'OutboundCalls',\n",
    " 'InboundCalls',\n",
    " 'PeakCallsInOut',\n",
    " 'OffPeakCallsInOut',\n",
    " 'CallWaitingCalls',\n",
    " 'MonthsInService',\n",
    " 'UniqueSubs',\n",
    " 'ActiveSubs',\n",
    " 'Handsets',\n",
    " 'HandsetModels',\n",
    " 'CurrentEquipmentDays',\n",
    " 'AgeHH1',\n",
    " 'AgeHH2',\n",
    " 'HandsetRefurbished',\n",
    " 'HandsetWebCapable',\n",
    " 'Homeownership',\n",
    " 'BuysViaMailOrder',\n",
    " 'RespondsToMailOffers',\n",
    " 'RetentionCalls',\n",
    " 'RetentionOffersAccepted',\n",
    " 'NotNewCellphoneUser',\n",
    " 'IncomeGroup',\n",
    " 'AdjustmentsToCreditRating',\n",
    " 'HandsetPrice',\n",
    " 'MadeCallToRetentionTeam',\n",
    " 'CreditRating_1-Highest',\n",
    " 'CreditRating_2-High',\n",
    " 'CreditRating_3-Good',\n",
    " 'CreditRating_Other',\n",
    " 'PrizmCode_Suburban',\n",
    " 'PrizmCode_Town',\n",
    " 'ServiceArea_Florida',\n",
    " 'ServiceArea_Kansas',\n",
    " 'ServiceArea_Maryland',\n",
    " 'ServiceArea_Michigan',\n",
    " 'ServiceArea_Ohio',\n",
    " 'ServiceArea_Texas',\n",
    " 'ServiceArea_Washington']"
   ]
  },
  {
   "cell_type": "code",
   "execution_count": null,
   "metadata": {},
   "outputs": [
    {
     "name": "stderr",
     "output_type": "stream",
     "text": [
      "C:\\Users\\NOURKA~1\\AppData\\Local\\Temp/ipykernel_15528/3938042021.py:6: SettingWithCopyWarning: \n",
      "A value is trying to be set on a copy of a slice from a DataFrame.\n",
      "Try using .loc[row_indexer,col_indexer] = value instead\n",
      "\n",
      "See the caveats in the documentation: https://pandas.pydata.org/pandas-docs/stable/user_guide/indexing.html#returning-a-view-versus-a-copy\n",
      "  f['Churn'] = pd.Series(y_pred)\n"
     ]
    }
   ],
   "source": [
    "f = f[selected_features]\n",
    "model = joblib.load('../3. Modeling/Saved Models/DecisionTree.h5')\n",
    "\n",
    "y_pred = model.predict(f)\n",
    "\n",
    "f['Churn'] = pd.Series(y_pred)"
   ]
  },
  {
   "cell_type": "code",
   "execution_count": 28,
   "metadata": {},
   "outputs": [],
   "source": [
    "f.to_csv('Holdout data predicted.csv',index=False)"
   ]
  }
 ],
 "metadata": {
  "kernelspec": {
   "display_name": "base",
   "language": "python",
   "name": "python3"
  },
  "language_info": {
   "codemirror_mode": {
    "name": "ipython",
    "version": 3
   },
   "file_extension": ".py",
   "mimetype": "text/x-python",
   "name": "python",
   "nbconvert_exporter": "python",
   "pygments_lexer": "ipython3",
   "version": "3.9.7"
  }
 },
 "nbformat": 4,
 "nbformat_minor": 2
}
