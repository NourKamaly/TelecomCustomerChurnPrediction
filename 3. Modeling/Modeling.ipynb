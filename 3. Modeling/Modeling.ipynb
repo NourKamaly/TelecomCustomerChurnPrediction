{
 "cells": [
  {
   "cell_type": "code",
   "execution_count": 4,
   "id": "09cb98f6",
   "metadata": {},
   "outputs": [],
   "source": [
    "import pandas as pd,numpy as np, joblib, optuna\n",
    "from imblearn.over_sampling import SMOTE\n",
    "from sklearn.impute import KNNImputer\n",
    "from sklearn.ensemble import BaggingClassifier,GradientBoostingClassifier, RandomForestClassifier,AdaBoostClassifier,ExtraTreesClassifier\n",
    "from sklearn import tree\n",
    "from sklearn.linear_model import SGDClassifier,RidgeClassifier\n",
    "from xgboost import XGBClassifier\n",
    "from sklearn.neighbors import KNeighborsClassifier\n",
    "from sklearn.naive_bayes import MultinomialNB,GaussianNB,GaussianNB\n",
    "from sklearn.tree import DecisionTreeClassifier\n",
    "from sklearn.linear_model import LogisticRegression\n",
    "from lazypredict.Supervised import LazyClassifier\n",
    "from sklearn.model_selection import train_test_split, cross_val_score\n",
    "from sklearn.metrics import accuracy_score,precision_score,recall_score,f1_score, confusion_matrix"
   ]
  },
  {
   "cell_type": "code",
   "execution_count": null,
   "id": "5b1869e9",
   "metadata": {},
   "outputs": [],
   "source": [
    "df = pd.read_csv('../2. Preprocessing/Processed data.csv')"
   ]
  },
  {
   "cell_type": "code",
   "execution_count": 8,
   "id": "2440e2d9",
   "metadata": {},
   "outputs": [],
   "source": [
    "labels = df['Churn']\n",
    "features = df.drop(columns= ['Churn'],axis=1)\n",
    "\n",
    "x_train, x_validation, y_train, y_validation = train_test_split(features, labels, random_state = 42, stratify = labels, test_size = 0.1)\n",
    "\n",
    "\n",
    "sm = SMOTE(random_state=27)\n",
    "x_train, y_train = sm.fit_resample(x_train, y_train)"
   ]
  },
  {
   "cell_type": "code",
   "execution_count": 90,
   "id": "ce99af22",
   "metadata": {},
   "outputs": [
    {
     "name": "stdout",
     "output_type": "stream",
     "text": [
      "Using model: LogisticRegression\n",
      "Training Score: 0.574633997171362\n",
      "Test Score: 0.5668462291870715\n",
      "confusion_matrix:\n",
      " [[1641 1266]\n",
      " [ 503  674]]\n",
      "accuracy_score: 0.5668462291870715\n",
      "precision_score: 0.5564072357285736\n",
      "recall_score: 0.568570897482098\n",
      "f1_score: 0.568570897482098\n",
      "-------------\n",
      "Using model: AdaBoost\n",
      "Training Score: 1.0\n",
      "Test Score: 0.6158178256611165\n",
      "confusion_matrix:\n",
      " [[2055  852]\n",
      " [ 717  460]]\n",
      "accuracy_score: 0.6158178256611165\n",
      "precision_score: 0.5459758737197762\n",
      "recall_score: 0.5488692369135644\n",
      "f1_score: 0.5488692369135644\n",
      "-------------\n",
      "Using model: GradientBoosting\n",
      "Training Score: 0.8015175260884523\n",
      "Test Score: 0.7083741429970617\n",
      "confusion_matrix:\n",
      " [[2793  114]\n",
      " [1077  100]]\n",
      "accuracy_score: 0.7083741429970617\n",
      "precision_score: 0.5944975729913787\n",
      "recall_score: 0.5228730404651241\n",
      "f1_score: 0.5228730404651241\n",
      "-------------\n",
      "Using model: BaggingClassifier\n",
      "Training Score: 0.9877489392607316\n",
      "Test Score: 0.6865817825661117\n",
      "confusion_matrix:\n",
      " [[2567  340]\n",
      " [ 940  237]]\n",
      "accuracy_score: 0.6865817825661117\n",
      "precision_score: 0.5713549380565435\n",
      "recall_score: 0.5422001619738954\n",
      "f1_score: 0.5422001619738954\n",
      "-------------\n",
      "Using model: RandomForest\n",
      "Training Score: 0.9523909636481785\n",
      "Test Score: 0.6344270323212536\n",
      "confusion_matrix:\n",
      " [[2207  700]\n",
      " [ 793  384]]\n",
      "accuracy_score: 0.6344270323212536\n",
      "precision_score: 0.5449551045510455\n",
      "recall_score: 0.5427275562254296\n",
      "f1_score: 0.5427275562254296\n",
      "-------------\n",
      "Using model: eXtremeGradientBoosting\n",
      "Training Score: 0.876705783418065\n",
      "Test Score: 0.7093535749265426\n",
      "confusion_matrix:\n",
      " [[2655  252]\n",
      " [ 935  242]]\n",
      "accuracy_score: 0.7093535749265426\n",
      "precision_score: 0.614716430029434\n",
      "recall_score: 0.559460085066983\n",
      "f1_score: 0.559460085066983\n",
      "-------------\n",
      "Using model: KNN\n",
      "Training Score: 1.0\n",
      "Test Score: 0.5328109696376102\n",
      "confusion_matrix:\n",
      " [[1509 1398]\n",
      " [ 510  667]]\n",
      "accuracy_score: 0.5328109696376102\n",
      "precision_score: 0.5352010620653429\n",
      "recall_score: 0.5428934172604785\n",
      "f1_score: 0.5428934172604785\n",
      "-------------\n",
      "Using model: DecisionTree\n",
      "Training Score: 1.0\n",
      "Test Score: 0.6099412340842312\n",
      "confusion_matrix:\n",
      " [[2046  861]\n",
      " [ 732  445]]\n",
      "accuracy_score: 0.6099412340842312\n",
      "precision_score: 0.5386180744131588\n",
      "recall_score: 0.5409491167571084\n",
      "f1_score: 0.5409491167571084\n",
      "-------------\n",
      "Using model: ExtraTreeClassifier\n",
      "Training Score: 1.0\n",
      "Test Score: 0.614103819784525\n",
      "confusion_matrix:\n",
      " [[2197  710]\n",
      " [ 866  311]]\n",
      "accuracy_score: 0.614103819784525\n",
      "precision_score: 0.5109369898792033\n",
      "recall_score: 0.5099965249555829\n",
      "f1_score: 0.5099965249555829\n",
      "-------------\n"
     ]
    }
   ],
   "source": [
    "models = {\n",
    "    \"LogisticRegression\" : LogisticRegression(),\n",
    "    \"AdaBoost\" : AdaBoostClassifier(DecisionTreeClassifier(),n_estimators=10),\n",
    "    \"GradientBoosting\"      : GradientBoostingClassifier(),\n",
    "    \"BaggingClassifier\"  : BaggingClassifier(tree.DecisionTreeClassifier(random_state=1)),\n",
    "    \"RandomForest\"      : RandomForestClassifier(n_estimators=3),\n",
    "    \"eXtremeGradientBoosting\"     : XGBClassifier(objective= 'binary:logistic'),\n",
    "    \"KNN\"                : KNeighborsClassifier(n_neighbors = 30, weights = 'distance'),\n",
    "    \"DecisionTree\"      : DecisionTreeClassifier(),\n",
    "    \"ExtraTreeClassifier\"       : ExtraTreesClassifier(n_estimators=3)\n",
    "}\n",
    "\n",
    "\n",
    "for name, model in models.items():\n",
    "    \n",
    "\n",
    "    print(f'Using model: {name}')\n",
    "    model.fit(x_train, y_train)\n",
    "    joblib.dump(model,f'Saved Models/{name}.h5')\n",
    "    print(f'Training Score: {model.score(x_train, y_train)}')\n",
    "    \n",
    "    y_pred = model.predict(x_validation)\n",
    "    print(f'confusion_matrix:\\n {confusion_matrix(y_validation, y_pred)}')\n",
    "    print(f'accuracy_score: {accuracy_score(y_validation, y_pred)}')\n",
    "    print(f'precision_score: {precision_score(y_validation, y_pred,average=\"macro\")}')\n",
    "    print(f'recall_score: {recall_score(y_validation, y_pred,average=\"macro\")}')\n",
    "    print(f'f1_score: {recall_score(y_validation, y_pred,average=\"macro\")}')\n",
    "    print('-------------')"
   ]
  },
  {
   "cell_type": "code",
   "execution_count": 109,
   "id": "1d81f8ce",
   "metadata": {},
   "outputs": [
    {
     "name": "stderr",
     "output_type": "stream",
     "text": [
      "[I 2025-06-04 23:13:20,794] A new study created in memory with name: no-name-a251fd25-8c58-4cf2-aa95-40af99a52580\n",
      "[I 2025-06-04 23:13:21,830] Trial 0 finished with value: 0.26590909090909093 and parameters: {'max_depth': 11, 'min_samples_leaf': 6, 'min_samples_split': 2}. Best is trial 0 with value: 0.26590909090909093.\n",
      "[I 2025-06-04 23:13:22,991] Trial 1 finished with value: 0.34802158273381295 and parameters: {'max_depth': 20, 'min_samples_leaf': 19, 'min_samples_split': 15}. Best is trial 1 with value: 0.34802158273381295.\n",
      "[I 2025-06-04 23:13:24,128] Trial 2 finished with value: 0.34679981842941443 and parameters: {'max_depth': 28, 'min_samples_leaf': 22, 'min_samples_split': 22}. Best is trial 1 with value: 0.34802158273381295.\n",
      "[I 2025-06-04 23:13:24,446] Trial 3 finished with value: 0.43094672548354257 and parameters: {'max_depth': 3, 'min_samples_leaf': 3, 'min_samples_split': 11}. Best is trial 3 with value: 0.43094672548354257.\n",
      "[I 2025-06-04 23:13:25,673] Trial 4 finished with value: 0.3223684210526316 and parameters: {'max_depth': 17, 'min_samples_leaf': 3, 'min_samples_split': 22}. Best is trial 3 with value: 0.43094672548354257.\n",
      "[I 2025-06-04 23:13:25,890] Trial 5 finished with value: 0.0 and parameters: {'max_depth': 2, 'min_samples_leaf': 2, 'min_samples_split': 3}. Best is trial 3 with value: 0.43094672548354257.\n",
      "[I 2025-06-04 23:13:26,977] Trial 6 finished with value: 0.32489645651173493 and parameters: {'max_depth': 22, 'min_samples_leaf': 25, 'min_samples_split': 30}. Best is trial 3 with value: 0.43094672548354257.\n",
      "[I 2025-06-04 23:13:27,752] Trial 7 finished with value: 0.2520045819014891 and parameters: {'max_depth': 8, 'min_samples_leaf': 5, 'min_samples_split': 6}. Best is trial 3 with value: 0.43094672548354257.\n",
      "[I 2025-06-04 23:13:29,108] Trial 8 finished with value: 0.34506437768240344 and parameters: {'max_depth': 32, 'min_samples_leaf': 9, 'min_samples_split': 9}. Best is trial 3 with value: 0.43094672548354257.\n",
      "[I 2025-06-04 23:13:30,139] Trial 9 finished with value: 0.31388329979879276 and parameters: {'max_depth': 13, 'min_samples_leaf': 24, 'min_samples_split': 12}. Best is trial 3 with value: 0.43094672548354257.\n",
      "[I 2025-06-04 23:13:30,456] Trial 10 finished with value: 0.0 and parameters: {'max_depth': 2, 'min_samples_leaf': 13, 'min_samples_split': 19}. Best is trial 3 with value: 0.43094672548354257.\n",
      "[I 2025-06-04 23:13:31,556] Trial 11 finished with value: 0.318550309966619 and parameters: {'max_depth': 22, 'min_samples_leaf': 32, 'min_samples_split': 13}. Best is trial 3 with value: 0.43094672548354257.\n",
      "[I 2025-06-04 23:13:32,772] Trial 12 finished with value: 0.3370685791125056 and parameters: {'max_depth': 22, 'min_samples_leaf': 16, 'min_samples_split': 16}. Best is trial 3 with value: 0.43094672548354257.\n",
      "[I 2025-06-04 23:13:33,871] Trial 13 finished with value: 0.32045240339302544 and parameters: {'max_depth': 17, 'min_samples_leaf': 19, 'min_samples_split': 10}. Best is trial 3 with value: 0.43094672548354257.\n",
      "[I 2025-06-04 23:13:34,509] Trial 14 finished with value: 0.2367066895368782 and parameters: {'max_depth': 7, 'min_samples_leaf': 12, 'min_samples_split': 17}. Best is trial 3 with value: 0.43094672548354257.\n",
      "[I 2025-06-04 23:13:35,604] Trial 15 finished with value: 0.3226107226107226 and parameters: {'max_depth': 25, 'min_samples_leaf': 28, 'min_samples_split': 29}. Best is trial 3 with value: 0.43094672548354257.\n"
     ]
    },
    {
     "name": "stdout",
     "output_type": "stream",
     "text": [
      "Best hyperparameters: {'max_depth': 3, 'min_samples_leaf': 3, 'min_samples_split': 11}\n",
      "Best validation accuracy: 0.43094672548354257\n"
     ]
    }
   ],
   "source": [
    "def objective(trial):\n",
    "    # Suggest hyperparameters controlling complexity\n",
    "    max_depth = trial.suggest_int('max_depth', 2, 32)\n",
    "    min_samples_leaf = trial.suggest_int('min_samples_leaf', 1, 32)\n",
    "    min_samples_split = trial.suggest_int('min_samples_split', 2, 32)\n",
    "\n",
    "    # Create and train model\n",
    "    model = DecisionTreeClassifier(\n",
    "        max_depth=max_depth,\n",
    "        min_samples_leaf=min_samples_leaf,\n",
    "        min_samples_split=min_samples_split,\n",
    "        random_state=42\n",
    "    )\n",
    "    model.fit(x_train, y_train)\n",
    "\n",
    "    # Predict on validation set\n",
    "    preds = model.predict(x_validation)\n",
    "\n",
    "    # Use accuracy or another metric on validation set\n",
    "    f1 = f1_score(y_validation, preds)\n",
    "\n",
    "    # Optuna tries to maximize accuracy\n",
    "    return f1\n",
    "\n",
    "# Create study and optimize\n",
    "study = optuna.create_study(direction='maximize')\n",
    "study.optimize(objective, n_trials=16)\n",
    "\n",
    "print(\"Best hyperparameters:\", study.best_params)\n",
    "print(\"Best validation accuracy:\", study.best_value)\n"
   ]
  },
  {
   "cell_type": "code",
   "execution_count": 113,
   "id": "f104b96a",
   "metadata": {},
   "outputs": [
    {
     "data": {
      "application/vnd.jupyter.widget-view+json": {
       "model_id": "506c294778bf474fb91a1d9c582a07e9",
       "version_major": 2,
       "version_minor": 0
      },
      "text/plain": [
       "  0%|          | 0/32 [00:00<?, ?it/s]"
      ]
     },
     "metadata": {},
     "output_type": "display_data"
    }
   ],
   "source": [
    "\n",
    "clf = LazyClassifier(verbose=0, ignore_warnings=True)\n",
    "\n",
    "# Fit and evaluate models\n",
    "models, predictions = clf.fit(x_train, x_validation, y_train, y_validation)\n",
    "\n",
    "models"
   ]
  },
  {
   "cell_type": "code",
   "execution_count": 2,
   "id": "568338b7",
   "metadata": {},
   "outputs": [
    {
     "ename": "NameError",
     "evalue": "name 'models' is not defined",
     "output_type": "error",
     "traceback": [
      "\u001b[1;31m---------------------------------------------------------------------------\u001b[0m",
      "\u001b[1;31mNameError\u001b[0m                                 Traceback (most recent call last)",
      "\u001b[1;32mC:\\Users\\NOURKA~1\\AppData\\Local\\Temp/ipykernel_14984/3730071656.py\u001b[0m in \u001b[0;36m<module>\u001b[1;34m\u001b[0m\n\u001b[1;32m----> 1\u001b[1;33m \u001b[0mmodels\u001b[0m\u001b[1;33m\u001b[0m\u001b[1;33m\u001b[0m\u001b[0m\n\u001b[0m",
      "\u001b[1;31mNameError\u001b[0m: name 'models' is not defined"
     ]
    }
   ],
   "source": [
    "models"
   ]
  }
 ],
 "metadata": {
  "kernelspec": {
   "display_name": "Python 3 (ipykernel)",
   "language": "python",
   "name": "python3"
  },
  "language_info": {
   "codemirror_mode": {
    "name": "ipython",
    "version": 3
   },
   "file_extension": ".py",
   "mimetype": "text/x-python",
   "name": "python",
   "nbconvert_exporter": "python",
   "pygments_lexer": "ipython3",
   "version": "3.9.7"
  }
 },
 "nbformat": 4,
 "nbformat_minor": 5
}
