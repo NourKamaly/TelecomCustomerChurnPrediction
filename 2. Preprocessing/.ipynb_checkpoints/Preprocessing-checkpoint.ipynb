{
 "cells": [
  {
   "cell_type": "code",
   "execution_count": 34,
   "metadata": {},
   "outputs": [],
   "source": [
    "import pandas as pd,numpy as np, seaborn as sns, matplotlib.pyplot as plt, joblib\n",
    "from imblearn.over_sampling import RandomOverSampler\n",
    "from scipy import stats\n",
    "from sklearn.impute import KNNImputer\n",
    "from sklearn.tree import DecisionTreeClassifier\n",
    "from sklearn.model_selection import train_test_split, cross_val_score\n",
    "from xgboost import XGBClassifier\n",
    "from sklearn.metrics import classification_report, precision_score, recall_score, f1_score"
   ]
  },
  {
   "cell_type": "code",
   "execution_count": 2,
   "metadata": {},
   "outputs": [
    {
     "data": {
      "text/html": [
       "<div>\n",
       "<style scoped>\n",
       "    .dataframe tbody tr th:only-of-type {\n",
       "        vertical-align: middle;\n",
       "    }\n",
       "\n",
       "    .dataframe tbody tr th {\n",
       "        vertical-align: top;\n",
       "    }\n",
       "\n",
       "    .dataframe thead th {\n",
       "        text-align: right;\n",
       "    }\n",
       "</style>\n",
       "<table border=\"1\" class=\"dataframe\">\n",
       "  <thead>\n",
       "    <tr style=\"text-align: right;\">\n",
       "      <th></th>\n",
       "      <th>CustomerID</th>\n",
       "      <th>MonthlyRevenue</th>\n",
       "      <th>MonthlyMinutes</th>\n",
       "      <th>TotalRecurringCharge</th>\n",
       "      <th>DirectorAssistedCalls</th>\n",
       "      <th>OverageMinutes</th>\n",
       "      <th>RoamingCalls</th>\n",
       "      <th>PercChangeMinutes</th>\n",
       "      <th>PercChangeRevenues</th>\n",
       "      <th>DroppedCalls</th>\n",
       "      <th>...</th>\n",
       "      <th>IncomeGroup</th>\n",
       "      <th>OwnsMotorcycle</th>\n",
       "      <th>AdjustmentsToCreditRating</th>\n",
       "      <th>HandsetPrice</th>\n",
       "      <th>MadeCallToRetentionTeam</th>\n",
       "      <th>CreditRating</th>\n",
       "      <th>PrizmCode</th>\n",
       "      <th>Occupation</th>\n",
       "      <th>MaritalStatus</th>\n",
       "      <th>Churn</th>\n",
       "    </tr>\n",
       "  </thead>\n",
       "  <tbody>\n",
       "    <tr>\n",
       "      <th>0</th>\n",
       "      <td>3317770</td>\n",
       "      <td>39.79</td>\n",
       "      <td>234.0</td>\n",
       "      <td>55.0</td>\n",
       "      <td>0.25</td>\n",
       "      <td>0.0</td>\n",
       "      <td>1.7</td>\n",
       "      <td>31.0</td>\n",
       "      <td>8.8</td>\n",
       "      <td>6.7</td>\n",
       "      <td>...</td>\n",
       "      <td>0</td>\n",
       "      <td>No</td>\n",
       "      <td>0</td>\n",
       "      <td>Unknown</td>\n",
       "      <td>No</td>\n",
       "      <td>2-High</td>\n",
       "      <td>Suburban</td>\n",
       "      <td>Other</td>\n",
       "      <td>Unknown</td>\n",
       "      <td>No</td>\n",
       "    </tr>\n",
       "    <tr>\n",
       "      <th>1</th>\n",
       "      <td>3224894</td>\n",
       "      <td>60.19</td>\n",
       "      <td>551.0</td>\n",
       "      <td>60.0</td>\n",
       "      <td>0.74</td>\n",
       "      <td>0.0</td>\n",
       "      <td>0.3</td>\n",
       "      <td>-88.0</td>\n",
       "      <td>-10.2</td>\n",
       "      <td>2.7</td>\n",
       "      <td>...</td>\n",
       "      <td>7</td>\n",
       "      <td>No</td>\n",
       "      <td>0</td>\n",
       "      <td>150</td>\n",
       "      <td>No</td>\n",
       "      <td>2-High</td>\n",
       "      <td>Suburban</td>\n",
       "      <td>Crafts</td>\n",
       "      <td>Yes</td>\n",
       "      <td>No</td>\n",
       "    </tr>\n",
       "    <tr>\n",
       "      <th>2</th>\n",
       "      <td>3231266</td>\n",
       "      <td>85.41</td>\n",
       "      <td>642.0</td>\n",
       "      <td>28.0</td>\n",
       "      <td>0.25</td>\n",
       "      <td>134.0</td>\n",
       "      <td>0.0</td>\n",
       "      <td>129.0</td>\n",
       "      <td>22.8</td>\n",
       "      <td>29.7</td>\n",
       "      <td>...</td>\n",
       "      <td>4</td>\n",
       "      <td>No</td>\n",
       "      <td>0</td>\n",
       "      <td>Unknown</td>\n",
       "      <td>No</td>\n",
       "      <td>2-High</td>\n",
       "      <td>Suburban</td>\n",
       "      <td>Crafts</td>\n",
       "      <td>No</td>\n",
       "      <td>No</td>\n",
       "    </tr>\n",
       "    <tr>\n",
       "      <th>3</th>\n",
       "      <td>3184922</td>\n",
       "      <td>30.18</td>\n",
       "      <td>281.0</td>\n",
       "      <td>30.0</td>\n",
       "      <td>0.00</td>\n",
       "      <td>0.0</td>\n",
       "      <td>0.0</td>\n",
       "      <td>132.0</td>\n",
       "      <td>-0.2</td>\n",
       "      <td>4.0</td>\n",
       "      <td>...</td>\n",
       "      <td>3</td>\n",
       "      <td>No</td>\n",
       "      <td>0</td>\n",
       "      <td>150</td>\n",
       "      <td>No</td>\n",
       "      <td>3-Good</td>\n",
       "      <td>Suburban</td>\n",
       "      <td>Other</td>\n",
       "      <td>Unknown</td>\n",
       "      <td>Yes</td>\n",
       "    </tr>\n",
       "    <tr>\n",
       "      <th>4</th>\n",
       "      <td>3350054</td>\n",
       "      <td>179.29</td>\n",
       "      <td>1459.0</td>\n",
       "      <td>95.0</td>\n",
       "      <td>0.50</td>\n",
       "      <td>118.0</td>\n",
       "      <td>48.6</td>\n",
       "      <td>-1360.0</td>\n",
       "      <td>-77.0</td>\n",
       "      <td>21.7</td>\n",
       "      <td>...</td>\n",
       "      <td>4</td>\n",
       "      <td>No</td>\n",
       "      <td>0</td>\n",
       "      <td>Unknown</td>\n",
       "      <td>No</td>\n",
       "      <td>3-Good</td>\n",
       "      <td>Rural</td>\n",
       "      <td>Other</td>\n",
       "      <td>Unknown</td>\n",
       "      <td>Yes</td>\n",
       "    </tr>\n",
       "  </tbody>\n",
       "</table>\n",
       "<p>5 rows × 58 columns</p>\n",
       "</div>"
      ],
      "text/plain": [
       "   CustomerID  MonthlyRevenue  MonthlyMinutes  TotalRecurringCharge  \\\n",
       "0     3317770           39.79           234.0                  55.0   \n",
       "1     3224894           60.19           551.0                  60.0   \n",
       "2     3231266           85.41           642.0                  28.0   \n",
       "3     3184922           30.18           281.0                  30.0   \n",
       "4     3350054          179.29          1459.0                  95.0   \n",
       "\n",
       "   DirectorAssistedCalls  OverageMinutes  RoamingCalls  PercChangeMinutes  \\\n",
       "0                   0.25             0.0           1.7               31.0   \n",
       "1                   0.74             0.0           0.3              -88.0   \n",
       "2                   0.25           134.0           0.0              129.0   \n",
       "3                   0.00             0.0           0.0              132.0   \n",
       "4                   0.50           118.0          48.6            -1360.0   \n",
       "\n",
       "   PercChangeRevenues  DroppedCalls  ...  IncomeGroup  OwnsMotorcycle  \\\n",
       "0                 8.8           6.7  ...            0              No   \n",
       "1               -10.2           2.7  ...            7              No   \n",
       "2                22.8          29.7  ...            4              No   \n",
       "3                -0.2           4.0  ...            3              No   \n",
       "4               -77.0          21.7  ...            4              No   \n",
       "\n",
       "   AdjustmentsToCreditRating  HandsetPrice  MadeCallToRetentionTeam  \\\n",
       "0                          0       Unknown                       No   \n",
       "1                          0           150                       No   \n",
       "2                          0       Unknown                       No   \n",
       "3                          0           150                       No   \n",
       "4                          0       Unknown                       No   \n",
       "\n",
       "   CreditRating  PrizmCode  Occupation  MaritalStatus  Churn  \n",
       "0        2-High   Suburban       Other        Unknown     No  \n",
       "1        2-High   Suburban      Crafts            Yes     No  \n",
       "2        2-High   Suburban      Crafts             No     No  \n",
       "3        3-Good   Suburban       Other        Unknown    Yes  \n",
       "4        3-Good      Rural       Other        Unknown    Yes  \n",
       "\n",
       "[5 rows x 58 columns]"
      ]
     },
     "execution_count": 2,
     "metadata": {},
     "output_type": "execute_result"
    }
   ],
   "source": [
    "df = pd.read_csv('../0. Dataset/Training set after splitting.csv')\n",
    "df.head()"
   ]
  },
  {
   "cell_type": "code",
   "execution_count": 3,
   "metadata": {},
   "outputs": [
    {
     "data": {
      "text/plain": [
       "0"
      ]
     },
     "execution_count": 3,
     "metadata": {},
     "output_type": "execute_result"
    }
   ],
   "source": [
    "df.duplicated().sum()"
   ]
  },
  {
   "cell_type": "code",
   "execution_count": 4,
   "metadata": {},
   "outputs": [
    {
     "data": {
      "text/plain": [
       "Index(['CustomerID', 'MonthlyRevenue', 'MonthlyMinutes',\n",
       "       'TotalRecurringCharge', 'DirectorAssistedCalls', 'OverageMinutes',\n",
       "       'RoamingCalls', 'PercChangeMinutes', 'PercChangeRevenues',\n",
       "       'DroppedCalls', 'BlockedCalls', 'UnansweredCalls', 'CustomerCareCalls',\n",
       "       'ThreewayCalls', 'ReceivedCalls', 'OutboundCalls', 'InboundCalls',\n",
       "       'PeakCallsInOut', 'OffPeakCallsInOut', 'DroppedBlockedCalls',\n",
       "       'CallForwardingCalls', 'CallWaitingCalls', 'MonthsInService',\n",
       "       'UniqueSubs', 'ActiveSubs', 'ServiceArea', 'Handsets', 'HandsetModels',\n",
       "       'CurrentEquipmentDays', 'AgeHH1', 'AgeHH2', 'ChildrenInHH',\n",
       "       'HandsetRefurbished', 'HandsetWebCapable', 'TruckOwner', 'RVOwner',\n",
       "       'Homeownership', 'BuysViaMailOrder', 'RespondsToMailOffers',\n",
       "       'OptOutMailings', 'NonUSTravel', 'OwnsComputer', 'HasCreditCard',\n",
       "       'RetentionCalls', 'RetentionOffersAccepted', 'NewCellphoneUser',\n",
       "       'NotNewCellphoneUser', 'ReferralsMadeBySubscriber', 'IncomeGroup',\n",
       "       'OwnsMotorcycle', 'AdjustmentsToCreditRating', 'HandsetPrice',\n",
       "       'MadeCallToRetentionTeam', 'CreditRating', 'PrizmCode', 'Occupation',\n",
       "       'MaritalStatus', 'Churn'],\n",
       "      dtype='object')"
      ]
     },
     "execution_count": 4,
     "metadata": {},
     "output_type": "execute_result"
    }
   ],
   "source": [
    "df.columns"
   ]
  },
  {
   "cell_type": "code",
   "execution_count": 5,
   "metadata": {},
   "outputs": [
    {
     "data": {
      "text/plain": [
       "CustomerID                     int64\n",
       "MonthlyRevenue               float64\n",
       "MonthlyMinutes               float64\n",
       "TotalRecurringCharge         float64\n",
       "DirectorAssistedCalls        float64\n",
       "OverageMinutes               float64\n",
       "RoamingCalls                 float64\n",
       "PercChangeMinutes            float64\n",
       "PercChangeRevenues           float64\n",
       "DroppedCalls                 float64\n",
       "BlockedCalls                 float64\n",
       "UnansweredCalls              float64\n",
       "CustomerCareCalls            float64\n",
       "ThreewayCalls                float64\n",
       "ReceivedCalls                float64\n",
       "OutboundCalls                float64\n",
       "InboundCalls                 float64\n",
       "PeakCallsInOut               float64\n",
       "OffPeakCallsInOut            float64\n",
       "DroppedBlockedCalls          float64\n",
       "CallForwardingCalls          float64\n",
       "CallWaitingCalls             float64\n",
       "MonthsInService                int64\n",
       "UniqueSubs                     int64\n",
       "ActiveSubs                     int64\n",
       "ServiceArea                   object\n",
       "Handsets                     float64\n",
       "HandsetModels                float64\n",
       "CurrentEquipmentDays         float64\n",
       "AgeHH1                       float64\n",
       "AgeHH2                       float64\n",
       "ChildrenInHH                  object\n",
       "HandsetRefurbished            object\n",
       "HandsetWebCapable             object\n",
       "TruckOwner                    object\n",
       "RVOwner                       object\n",
       "Homeownership                 object\n",
       "BuysViaMailOrder              object\n",
       "RespondsToMailOffers          object\n",
       "OptOutMailings                object\n",
       "NonUSTravel                   object\n",
       "OwnsComputer                  object\n",
       "HasCreditCard                 object\n",
       "RetentionCalls                 int64\n",
       "RetentionOffersAccepted        int64\n",
       "NewCellphoneUser              object\n",
       "NotNewCellphoneUser           object\n",
       "ReferralsMadeBySubscriber      int64\n",
       "IncomeGroup                    int64\n",
       "OwnsMotorcycle                object\n",
       "AdjustmentsToCreditRating      int64\n",
       "HandsetPrice                  object\n",
       "MadeCallToRetentionTeam       object\n",
       "CreditRating                  object\n",
       "PrizmCode                     object\n",
       "Occupation                    object\n",
       "MaritalStatus                 object\n",
       "Churn                         object\n",
       "dtype: object"
      ]
     },
     "execution_count": 5,
     "metadata": {},
     "output_type": "execute_result"
    }
   ],
   "source": [
    "df.dtypes"
   ]
  },
  {
   "cell_type": "code",
   "execution_count": 8,
   "metadata": {},
   "outputs": [
    {
     "data": {
      "text/plain": [
       "CustomerID                     0\n",
       "MonthlyRevenue               120\n",
       "MonthlyMinutes               120\n",
       "TotalRecurringCharge         120\n",
       "DirectorAssistedCalls        120\n",
       "OverageMinutes               120\n",
       "RoamingCalls                 120\n",
       "PercChangeMinutes            290\n",
       "PercChangeRevenues           290\n",
       "DroppedCalls                   0\n",
       "BlockedCalls                   0\n",
       "UnansweredCalls                0\n",
       "CustomerCareCalls              0\n",
       "ThreewayCalls                  0\n",
       "ReceivedCalls                  0\n",
       "OutboundCalls                  0\n",
       "InboundCalls                   0\n",
       "PeakCallsInOut                 0\n",
       "OffPeakCallsInOut              0\n",
       "DroppedBlockedCalls            0\n",
       "CallForwardingCalls            0\n",
       "CallWaitingCalls               0\n",
       "MonthsInService                0\n",
       "UniqueSubs                     0\n",
       "ActiveSubs                     0\n",
       "ServiceArea                   21\n",
       "Handsets                       1\n",
       "HandsetModels                  1\n",
       "CurrentEquipmentDays           1\n",
       "AgeHH1                       716\n",
       "AgeHH2                       716\n",
       "ChildrenInHH                   0\n",
       "HandsetRefurbished             0\n",
       "HandsetWebCapable              0\n",
       "TruckOwner                     0\n",
       "RVOwner                        0\n",
       "Homeownership                  0\n",
       "BuysViaMailOrder               0\n",
       "RespondsToMailOffers           0\n",
       "OptOutMailings                 0\n",
       "NonUSTravel                    0\n",
       "OwnsComputer                   0\n",
       "HasCreditCard                  0\n",
       "RetentionCalls                 0\n",
       "RetentionOffersAccepted        0\n",
       "NewCellphoneUser               0\n",
       "NotNewCellphoneUser            0\n",
       "ReferralsMadeBySubscriber      0\n",
       "IncomeGroup                    0\n",
       "OwnsMotorcycle                 0\n",
       "AdjustmentsToCreditRating      0\n",
       "HandsetPrice                   0\n",
       "MadeCallToRetentionTeam        0\n",
       "CreditRating                   0\n",
       "PrizmCode                      0\n",
       "Occupation                     0\n",
       "MaritalStatus                  0\n",
       "Churn                          0\n",
       "dtype: int64"
      ]
     },
     "execution_count": 8,
     "metadata": {},
     "output_type": "execute_result"
    }
   ],
   "source": [
    "df.isna().sum()"
   ]
  },
  {
   "cell_type": "code",
   "execution_count": 6,
   "metadata": {},
   "outputs": [],
   "source": [
    "state_map = {\n",
    "        'NYC': 'New York', 'LAX': 'California', 'CHI': 'Illinois', 'HAR': 'Connecticut',\n",
    "        'DAL': 'Texas', 'SAN': 'Texas', 'MIA': 'Florida', 'MIL': 'Wisconsin', 'NCR': 'North Carolina',\n",
    "        'PHI': 'Pennsylvania', 'OKC': 'Oklahoma', 'MIN': 'Minnesota', 'OHI': 'Ohio', 'IND': 'Indiana',\n",
    "        'SFR': 'California', 'LOU': 'Kentucky', 'APC': 'Maryland', 'BOS': 'Massachusetts', 'NOL': 'Louisiana',\n",
    "        'SEA': 'Washington', 'DET': 'Michigan', 'PHX': 'Arizona', 'NEV': 'Nevada', 'OMA': 'Nebraska',\n",
    "        'NNY': 'New York', 'STL': 'Missouri', 'FLN': 'Florida', 'HOU': 'Texas', 'PIT': 'Pennsylvania',\n",
    "        'KCY': 'Kansas', 'ATL': 'Georgia', 'AIR': 'South Carolina', 'NMX': 'New Mexico', 'SHE': 'Virginia',\n",
    "        'LAU': 'Mississippi', 'SLC': 'Utah', 'HWI': 'Hawaii', 'NSH': 'Tennessee', 'BIR': 'Alabama',\n",
    "        'AWI': 'Wisconsin', 'DEN': 'Colorado', 'NOR': 'Minnesota', 'GCW': 'Mississippi', 'NVU': 'Nevada',\n",
    "        'LAW': 'Texas', 'VAH': 'Virginia', 'SDA': 'South Dakota', 'SEW': 'Oregon', 'HOP': 'Montana',\n",
    "        'SFU': 'California'\n",
    "    }\n",
    "\n",
    "def get_state(code):\n",
    "    if not isinstance(code, str) or len(code) < 3:\n",
    "        return np.nan\n",
    "    metro_code = code[:3] \n",
    "    if metro_code == 'SAN':\n",
    "        area_code = code[-3:] if len(code) >= 9 else ''\n",
    "        if area_code in ['512', '210', '830', '254', '361', '956']:  # Texas area codes\n",
    "            return 'Texas'\n",
    "        return 'California'  # Default for 'SAN' in other contexts \n",
    "    return state_map.get(metro_code, np.nan)\n",
    "\n",
    "def selectBestFeatures(df, target):\n",
    "    selected_features = []\n",
    "    for column in df.columns:\n",
    "        if column != target:\n",
    "            corr,pval = stats.pearsonr(df[column],df[target])\n",
    "            if pval < 0.05:\n",
    "                selected_features.append(column)\n",
    "            #print(\"'{column}' has correlation of '{corr}' and pvalue of '{pval}'\".format(column=column,corr=corr,pval=pval))\n",
    "    return selected_features\n",
    "\n",
    "def remove_outliers_using_IQR(df,column):\n",
    "    first_quartile, third_quartile = np.percentile(df[column],25), np.percentile(df[column],75)\n",
    "    IQR = third_quartile - first_quartile\n",
    "    floor = first_quartile - 1.5 * IQR\n",
    "    cieling = third_quartile + 1.5 * IQR\n",
    "    outlier_mask = (df[column] < floor) | (df[column] > cieling)\n",
    "    print()\n",
    "    df = df[~outlier_mask]\n",
    "    return df"
   ]
  },
  {
   "cell_type": "code",
   "execution_count": 7,
   "metadata": {},
   "outputs": [],
   "source": [
    "df.drop(columns=['CustomerID'],axis=1,inplace=True)\n",
    "df['HandsetPrice'] = df['HandsetPrice'].replace('Unknown', np.nan)\n",
    "df['HandsetPrice'] = pd.to_numeric(df['HandsetPrice'])\n",
    "df['MaritalStatus'] = df['MaritalStatus'].replace('Unknown', np.nan)\n",
    "\n",
    "yes_no_features = ['Churn','ChildrenInHH','HandsetRefurbished','HandsetWebCapable','TruckOwner','RVOwner','BuysViaMailOrder',\n",
    "     'RespondsToMailOffers','OptOutMailings','NonUSTravel','OwnsComputer','HasCreditCard','NewCellphoneUser','NotNewCellphoneUser',\n",
    "     'OwnsMotorcycle','MadeCallToRetentionTeam']\n",
    "\n",
    "keep_values = {'CreditRating': ['2-High','1-Highest','3-Good'], 'Occupation': ['Professional','Crafts'], \n",
    "               'PrizmCode': ['Suburban','Town'],'ServiceArea': ['Texas', 'New York', 'California', 'Florida',\n",
    "               'Maryland', 'Illinois','Georgia', 'Ohio', 'North Carolina', 'Nevada', 'Pennsylvania','Michigan', \n",
    "               'Massachusetts' ,'Washington', 'Kansas'] }\n",
    "\n",
    "for feature in yes_no_features:\n",
    "    df[feature] = [1 if value == 'Yes' else 0 for value in df[feature]]\n",
    "df['Homeownership'] = [1 if value == 'Known' else 0 for value in df['Homeownership']]\n",
    "df['ServiceArea'] = df['ServiceArea'].apply(lambda code: get_state(code))\n",
    "for feature, values in keep_values.items():\n",
    "    df[feature] = [value if value in values else 'Other' for value in df[feature]]\n",
    "df = pd.get_dummies(df,columns=['CreditRating','PrizmCode','Occupation','ServiceArea'])\n",
    "df['MaritalStatus'] = [1 if status == 'Yes' else 0 if status =='No' else np.nan for status in df['MaritalStatus']]"
   ]
  },
  {
   "cell_type": "code",
   "execution_count": 11,
   "metadata": {},
   "outputs": [
    {
     "data": {
      "text/html": [
       "<div>\n",
       "<style scoped>\n",
       "    .dataframe tbody tr th:only-of-type {\n",
       "        vertical-align: middle;\n",
       "    }\n",
       "\n",
       "    .dataframe tbody tr th {\n",
       "        vertical-align: top;\n",
       "    }\n",
       "\n",
       "    .dataframe thead th {\n",
       "        text-align: right;\n",
       "    }\n",
       "</style>\n",
       "<table border=\"1\" class=\"dataframe\">\n",
       "  <thead>\n",
       "    <tr style=\"text-align: right;\">\n",
       "      <th></th>\n",
       "      <th>MonthlyRevenue</th>\n",
       "      <th>MonthlyMinutes</th>\n",
       "      <th>TotalRecurringCharge</th>\n",
       "      <th>DirectorAssistedCalls</th>\n",
       "      <th>OverageMinutes</th>\n",
       "      <th>RoamingCalls</th>\n",
       "      <th>PercChangeMinutes</th>\n",
       "      <th>PercChangeRevenues</th>\n",
       "      <th>DroppedCalls</th>\n",
       "      <th>BlockedCalls</th>\n",
       "      <th>...</th>\n",
       "      <th>ServiceArea_Massachusetts</th>\n",
       "      <th>ServiceArea_Michigan</th>\n",
       "      <th>ServiceArea_Nevada</th>\n",
       "      <th>ServiceArea_New York</th>\n",
       "      <th>ServiceArea_North Carolina</th>\n",
       "      <th>ServiceArea_Ohio</th>\n",
       "      <th>ServiceArea_Other</th>\n",
       "      <th>ServiceArea_Pennsylvania</th>\n",
       "      <th>ServiceArea_Texas</th>\n",
       "      <th>ServiceArea_Washington</th>\n",
       "    </tr>\n",
       "  </thead>\n",
       "  <tbody>\n",
       "    <tr>\n",
       "      <th>0</th>\n",
       "      <td>39.79</td>\n",
       "      <td>234.0</td>\n",
       "      <td>55.0</td>\n",
       "      <td>0.25</td>\n",
       "      <td>0.0</td>\n",
       "      <td>1.7</td>\n",
       "      <td>31.0</td>\n",
       "      <td>8.8</td>\n",
       "      <td>6.7</td>\n",
       "      <td>0.7</td>\n",
       "      <td>...</td>\n",
       "      <td>False</td>\n",
       "      <td>False</td>\n",
       "      <td>False</td>\n",
       "      <td>False</td>\n",
       "      <td>False</td>\n",
       "      <td>False</td>\n",
       "      <td>False</td>\n",
       "      <td>False</td>\n",
       "      <td>False</td>\n",
       "      <td>False</td>\n",
       "    </tr>\n",
       "    <tr>\n",
       "      <th>1</th>\n",
       "      <td>60.19</td>\n",
       "      <td>551.0</td>\n",
       "      <td>60.0</td>\n",
       "      <td>0.74</td>\n",
       "      <td>0.0</td>\n",
       "      <td>0.3</td>\n",
       "      <td>-88.0</td>\n",
       "      <td>-10.2</td>\n",
       "      <td>2.7</td>\n",
       "      <td>32.7</td>\n",
       "      <td>...</td>\n",
       "      <td>False</td>\n",
       "      <td>False</td>\n",
       "      <td>False</td>\n",
       "      <td>False</td>\n",
       "      <td>False</td>\n",
       "      <td>False</td>\n",
       "      <td>False</td>\n",
       "      <td>False</td>\n",
       "      <td>False</td>\n",
       "      <td>False</td>\n",
       "    </tr>\n",
       "    <tr>\n",
       "      <th>2</th>\n",
       "      <td>85.41</td>\n",
       "      <td>642.0</td>\n",
       "      <td>28.0</td>\n",
       "      <td>0.25</td>\n",
       "      <td>134.0</td>\n",
       "      <td>0.0</td>\n",
       "      <td>129.0</td>\n",
       "      <td>22.8</td>\n",
       "      <td>29.7</td>\n",
       "      <td>0.0</td>\n",
       "      <td>...</td>\n",
       "      <td>False</td>\n",
       "      <td>False</td>\n",
       "      <td>False</td>\n",
       "      <td>True</td>\n",
       "      <td>False</td>\n",
       "      <td>False</td>\n",
       "      <td>False</td>\n",
       "      <td>False</td>\n",
       "      <td>False</td>\n",
       "      <td>False</td>\n",
       "    </tr>\n",
       "    <tr>\n",
       "      <th>3</th>\n",
       "      <td>30.18</td>\n",
       "      <td>281.0</td>\n",
       "      <td>30.0</td>\n",
       "      <td>0.00</td>\n",
       "      <td>0.0</td>\n",
       "      <td>0.0</td>\n",
       "      <td>132.0</td>\n",
       "      <td>-0.2</td>\n",
       "      <td>4.0</td>\n",
       "      <td>0.0</td>\n",
       "      <td>...</td>\n",
       "      <td>False</td>\n",
       "      <td>False</td>\n",
       "      <td>False</td>\n",
       "      <td>True</td>\n",
       "      <td>False</td>\n",
       "      <td>False</td>\n",
       "      <td>False</td>\n",
       "      <td>False</td>\n",
       "      <td>False</td>\n",
       "      <td>False</td>\n",
       "    </tr>\n",
       "    <tr>\n",
       "      <th>4</th>\n",
       "      <td>179.29</td>\n",
       "      <td>1459.0</td>\n",
       "      <td>95.0</td>\n",
       "      <td>0.50</td>\n",
       "      <td>118.0</td>\n",
       "      <td>48.6</td>\n",
       "      <td>-1360.0</td>\n",
       "      <td>-77.0</td>\n",
       "      <td>21.7</td>\n",
       "      <td>11.0</td>\n",
       "      <td>...</td>\n",
       "      <td>False</td>\n",
       "      <td>False</td>\n",
       "      <td>False</td>\n",
       "      <td>False</td>\n",
       "      <td>False</td>\n",
       "      <td>False</td>\n",
       "      <td>True</td>\n",
       "      <td>False</td>\n",
       "      <td>False</td>\n",
       "      <td>False</td>\n",
       "    </tr>\n",
       "  </tbody>\n",
       "</table>\n",
       "<p>5 rows × 79 columns</p>\n",
       "</div>"
      ],
      "text/plain": [
       "   MonthlyRevenue  MonthlyMinutes  TotalRecurringCharge  \\\n",
       "0           39.79           234.0                  55.0   \n",
       "1           60.19           551.0                  60.0   \n",
       "2           85.41           642.0                  28.0   \n",
       "3           30.18           281.0                  30.0   \n",
       "4          179.29          1459.0                  95.0   \n",
       "\n",
       "   DirectorAssistedCalls  OverageMinutes  RoamingCalls  PercChangeMinutes  \\\n",
       "0                   0.25             0.0           1.7               31.0   \n",
       "1                   0.74             0.0           0.3              -88.0   \n",
       "2                   0.25           134.0           0.0              129.0   \n",
       "3                   0.00             0.0           0.0              132.0   \n",
       "4                   0.50           118.0          48.6            -1360.0   \n",
       "\n",
       "   PercChangeRevenues  DroppedCalls  BlockedCalls  ...  \\\n",
       "0                 8.8           6.7           0.7  ...   \n",
       "1               -10.2           2.7          32.7  ...   \n",
       "2                22.8          29.7           0.0  ...   \n",
       "3                -0.2           4.0           0.0  ...   \n",
       "4               -77.0          21.7          11.0  ...   \n",
       "\n",
       "   ServiceArea_Massachusetts  ServiceArea_Michigan  ServiceArea_Nevada  \\\n",
       "0                      False                 False               False   \n",
       "1                      False                 False               False   \n",
       "2                      False                 False               False   \n",
       "3                      False                 False               False   \n",
       "4                      False                 False               False   \n",
       "\n",
       "   ServiceArea_New York  ServiceArea_North Carolina  ServiceArea_Ohio  \\\n",
       "0                 False                       False             False   \n",
       "1                 False                       False             False   \n",
       "2                  True                       False             False   \n",
       "3                  True                       False             False   \n",
       "4                 False                       False             False   \n",
       "\n",
       "   ServiceArea_Other  ServiceArea_Pennsylvania  ServiceArea_Texas  \\\n",
       "0              False                     False              False   \n",
       "1              False                     False              False   \n",
       "2              False                     False              False   \n",
       "3              False                     False              False   \n",
       "4               True                     False              False   \n",
       "\n",
       "   ServiceArea_Washington  \n",
       "0                   False  \n",
       "1                   False  \n",
       "2                   False  \n",
       "3                   False  \n",
       "4                   False  \n",
       "\n",
       "[5 rows x 79 columns]"
      ]
     },
     "execution_count": 11,
     "metadata": {},
     "output_type": "execute_result"
    }
   ],
   "source": [
    "df.head()"
   ]
  },
  {
   "cell_type": "code",
   "execution_count": null,
   "metadata": {},
   "outputs": [],
   "source": [
    "imputer = KNNImputer(weights = 'distance')\n",
    "imputer.fit(df.drop(columns=['Churn'],axis=1))\n",
    "joblib.dump(imputer,'NullImputer.h5')"
   ]
  },
  {
   "cell_type": "code",
   "execution_count": 8,
   "metadata": {},
   "outputs": [],
   "source": [
    "imputer = joblib.load('NullImputer.h5')\n",
    "imputed_df = imputer.transform(df.drop(columns=['Churn'],axis=1))\n",
    "imputed_df = pd.DataFrame(imputed_df, columns= df.drop(columns=['Churn']).columns)\n",
    "imputed_df['Churn'] = df['Churn']"
   ]
  },
  {
   "cell_type": "code",
   "execution_count": 9,
   "metadata": {},
   "outputs": [],
   "source": [
    "selected_features = selectBestFeatures(imputed_df, 'Churn')"
   ]
  },
  {
   "cell_type": "code",
   "execution_count": 10,
   "metadata": {},
   "outputs": [
    {
     "data": {
      "text/plain": [
       "51"
      ]
     },
     "execution_count": 10,
     "metadata": {},
     "output_type": "execute_result"
    }
   ],
   "source": [
    "len(selected_features)"
   ]
  },
  {
   "cell_type": "code",
   "execution_count": 15,
   "metadata": {},
   "outputs": [
    {
     "data": {
      "text/plain": [
       "['MonthlyRevenue',\n",
       " 'MonthlyMinutes',\n",
       " 'TotalRecurringCharge',\n",
       " 'DirectorAssistedCalls',\n",
       " 'OverageMinutes',\n",
       " 'RoamingCalls',\n",
       " 'PercChangeMinutes',\n",
       " 'PercChangeRevenues',\n",
       " 'DroppedCalls',\n",
       " 'UnansweredCalls',\n",
       " 'CustomerCareCalls',\n",
       " 'ThreewayCalls',\n",
       " 'ReceivedCalls',\n",
       " 'OutboundCalls',\n",
       " 'InboundCalls',\n",
       " 'PeakCallsInOut',\n",
       " 'OffPeakCallsInOut',\n",
       " 'CallWaitingCalls',\n",
       " 'MonthsInService',\n",
       " 'UniqueSubs',\n",
       " 'ActiveSubs',\n",
       " 'Handsets',\n",
       " 'HandsetModels',\n",
       " 'CurrentEquipmentDays',\n",
       " 'AgeHH1',\n",
       " 'AgeHH2',\n",
       " 'HandsetRefurbished',\n",
       " 'HandsetWebCapable',\n",
       " 'Homeownership',\n",
       " 'BuysViaMailOrder',\n",
       " 'RespondsToMailOffers',\n",
       " 'RetentionCalls',\n",
       " 'RetentionOffersAccepted',\n",
       " 'NotNewCellphoneUser',\n",
       " 'IncomeGroup',\n",
       " 'AdjustmentsToCreditRating',\n",
       " 'HandsetPrice',\n",
       " 'MadeCallToRetentionTeam',\n",
       " 'CreditRating_1-Highest',\n",
       " 'CreditRating_2-High',\n",
       " 'CreditRating_3-Good',\n",
       " 'CreditRating_Other',\n",
       " 'PrizmCode_Suburban',\n",
       " 'PrizmCode_Town',\n",
       " 'ServiceArea_Florida',\n",
       " 'ServiceArea_Kansas',\n",
       " 'ServiceArea_Maryland',\n",
       " 'ServiceArea_Michigan',\n",
       " 'ServiceArea_Ohio',\n",
       " 'ServiceArea_Texas',\n",
       " 'ServiceArea_Washington']"
      ]
     },
     "execution_count": 15,
     "metadata": {},
     "output_type": "execute_result"
    }
   ],
   "source": [
    "selected_features"
   ]
  },
  {
   "cell_type": "code",
   "execution_count": 24,
   "metadata": {},
   "outputs": [],
   "source": [
    "labels = imputed_df['Churn']\n",
    "features = imputed_df[selected_features]"
   ]
  },
  {
   "cell_type": "code",
   "execution_count": 25,
   "metadata": {},
   "outputs": [
    {
     "data": {
      "text/plain": [
       "(40837,)"
      ]
     },
     "execution_count": 25,
     "metadata": {},
     "output_type": "execute_result"
    }
   ],
   "source": [
    "labels.shape"
   ]
  },
  {
   "cell_type": "code",
   "execution_count": 26,
   "metadata": {},
   "outputs": [
    {
     "data": {
      "text/plain": [
       "(40837, 51)"
      ]
     },
     "execution_count": 26,
     "metadata": {},
     "output_type": "execute_result"
    }
   ],
   "source": [
    "features.shape"
   ]
  },
  {
   "cell_type": "code",
   "execution_count": 44,
   "metadata": {},
   "outputs": [
    {
     "name": "stderr",
     "output_type": "stream",
     "text": [
      "C:\\Users\\Nour Kamaly\\anaconda3\\lib\\site-packages\\sklearn\\base.py:484: FutureWarning: `BaseEstimator._check_n_features` is deprecated in 1.6 and will be removed in 1.7. Use `sklearn.utils.validation._check_n_features` instead.\n",
      "  warnings.warn(\n",
      "C:\\Users\\Nour Kamaly\\anaconda3\\lib\\site-packages\\sklearn\\base.py:493: FutureWarning: `BaseEstimator._check_feature_names` is deprecated in 1.6 and will be removed in 1.7. Use `sklearn.utils.validation._check_feature_names` instead.\n",
      "  warnings.warn(\n"
     ]
    }
   ],
   "source": [
    "ros = RandomOverSampler(random_state=42)\n",
    "\n",
    "# Apply SMOTE to oversample the minority class\n",
    "features,labels = ros.fit_resample(features, labels)\n",
    "\n",
    "x_train, x_test, y_train, y_test = train_test_split(features, labels, test_size=0.1, random_state=42, stratify = labels)"
   ]
  },
  {
   "cell_type": "code",
   "execution_count": 35,
   "metadata": {},
   "outputs": [
    {
     "name": "stdout",
     "output_type": "stream",
     "text": [
      "              precision    recall  f1-score   support\n",
      "\n",
      "           0       0.75      0.69      0.72      2907\n",
      "           1       0.72      0.77      0.74      2907\n",
      "\n",
      "    accuracy                           0.73      5814\n",
      "   macro avg       0.74      0.73      0.73      5814\n",
      "weighted avg       0.74      0.73      0.73      5814\n",
      "\n",
      "\n",
      "Precision:0.7169270003187759\n",
      "Recall:0.7736498108015136\n",
      "F1 Score:0.7442091330244871\n"
     ]
    }
   ],
   "source": [
    "xgb_classifier = XGBClassifier(n_estimators= 100)\n",
    "xgb_classifier.fit(X_train,y_train)\n",
    "\n",
    "prediction = xgb_classifier.predict(X_test)\n",
    "print(classification_report(y_test,prediction))\n",
    "print()\n",
    "\n",
    "print(\"Precision:{}\".format(precision_score(y_test,prediction)))\n",
    "print(\"Recall:{}\".format(recall_score(y_test,prediction)))\n",
    "print(\"F1 Score:{}\".format((f1_score(y_test,prediction))))"
   ]
  },
  {
   "cell_type": "code",
   "execution_count": null,
   "metadata": {},
   "outputs": [],
   "source": []
  },
  {
   "cell_type": "code",
   "execution_count": 38,
   "metadata": {},
   "outputs": [
    {
     "data": {
      "text/plain": [
       "['xgb_classifierRandomSampler.h5']"
      ]
     },
     "execution_count": 38,
     "metadata": {},
     "output_type": "execute_result"
    }
   ],
   "source": [
    "joblib.dump(xgb_classifier,'xgb_classifierRandomSampler.h5')"
   ]
  },
  {
   "cell_type": "code",
   "execution_count": 37,
   "metadata": {},
   "outputs": [
    {
     "data": {
      "text/plain": [
       "(52322, 51)"
      ]
     },
     "execution_count": 37,
     "metadata": {},
     "output_type": "execute_result"
    }
   ],
   "source": [
    "X_train.shape"
   ]
  },
  {
   "cell_type": "code",
   "execution_count": 130,
   "metadata": {},
   "outputs": [],
   "source": [
    "imputed_df = imputed_df[selected_features]\n",
    "imputed_df['Churn'] = df['Churn']\n",
    "imputed_df.to_csv('Processed data.csv',index=False)"
   ]
  },
  {
   "cell_type": "code",
   "execution_count": 41,
   "metadata": {},
   "outputs": [],
   "source": [
    "import pandas as pd,numpy as np, joblib, optuna\n",
    "from imblearn.over_sampling import SMOTE\n",
    "from sklearn.impute import KNNImputer\n",
    "from sklearn.ensemble import BaggingClassifier,GradientBoostingClassifier, RandomForestClassifier,AdaBoostClassifier,ExtraTreesClassifier\n",
    "from sklearn import tree\n",
    "from sklearn.linear_model import SGDClassifier,RidgeClassifier\n",
    "from xgboost import XGBClassifier\n",
    "from sklearn.neighbors import KNeighborsClassifier\n",
    "from sklearn.naive_bayes import MultinomialNB,GaussianNB,GaussianNB\n",
    "from sklearn.tree import DecisionTreeClassifier\n",
    "from sklearn.linear_model import LogisticRegression\n",
    "from sklearn.model_selection import train_test_split, cross_val_score\n",
    "from sklearn.metrics import accuracy_score,precision_score,recall_score,f1_score, confusion_matrix"
   ]
  },
  {
   "cell_type": "code",
   "execution_count": null,
   "metadata": {},
   "outputs": [],
   "source": []
  },
  {
   "cell_type": "code",
   "execution_count": 46,
   "metadata": {},
   "outputs": [],
   "source": [
    "def create_metrics_table(model_name, y_train, y_train_predictions, truth, predictions, train_support, validation_support):\n",
    "    precision_per_label = precision_score(truth, predictions, average=None)\n",
    "    recall_per_label = recall_score(truth, predictions, average=None)\n",
    "    f1_per_label = f1_score(truth, predictions, average=None)\n",
    "\n",
    "    precision_per_label_train = precision_score(y_train, y_train_predictions, average=None)\n",
    "    recall_per_label_train = recall_score(y_train, y_train_predictions, average=None)\n",
    "\n",
    "    metrics = pd.DataFrame(columns=['Model', 'Training Precision', 'Training Recall', 'Train Support',\n",
    "                                    'Validation Precision', 'Validation Recall', 'Validation F1 Score'],\n",
    "                           index=range(len(precision_per_label)))\n",
    "\n",
    "    for index in range(len(precision_per_label)):\n",
    "        metrics.at[index, 'Training Precision'] = precision_per_label_train[index]\n",
    "        metrics.at[index, 'Training Recall'] = recall_per_label_train[index]\n",
    "        metrics.at[index, 'Train Support'] = train_support[index]\n",
    "        metrics.at[index, 'Validation Support'] = validation_support[index]\n",
    "        metrics.at[index, 'Validation Precision'] = precision_per_label[index]\n",
    "        metrics.at[index, 'Validation Recall'] = recall_per_label[index]\n",
    "        metrics.at[index, 'Validation F1 Score'] = f1_per_label[index]\n",
    "\n",
    "    metrics['Model'] = model_name\n",
    "    return metrics"
   ]
  },
  {
   "cell_type": "code",
   "execution_count": 51,
   "metadata": {},
   "outputs": [],
   "source": [
    "from collections import Counter\n",
    "train_support = Counter(y_train)\n",
    "validation_support = Counter(y_test)"
   ]
  },
  {
   "cell_type": "code",
   "execution_count": 52,
   "metadata": {},
   "outputs": [
    {
     "name": "stdout",
     "output_type": "stream",
     "text": [
      "Using model: LogisticRegression\n"
     ]
    },
    {
     "name": "stderr",
     "output_type": "stream",
     "text": [
      "C:\\Users\\Nour Kamaly\\anaconda3\\lib\\site-packages\\sklearn\\linear_model\\_logistic.py:465: ConvergenceWarning: lbfgs failed to converge (status=1):\n",
      "STOP: TOTAL NO. of ITERATIONS REACHED LIMIT.\n",
      "\n",
      "Increase the number of iterations (max_iter) or scale the data as shown in:\n",
      "    https://scikit-learn.org/stable/modules/preprocessing.html\n",
      "Please also refer to the documentation for alternative solver options:\n",
      "    https://scikit-learn.org/stable/modules/linear_model.html#logistic-regression\n",
      "  n_iter_i = _check_optimize_result(\n"
     ]
    },
    {
     "name": "stdout",
     "output_type": "stream",
     "text": [
      "Using model: AdaBoost\n",
      "Using model: GradientBoosting\n",
      "Using model: BaggingClassifier\n",
      "Using model: RandomForest\n",
      "Using model: eXtremeGradientBoosting\n",
      "Using model: KNN\n",
      "Using model: DecisionTree\n",
      "Using model: ExtraTreeClassifier\n"
     ]
    }
   ],
   "source": [
    "models = {\n",
    "    \"LogisticRegression\" : LogisticRegression(),\n",
    "    \"AdaBoost\" : AdaBoostClassifier(DecisionTreeClassifier(),n_estimators=10),\n",
    "    \"GradientBoosting\"      : GradientBoostingClassifier(),\n",
    "    \"BaggingClassifier\"  : BaggingClassifier(tree.DecisionTreeClassifier(random_state=1)),\n",
    "    \"RandomForest\"      : RandomForestClassifier(n_estimators=3),\n",
    "    \"eXtremeGradientBoosting\"     : XGBClassifier(objective= 'binary:logistic'),\n",
    "    \"KNN\"                : KNeighborsClassifier(n_neighbors = 30, weights = 'distance'),\n",
    "    \"DecisionTree\"      : DecisionTreeClassifier(),\n",
    "    \"ExtraTreeClassifier\"       : ExtraTreesClassifier(n_estimators=3)\n",
    "}\n",
    "metrics = pd.DataFrame()\n",
    "for name, model in models.items():\n",
    "    \n",
    "\n",
    "    print(f'Using model: {name}')\n",
    "    model.fit(x_train, y_train)\n",
    "    #joblib.dump(model,f'Saved Models/{name}.h5')\n",
    "    y_train_predictions = model.predict(x_train)\n",
    "    predictions = model.predict(x_test)\n",
    "    metrics = pd.concat([metrics,create_metrics_table(name,y_train,y_train_predictions,y_test, predictions, train_support,validation_support)])"
   ]
  },
  {
   "cell_type": "code",
   "execution_count": 53,
   "metadata": {},
   "outputs": [
    {
     "data": {
      "text/html": [
       "<div>\n",
       "<style scoped>\n",
       "    .dataframe tbody tr th:only-of-type {\n",
       "        vertical-align: middle;\n",
       "    }\n",
       "\n",
       "    .dataframe tbody tr th {\n",
       "        vertical-align: top;\n",
       "    }\n",
       "\n",
       "    .dataframe thead th {\n",
       "        text-align: right;\n",
       "    }\n",
       "</style>\n",
       "<table border=\"1\" class=\"dataframe\">\n",
       "  <thead>\n",
       "    <tr style=\"text-align: right;\">\n",
       "      <th></th>\n",
       "      <th>Model</th>\n",
       "      <th>Training Precision</th>\n",
       "      <th>Training Recall</th>\n",
       "      <th>Train Support</th>\n",
       "      <th>Validation Precision</th>\n",
       "      <th>Validation Recall</th>\n",
       "      <th>Validation F1 Score</th>\n",
       "      <th>Validation Support</th>\n",
       "    </tr>\n",
       "  </thead>\n",
       "  <tbody>\n",
       "    <tr>\n",
       "      <th>0</th>\n",
       "      <td>LogisticRegression</td>\n",
       "      <td>0.578778</td>\n",
       "      <td>0.558159</td>\n",
       "      <td>26161</td>\n",
       "      <td>0.592901</td>\n",
       "      <td>0.563123</td>\n",
       "      <td>0.577629</td>\n",
       "      <td>2907.0</td>\n",
       "    </tr>\n",
       "    <tr>\n",
       "      <th>1</th>\n",
       "      <td>LogisticRegression</td>\n",
       "      <td>0.573358</td>\n",
       "      <td>0.593785</td>\n",
       "      <td>26161</td>\n",
       "      <td>0.584016</td>\n",
       "      <td>0.613347</td>\n",
       "      <td>0.598322</td>\n",
       "      <td>2907.0</td>\n",
       "    </tr>\n",
       "    <tr>\n",
       "      <th>0</th>\n",
       "      <td>AdaBoost</td>\n",
       "      <td>1.0</td>\n",
       "      <td>1.0</td>\n",
       "      <td>26161</td>\n",
       "      <td>0.898363</td>\n",
       "      <td>0.717578</td>\n",
       "      <td>0.797858</td>\n",
       "      <td>2907.0</td>\n",
       "    </tr>\n",
       "    <tr>\n",
       "      <th>1</th>\n",
       "      <td>AdaBoost</td>\n",
       "      <td>1.0</td>\n",
       "      <td>1.0</td>\n",
       "      <td>26161</td>\n",
       "      <td>0.764891</td>\n",
       "      <td>0.918817</td>\n",
       "      <td>0.834818</td>\n",
       "      <td>2907.0</td>\n",
       "    </tr>\n",
       "    <tr>\n",
       "      <th>0</th>\n",
       "      <td>GradientBoosting</td>\n",
       "      <td>0.661928</td>\n",
       "      <td>0.596269</td>\n",
       "      <td>26161</td>\n",
       "      <td>0.6504</td>\n",
       "      <td>0.55934</td>\n",
       "      <td>0.601443</td>\n",
       "      <td>2907.0</td>\n",
       "    </tr>\n",
       "    <tr>\n",
       "      <th>1</th>\n",
       "      <td>GradientBoosting</td>\n",
       "      <td>0.632703</td>\n",
       "      <td>0.695463</td>\n",
       "      <td>26161</td>\n",
       "      <td>0.613458</td>\n",
       "      <td>0.699346</td>\n",
       "      <td>0.653593</td>\n",
       "      <td>2907.0</td>\n",
       "    </tr>\n",
       "    <tr>\n",
       "      <th>0</th>\n",
       "      <td>BaggingClassifier</td>\n",
       "      <td>0.993418</td>\n",
       "      <td>0.998012</td>\n",
       "      <td>26161</td>\n",
       "      <td>0.880602</td>\n",
       "      <td>0.844857</td>\n",
       "      <td>0.86236</td>\n",
       "      <td>2907.0</td>\n",
       "    </tr>\n",
       "    <tr>\n",
       "      <th>1</th>\n",
       "      <td>BaggingClassifier</td>\n",
       "      <td>0.998003</td>\n",
       "      <td>0.993387</td>\n",
       "      <td>26161</td>\n",
       "      <td>0.850909</td>\n",
       "      <td>0.885449</td>\n",
       "      <td>0.867835</td>\n",
       "      <td>2907.0</td>\n",
       "    </tr>\n",
       "    <tr>\n",
       "      <th>0</th>\n",
       "      <td>RandomForest</td>\n",
       "      <td>0.976856</td>\n",
       "      <td>0.953519</td>\n",
       "      <td>26161</td>\n",
       "      <td>0.855456</td>\n",
       "      <td>0.722738</td>\n",
       "      <td>0.783517</td>\n",
       "      <td>2907.0</td>\n",
       "    </tr>\n",
       "    <tr>\n",
       "      <th>1</th>\n",
       "      <td>RandomForest</td>\n",
       "      <td>0.954603</td>\n",
       "      <td>0.977409</td>\n",
       "      <td>26161</td>\n",
       "      <td>0.759976</td>\n",
       "      <td>0.877881</td>\n",
       "      <td>0.814685</td>\n",
       "      <td>2907.0</td>\n",
       "    </tr>\n",
       "    <tr>\n",
       "      <th>0</th>\n",
       "      <td>eXtremeGradientBoosting</td>\n",
       "      <td>0.84666</td>\n",
       "      <td>0.816788</td>\n",
       "      <td>26161</td>\n",
       "      <td>0.754202</td>\n",
       "      <td>0.69453</td>\n",
       "      <td>0.723138</td>\n",
       "      <td>2907.0</td>\n",
       "    </tr>\n",
       "    <tr>\n",
       "      <th>1</th>\n",
       "      <td>eXtremeGradientBoosting</td>\n",
       "      <td>0.823032</td>\n",
       "      <td>0.85207</td>\n",
       "      <td>26161</td>\n",
       "      <td>0.716927</td>\n",
       "      <td>0.77365</td>\n",
       "      <td>0.744209</td>\n",
       "      <td>2907.0</td>\n",
       "    </tr>\n",
       "    <tr>\n",
       "      <th>0</th>\n",
       "      <td>KNN</td>\n",
       "      <td>1.0</td>\n",
       "      <td>1.0</td>\n",
       "      <td>26161</td>\n",
       "      <td>0.915839</td>\n",
       "      <td>0.602683</td>\n",
       "      <td>0.726971</td>\n",
       "      <td>2907.0</td>\n",
       "    </tr>\n",
       "    <tr>\n",
       "      <th>1</th>\n",
       "      <td>KNN</td>\n",
       "      <td>1.0</td>\n",
       "      <td>1.0</td>\n",
       "      <td>26161</td>\n",
       "      <td>0.703922</td>\n",
       "      <td>0.944616</td>\n",
       "      <td>0.806698</td>\n",
       "      <td>2907.0</td>\n",
       "    </tr>\n",
       "    <tr>\n",
       "      <th>0</th>\n",
       "      <td>DecisionTree</td>\n",
       "      <td>1.0</td>\n",
       "      <td>1.0</td>\n",
       "      <td>26161</td>\n",
       "      <td>0.900258</td>\n",
       "      <td>0.72033</td>\n",
       "      <td>0.800306</td>\n",
       "      <td>2907.0</td>\n",
       "    </tr>\n",
       "    <tr>\n",
       "      <th>1</th>\n",
       "      <td>DecisionTree</td>\n",
       "      <td>1.0</td>\n",
       "      <td>1.0</td>\n",
       "      <td>26161</td>\n",
       "      <td>0.766915</td>\n",
       "      <td>0.920193</td>\n",
       "      <td>0.836591</td>\n",
       "      <td>2907.0</td>\n",
       "    </tr>\n",
       "    <tr>\n",
       "      <th>0</th>\n",
       "      <td>ExtraTreeClassifier</td>\n",
       "      <td>1.0</td>\n",
       "      <td>1.0</td>\n",
       "      <td>26161</td>\n",
       "      <td>0.89262</td>\n",
       "      <td>0.786378</td>\n",
       "      <td>0.836138</td>\n",
       "      <td>2907.0</td>\n",
       "    </tr>\n",
       "    <tr>\n",
       "      <th>1</th>\n",
       "      <td>ExtraTreeClassifier</td>\n",
       "      <td>1.0</td>\n",
       "      <td>1.0</td>\n",
       "      <td>26161</td>\n",
       "      <td>0.809099</td>\n",
       "      <td>0.905401</td>\n",
       "      <td>0.854545</td>\n",
       "      <td>2907.0</td>\n",
       "    </tr>\n",
       "  </tbody>\n",
       "</table>\n",
       "</div>"
      ],
      "text/plain": [
       "                     Model Training Precision Training Recall Train Support  \\\n",
       "0       LogisticRegression           0.578778        0.558159         26161   \n",
       "1       LogisticRegression           0.573358        0.593785         26161   \n",
       "0                 AdaBoost                1.0             1.0         26161   \n",
       "1                 AdaBoost                1.0             1.0         26161   \n",
       "0         GradientBoosting           0.661928        0.596269         26161   \n",
       "1         GradientBoosting           0.632703        0.695463         26161   \n",
       "0        BaggingClassifier           0.993418        0.998012         26161   \n",
       "1        BaggingClassifier           0.998003        0.993387         26161   \n",
       "0             RandomForest           0.976856        0.953519         26161   \n",
       "1             RandomForest           0.954603        0.977409         26161   \n",
       "0  eXtremeGradientBoosting            0.84666        0.816788         26161   \n",
       "1  eXtremeGradientBoosting           0.823032         0.85207         26161   \n",
       "0                      KNN                1.0             1.0         26161   \n",
       "1                      KNN                1.0             1.0         26161   \n",
       "0             DecisionTree                1.0             1.0         26161   \n",
       "1             DecisionTree                1.0             1.0         26161   \n",
       "0      ExtraTreeClassifier                1.0             1.0         26161   \n",
       "1      ExtraTreeClassifier                1.0             1.0         26161   \n",
       "\n",
       "  Validation Precision Validation Recall Validation F1 Score  \\\n",
       "0             0.592901          0.563123            0.577629   \n",
       "1             0.584016          0.613347            0.598322   \n",
       "0             0.898363          0.717578            0.797858   \n",
       "1             0.764891          0.918817            0.834818   \n",
       "0               0.6504           0.55934            0.601443   \n",
       "1             0.613458          0.699346            0.653593   \n",
       "0             0.880602          0.844857             0.86236   \n",
       "1             0.850909          0.885449            0.867835   \n",
       "0             0.855456          0.722738            0.783517   \n",
       "1             0.759976          0.877881            0.814685   \n",
       "0             0.754202           0.69453            0.723138   \n",
       "1             0.716927           0.77365            0.744209   \n",
       "0             0.915839          0.602683            0.726971   \n",
       "1             0.703922          0.944616            0.806698   \n",
       "0             0.900258           0.72033            0.800306   \n",
       "1             0.766915          0.920193            0.836591   \n",
       "0              0.89262          0.786378            0.836138   \n",
       "1             0.809099          0.905401            0.854545   \n",
       "\n",
       "   Validation Support  \n",
       "0              2907.0  \n",
       "1              2907.0  \n",
       "0              2907.0  \n",
       "1              2907.0  \n",
       "0              2907.0  \n",
       "1              2907.0  \n",
       "0              2907.0  \n",
       "1              2907.0  \n",
       "0              2907.0  \n",
       "1              2907.0  \n",
       "0              2907.0  \n",
       "1              2907.0  \n",
       "0              2907.0  \n",
       "1              2907.0  \n",
       "0              2907.0  \n",
       "1              2907.0  \n",
       "0              2907.0  \n",
       "1              2907.0  "
      ]
     },
     "execution_count": 53,
     "metadata": {},
     "output_type": "execute_result"
    }
   ],
   "source": [
    "metrics"
   ]
  },
  {
   "cell_type": "code",
   "execution_count": 54,
   "metadata": {},
   "outputs": [],
   "source": [
    "import numpy as np\n",
    "import pandas as pd\n",
    "import matplotlib.pyplot as plt\n",
    "import seaborn as sns\n",
    "from sklearn.model_selection import train_test_split, StratifiedKFold\n",
    "from sklearn.preprocessing import LabelEncoder, MinMaxScaler\n",
    "from sklearn.impute import SimpleImputer\n",
    "from sklearn.feature_selection import SelectFromModel\n",
    "from sklearn.linear_model import Lasso\n",
    "from tensorflow.keras.models import Sequential\n",
    "from tensorflow.keras.layers import Dense, Dropout\n",
    "from tensorflow.keras.callbacks import EarlyStopping, ModelCheckpoint\n"
   ]
  },
  {
   "cell_type": "code",
   "execution_count": 55,
   "metadata": {},
   "outputs": [
    {
     "name": "stderr",
     "output_type": "stream",
     "text": [
      "C:\\Users\\Nour Kamaly\\anaconda3\\lib\\site-packages\\keras\\src\\layers\\core\\dense.py:93: UserWarning: Do not pass an `input_shape`/`input_dim` argument to a layer. When using Sequential models, prefer using an `Input(shape)` object as the first layer in the model instead.\n",
      "  super().__init__(activity_regularizer=activity_regularizer, **kwargs)\n"
     ]
    }
   ],
   "source": [
    "model = Sequential([\n",
    "    Dense(250, activation=\"relu\", input_shape=(x_train.shape[1],)),\n",
    "    Dropout(0.2),\n",
    "    Dense(250, activation=\"relu\"),\n",
    "    Dropout(0.2),\n",
    "    Dense(1, activation=\"sigmoid\")\n",
    "])\n",
    "\n",
    "# Compile model\n",
    "model.compile(optimizer=\"adam\", loss=\"binary_crossentropy\", metrics=[\"accuracy\"])\n",
    "\n",
    "# Early stopping and checkpoint\n",
    "early_stopping = EarlyStopping(monitor=\"val_loss\", patience=10, restore_best_weights=True)\n",
    "checkpoint = ModelCheckpoint(\"best_model.h5\", save_best_only=True)"
   ]
  },
  {
   "cell_type": "code",
   "execution_count": null,
   "metadata": {},
   "outputs": [
    {
     "name": "stdout",
     "output_type": "stream",
     "text": [
      "Epoch 1/100\n",
      "\u001b[1m1636/1636\u001b[0m \u001b[32m━━━━━━━━━━━━━━━━━━━━\u001b[0m\u001b[37m\u001b[0m \u001b[1m0s\u001b[0m 8ms/step - accuracy: 0.5251 - loss: 3.6455"
     ]
    },
    {
     "name": "stderr",
     "output_type": "stream",
     "text": [
      "WARNING:absl:You are saving your model as an HDF5 file via `model.save()` or `keras.saving.save_model(model)`. This file format is considered legacy. We recommend using instead the native Keras format, e.g. `model.save('my_model.keras')` or `keras.saving.save_model(model, 'my_model.keras')`. \n"
     ]
    },
    {
     "name": "stdout",
     "output_type": "stream",
     "text": [
      "\u001b[1m1636/1636\u001b[0m \u001b[32m━━━━━━━━━━━━━━━━━━━━\u001b[0m\u001b[37m\u001b[0m \u001b[1m21s\u001b[0m 10ms/step - accuracy: 0.5251 - loss: 3.6442 - val_accuracy: 0.5691 - val_loss: 0.6857\n",
      "Epoch 2/100\n",
      "\u001b[1m1632/1636\u001b[0m \u001b[32m━━━━━━━━━━━━━━━━━━━\u001b[0m\u001b[37m━\u001b[0m \u001b[1m0s\u001b[0m 8ms/step - accuracy: 0.5513 - loss: 0.6903"
     ]
    },
    {
     "name": "stderr",
     "output_type": "stream",
     "text": [
      "WARNING:absl:You are saving your model as an HDF5 file via `model.save()` or `keras.saving.save_model(model)`. This file format is considered legacy. We recommend using instead the native Keras format, e.g. `model.save('my_model.keras')` or `keras.saving.save_model(model, 'my_model.keras')`. \n"
     ]
    },
    {
     "name": "stdout",
     "output_type": "stream",
     "text": [
      "\u001b[1m1636/1636\u001b[0m \u001b[32m━━━━━━━━━━━━━━━━━━━━\u001b[0m\u001b[37m\u001b[0m \u001b[1m15s\u001b[0m 9ms/step - accuracy: 0.5513 - loss: 0.6903 - val_accuracy: 0.5915 - val_loss: 0.6788\n",
      "Epoch 3/100\n",
      "\u001b[1m1636/1636\u001b[0m \u001b[32m━━━━━━━━━━━━━━━━━━━━\u001b[0m\u001b[37m\u001b[0m \u001b[1m15s\u001b[0m 9ms/step - accuracy: 0.5551 - loss: 0.6875 - val_accuracy: 0.5781 - val_loss: 0.6791\n",
      "Epoch 4/100\n",
      "\u001b[1m1634/1636\u001b[0m \u001b[32m━━━━━━━━━━━━━━━━━━━\u001b[0m\u001b[37m━\u001b[0m \u001b[1m0s\u001b[0m 8ms/step - accuracy: 0.5602 - loss: 0.6851"
     ]
    },
    {
     "name": "stderr",
     "output_type": "stream",
     "text": [
      "WARNING:absl:You are saving your model as an HDF5 file via `model.save()` or `keras.saving.save_model(model)`. This file format is considered legacy. We recommend using instead the native Keras format, e.g. `model.save('my_model.keras')` or `keras.saving.save_model(model, 'my_model.keras')`. \n"
     ]
    },
    {
     "name": "stdout",
     "output_type": "stream",
     "text": [
      "\u001b[1m1636/1636\u001b[0m \u001b[32m━━━━━━━━━━━━━━━━━━━━\u001b[0m\u001b[37m\u001b[0m \u001b[1m14s\u001b[0m 9ms/step - accuracy: 0.5602 - loss: 0.6851 - val_accuracy: 0.5918 - val_loss: 0.6769\n",
      "Epoch 5/100\n",
      "\u001b[1m1632/1636\u001b[0m \u001b[32m━━━━━━━━━━━━━━━━━━━\u001b[0m\u001b[37m━\u001b[0m \u001b[1m0s\u001b[0m 8ms/step - accuracy: 0.5671 - loss: 0.6827"
     ]
    },
    {
     "name": "stderr",
     "output_type": "stream",
     "text": [
      "WARNING:absl:You are saving your model as an HDF5 file via `model.save()` or `keras.saving.save_model(model)`. This file format is considered legacy. We recommend using instead the native Keras format, e.g. `model.save('my_model.keras')` or `keras.saving.save_model(model, 'my_model.keras')`. \n"
     ]
    },
    {
     "name": "stdout",
     "output_type": "stream",
     "text": [
      "\u001b[1m1636/1636\u001b[0m \u001b[32m━━━━━━━━━━━━━━━━━━━━\u001b[0m\u001b[37m\u001b[0m \u001b[1m15s\u001b[0m 9ms/step - accuracy: 0.5671 - loss: 0.6827 - val_accuracy: 0.5961 - val_loss: 0.6719\n",
      "Epoch 6/100\n",
      "\u001b[1m1635/1636\u001b[0m \u001b[32m━━━━━━━━━━━━━━━━━━━\u001b[0m\u001b[37m━\u001b[0m \u001b[1m0s\u001b[0m 8ms/step - accuracy: 0.5659 - loss: 0.6825"
     ]
    },
    {
     "name": "stderr",
     "output_type": "stream",
     "text": [
      "WARNING:absl:You are saving your model as an HDF5 file via `model.save()` or `keras.saving.save_model(model)`. This file format is considered legacy. We recommend using instead the native Keras format, e.g. `model.save('my_model.keras')` or `keras.saving.save_model(model, 'my_model.keras')`. \n"
     ]
    },
    {
     "name": "stdout",
     "output_type": "stream",
     "text": [
      "\u001b[1m1636/1636\u001b[0m \u001b[32m━━━━━━━━━━━━━━━━━━━━\u001b[0m\u001b[37m\u001b[0m \u001b[1m15s\u001b[0m 9ms/step - accuracy: 0.5659 - loss: 0.6825 - val_accuracy: 0.5944 - val_loss: 0.6716\n",
      "Epoch 7/100\n",
      "\u001b[1m1636/1636\u001b[0m \u001b[32m━━━━━━━━━━━━━━━━━━━━\u001b[0m\u001b[37m\u001b[0m \u001b[1m15s\u001b[0m 9ms/step - accuracy: 0.5667 - loss: 0.6783 - val_accuracy: 0.5860 - val_loss: 0.6728\n",
      "Epoch 8/100\n",
      "\u001b[1m1633/1636\u001b[0m \u001b[32m━━━━━━━━━━━━━━━━━━━\u001b[0m\u001b[37m━\u001b[0m \u001b[1m0s\u001b[0m 8ms/step - accuracy: 0.5714 - loss: 0.6800"
     ]
    },
    {
     "name": "stderr",
     "output_type": "stream",
     "text": [
      "WARNING:absl:You are saving your model as an HDF5 file via `model.save()` or `keras.saving.save_model(model)`. This file format is considered legacy. We recommend using instead the native Keras format, e.g. `model.save('my_model.keras')` or `keras.saving.save_model(model, 'my_model.keras')`. \n"
     ]
    },
    {
     "name": "stdout",
     "output_type": "stream",
     "text": [
      "\u001b[1m1636/1636\u001b[0m \u001b[32m━━━━━━━━━━━━━━━━━━━━\u001b[0m\u001b[37m\u001b[0m \u001b[1m15s\u001b[0m 9ms/step - accuracy: 0.5714 - loss: 0.6800 - val_accuracy: 0.5901 - val_loss: 0.6711\n",
      "Epoch 9/100\n",
      "\u001b[1m1633/1636\u001b[0m \u001b[32m━━━━━━━━━━━━━━━━━━━\u001b[0m\u001b[37m━\u001b[0m \u001b[1m0s\u001b[0m 8ms/step - accuracy: 0.5727 - loss: 0.6778"
     ]
    },
    {
     "name": "stderr",
     "output_type": "stream",
     "text": [
      "WARNING:absl:You are saving your model as an HDF5 file via `model.save()` or `keras.saving.save_model(model)`. This file format is considered legacy. We recommend using instead the native Keras format, e.g. `model.save('my_model.keras')` or `keras.saving.save_model(model, 'my_model.keras')`. \n"
     ]
    },
    {
     "name": "stdout",
     "output_type": "stream",
     "text": [
      "\u001b[1m1636/1636\u001b[0m \u001b[32m━━━━━━━━━━━━━━━━━━━━\u001b[0m\u001b[37m\u001b[0m \u001b[1m14s\u001b[0m 8ms/step - accuracy: 0.5727 - loss: 0.6778 - val_accuracy: 0.6046 - val_loss: 0.6657\n",
      "Epoch 10/100\n",
      "\u001b[1m1636/1636\u001b[0m \u001b[32m━━━━━━━━━━━━━━━━━━━━\u001b[0m\u001b[37m\u001b[0m \u001b[1m14s\u001b[0m 8ms/step - accuracy: 0.5742 - loss: 0.6751 - val_accuracy: 0.5941 - val_loss: 0.6709\n",
      "Epoch 11/100\n",
      "\u001b[1m1636/1636\u001b[0m \u001b[32m━━━━━━━━━━━━━━━━━━━━\u001b[0m\u001b[37m\u001b[0m \u001b[1m14s\u001b[0m 8ms/step - accuracy: 0.5827 - loss: 0.6736 - val_accuracy: 0.5848 - val_loss: 0.6723\n",
      "Epoch 12/100\n",
      "\u001b[1m1636/1636\u001b[0m \u001b[32m━━━━━━━━━━━━━━━━━━━━\u001b[0m\u001b[37m\u001b[0m \u001b[1m13s\u001b[0m 8ms/step - accuracy: 0.5789 - loss: 0.6721 - val_accuracy: 0.5925 - val_loss: 0.6692\n",
      "Epoch 13/100\n",
      "\u001b[1m1636/1636\u001b[0m \u001b[32m━━━━━━━━━━━━━━━━━━━━\u001b[0m\u001b[37m\u001b[0m \u001b[1m14s\u001b[0m 8ms/step - accuracy: 0.5824 - loss: 0.6730 - val_accuracy: 0.5999 - val_loss: 0.6668\n",
      "Epoch 14/100\n",
      "\u001b[1m1630/1636\u001b[0m \u001b[32m━━━━━━━━━━━━━━━━━━━\u001b[0m\u001b[37m━\u001b[0m \u001b[1m0s\u001b[0m 7ms/step - accuracy: 0.5832 - loss: 0.6718"
     ]
    },
    {
     "name": "stderr",
     "output_type": "stream",
     "text": [
      "WARNING:absl:You are saving your model as an HDF5 file via `model.save()` or `keras.saving.save_model(model)`. This file format is considered legacy. We recommend using instead the native Keras format, e.g. `model.save('my_model.keras')` or `keras.saving.save_model(model, 'my_model.keras')`. \n"
     ]
    },
    {
     "name": "stdout",
     "output_type": "stream",
     "text": [
      "\u001b[1m1636/1636\u001b[0m \u001b[32m━━━━━━━━━━━━━━━━━━━━\u001b[0m\u001b[37m\u001b[0m \u001b[1m14s\u001b[0m 8ms/step - accuracy: 0.5832 - loss: 0.6718 - val_accuracy: 0.6060 - val_loss: 0.6648\n",
      "Epoch 15/100\n",
      "\u001b[1m1636/1636\u001b[0m \u001b[32m━━━━━━━━━━━━━━━━━━━━\u001b[0m\u001b[37m\u001b[0m \u001b[1m14s\u001b[0m 9ms/step - accuracy: 0.5856 - loss: 0.6694 - val_accuracy: 0.5781 - val_loss: 0.6719\n",
      "Epoch 16/100\n",
      "\u001b[1m1636/1636\u001b[0m \u001b[32m━━━━━━━━━━━━━━━━━━━━\u001b[0m\u001b[37m\u001b[0m \u001b[1m14s\u001b[0m 9ms/step - accuracy: 0.5840 - loss: 0.6705 - val_accuracy: 0.5903 - val_loss: 0.6664\n",
      "Epoch 17/100\n",
      "\u001b[1m1632/1636\u001b[0m \u001b[32m━━━━━━━━━━━━━━━━━━━\u001b[0m\u001b[37m━\u001b[0m \u001b[1m0s\u001b[0m 8ms/step - accuracy: 0.5882 - loss: 0.6671"
     ]
    },
    {
     "name": "stderr",
     "output_type": "stream",
     "text": [
      "WARNING:absl:You are saving your model as an HDF5 file via `model.save()` or `keras.saving.save_model(model)`. This file format is considered legacy. We recommend using instead the native Keras format, e.g. `model.save('my_model.keras')` or `keras.saving.save_model(model, 'my_model.keras')`. \n"
     ]
    },
    {
     "name": "stdout",
     "output_type": "stream",
     "text": [
      "\u001b[1m1636/1636\u001b[0m \u001b[32m━━━━━━━━━━━━━━━━━━━━\u001b[0m\u001b[37m\u001b[0m \u001b[1m14s\u001b[0m 9ms/step - accuracy: 0.5882 - loss: 0.6671 - val_accuracy: 0.6061 - val_loss: 0.6621\n",
      "Epoch 18/100\n",
      "\u001b[1m1636/1636\u001b[0m \u001b[32m━━━━━━━━━━━━━━━━━━━━\u001b[0m\u001b[37m\u001b[0m \u001b[1m14s\u001b[0m 9ms/step - accuracy: 0.5948 - loss: 0.6650 - val_accuracy: 0.6053 - val_loss: 0.6639\n",
      "Epoch 19/100\n",
      "\u001b[1m1636/1636\u001b[0m \u001b[32m━━━━━━━━━━━━━━━━━━━━\u001b[0m\u001b[37m\u001b[0m \u001b[1m15s\u001b[0m 9ms/step - accuracy: 0.5842 - loss: 0.6703 - val_accuracy: 0.5975 - val_loss: 0.6673\n",
      "Epoch 20/100\n",
      "\u001b[1m1636/1636\u001b[0m \u001b[32m━━━━━━━━━━━━━━━━━━━━\u001b[0m\u001b[37m\u001b[0m \u001b[1m14s\u001b[0m 8ms/step - accuracy: 0.5908 - loss: 0.6661 - val_accuracy: 0.5989 - val_loss: 0.6655\n",
      "Epoch 21/100\n",
      "\u001b[1m1636/1636\u001b[0m \u001b[32m━━━━━━━━━━━━━━━━━━━━\u001b[0m\u001b[37m\u001b[0m \u001b[1m14s\u001b[0m 8ms/step - accuracy: 0.5874 - loss: 0.6691 - val_accuracy: 0.6089 - val_loss: 0.6632\n",
      "Epoch 22/100\n",
      "\u001b[1m1635/1636\u001b[0m \u001b[32m━━━━━━━━━━━━━━━━━━━\u001b[0m\u001b[37m━\u001b[0m \u001b[1m0s\u001b[0m 8ms/step - accuracy: 0.5898 - loss: 0.6673"
     ]
    },
    {
     "name": "stderr",
     "output_type": "stream",
     "text": [
      "WARNING:absl:You are saving your model as an HDF5 file via `model.save()` or `keras.saving.save_model(model)`. This file format is considered legacy. We recommend using instead the native Keras format, e.g. `model.save('my_model.keras')` or `keras.saving.save_model(model, 'my_model.keras')`. \n"
     ]
    },
    {
     "name": "stdout",
     "output_type": "stream",
     "text": [
      "\u001b[1m1636/1636\u001b[0m \u001b[32m━━━━━━━━━━━━━━━━━━━━\u001b[0m\u001b[37m\u001b[0m \u001b[1m15s\u001b[0m 9ms/step - accuracy: 0.5898 - loss: 0.6673 - val_accuracy: 0.6061 - val_loss: 0.6620\n",
      "Epoch 23/100\n",
      "\u001b[1m1636/1636\u001b[0m \u001b[32m━━━━━━━━━━━━━━━━━━━━\u001b[0m\u001b[37m\u001b[0m \u001b[1m20s\u001b[0m 8ms/step - accuracy: 0.5909 - loss: 0.6659 - val_accuracy: 0.6004 - val_loss: 0.6645\n",
      "Epoch 24/100\n",
      "\u001b[1m1633/1636\u001b[0m \u001b[32m━━━━━━━━━━━━━━━━━━━\u001b[0m\u001b[37m━\u001b[0m \u001b[1m0s\u001b[0m 8ms/step - accuracy: 0.5916 - loss: 0.6672"
     ]
    },
    {
     "name": "stderr",
     "output_type": "stream",
     "text": [
      "WARNING:absl:You are saving your model as an HDF5 file via `model.save()` or `keras.saving.save_model(model)`. This file format is considered legacy. We recommend using instead the native Keras format, e.g. `model.save('my_model.keras')` or `keras.saving.save_model(model, 'my_model.keras')`. \n"
     ]
    },
    {
     "name": "stdout",
     "output_type": "stream",
     "text": [
      "\u001b[1m1636/1636\u001b[0m \u001b[32m━━━━━━━━━━━━━━━━━━━━\u001b[0m\u001b[37m\u001b[0m \u001b[1m15s\u001b[0m 9ms/step - accuracy: 0.5916 - loss: 0.6672 - val_accuracy: 0.6075 - val_loss: 0.6605\n",
      "Epoch 25/100\n",
      "\u001b[1m1636/1636\u001b[0m \u001b[32m━━━━━━━━━━━━━━━━━━━━\u001b[0m\u001b[37m\u001b[0m \u001b[1m16s\u001b[0m 10ms/step - accuracy: 0.5941 - loss: 0.6633 - val_accuracy: 0.6108 - val_loss: 0.6633\n",
      "Epoch 26/100\n",
      "\u001b[1m1636/1636\u001b[0m \u001b[32m━━━━━━━━━━━━━━━━━━━━\u001b[0m\u001b[37m\u001b[0m \u001b[1m15s\u001b[0m 9ms/step - accuracy: 0.5902 - loss: 0.6657 - val_accuracy: 0.6022 - val_loss: 0.6622\n",
      "Epoch 27/100\n",
      "\u001b[1m1630/1636\u001b[0m \u001b[32m━━━━━━━━━━━━━━━━━━━\u001b[0m\u001b[37m━\u001b[0m \u001b[1m0s\u001b[0m 8ms/step - accuracy: 0.5917 - loss: 0.6650"
     ]
    },
    {
     "name": "stderr",
     "output_type": "stream",
     "text": [
      "WARNING:absl:You are saving your model as an HDF5 file via `model.save()` or `keras.saving.save_model(model)`. This file format is considered legacy. We recommend using instead the native Keras format, e.g. `model.save('my_model.keras')` or `keras.saving.save_model(model, 'my_model.keras')`. \n"
     ]
    },
    {
     "name": "stdout",
     "output_type": "stream",
     "text": [
      "\u001b[1m1636/1636\u001b[0m \u001b[32m━━━━━━━━━━━━━━━━━━━━\u001b[0m\u001b[37m\u001b[0m \u001b[1m20s\u001b[0m 9ms/step - accuracy: 0.5918 - loss: 0.6650 - val_accuracy: 0.6082 - val_loss: 0.6591\n",
      "Epoch 28/100\n",
      "\u001b[1m1636/1636\u001b[0m \u001b[32m━━━━━━━━━━━━━━━━━━━━\u001b[0m\u001b[37m\u001b[0m \u001b[1m14s\u001b[0m 9ms/step - accuracy: 0.5937 - loss: 0.6643 - val_accuracy: 0.6001 - val_loss: 0.6641\n",
      "Epoch 29/100\n",
      "\u001b[1m1636/1636\u001b[0m \u001b[32m━━━━━━━━━━━━━━━━━━━━\u001b[0m\u001b[37m\u001b[0m \u001b[1m15s\u001b[0m 9ms/step - accuracy: 0.5945 - loss: 0.6646 - val_accuracy: 0.6090 - val_loss: 0.6604\n",
      "Epoch 30/100\n",
      "\u001b[1m1636/1636\u001b[0m \u001b[32m━━━━━━━━━━━━━━━━━━━━\u001b[0m\u001b[37m\u001b[0m \u001b[1m14s\u001b[0m 9ms/step - accuracy: 0.5976 - loss: 0.6634 - val_accuracy: 0.6116 - val_loss: 0.6594\n",
      "Epoch 31/100\n",
      "\u001b[1m1636/1636\u001b[0m \u001b[32m━━━━━━━━━━━━━━━━━━━━\u001b[0m\u001b[37m\u001b[0m \u001b[1m14s\u001b[0m 9ms/step - accuracy: 0.5978 - loss: 0.6643 - val_accuracy: 0.6013 - val_loss: 0.6613\n",
      "Epoch 32/100\n",
      "\u001b[1m1630/1636\u001b[0m \u001b[32m━━━━━━━━━━━━━━━━━━━\u001b[0m\u001b[37m━\u001b[0m \u001b[1m0s\u001b[0m 8ms/step - accuracy: 0.6022 - loss: 0.6616"
     ]
    },
    {
     "name": "stderr",
     "output_type": "stream",
     "text": [
      "WARNING:absl:You are saving your model as an HDF5 file via `model.save()` or `keras.saving.save_model(model)`. This file format is considered legacy. We recommend using instead the native Keras format, e.g. `model.save('my_model.keras')` or `keras.saving.save_model(model, 'my_model.keras')`. \n"
     ]
    },
    {
     "name": "stdout",
     "output_type": "stream",
     "text": [
      "\u001b[1m1636/1636\u001b[0m \u001b[32m━━━━━━━━━━━━━━━━━━━━\u001b[0m\u001b[37m\u001b[0m \u001b[1m15s\u001b[0m 9ms/step - accuracy: 0.6022 - loss: 0.6616 - val_accuracy: 0.6111 - val_loss: 0.6567\n",
      "Epoch 33/100\n",
      "\u001b[1m1636/1636\u001b[0m \u001b[32m━━━━━━━━━━━━━━━━━━━━\u001b[0m\u001b[37m\u001b[0m \u001b[1m15s\u001b[0m 9ms/step - accuracy: 0.6010 - loss: 0.6615 - val_accuracy: 0.6109 - val_loss: 0.6570\n",
      "Epoch 34/100\n",
      "\u001b[1m1632/1636\u001b[0m \u001b[32m━━━━━━━━━━━━━━━━━━━\u001b[0m\u001b[37m━\u001b[0m \u001b[1m0s\u001b[0m 9ms/step - accuracy: 0.5976 - loss: 0.6642"
     ]
    },
    {
     "name": "stderr",
     "output_type": "stream",
     "text": [
      "WARNING:absl:You are saving your model as an HDF5 file via `model.save()` or `keras.saving.save_model(model)`. This file format is considered legacy. We recommend using instead the native Keras format, e.g. `model.save('my_model.keras')` or `keras.saving.save_model(model, 'my_model.keras')`. \n"
     ]
    },
    {
     "name": "stdout",
     "output_type": "stream",
     "text": [
      "\u001b[1m1636/1636\u001b[0m \u001b[32m━━━━━━━━━━━━━━━━━━━━\u001b[0m\u001b[37m\u001b[0m \u001b[1m16s\u001b[0m 10ms/step - accuracy: 0.5976 - loss: 0.6642 - val_accuracy: 0.6132 - val_loss: 0.6565\n",
      "Epoch 35/100\n",
      "\u001b[1m1636/1636\u001b[0m \u001b[32m━━━━━━━━━━━━━━━━━━━━\u001b[0m\u001b[37m\u001b[0m \u001b[1m15s\u001b[0m 9ms/step - accuracy: 0.5990 - loss: 0.6606 - val_accuracy: 0.6142 - val_loss: 0.6571\n",
      "Epoch 36/100\n",
      "\u001b[1m1636/1636\u001b[0m \u001b[32m━━━━━━━━━━━━━━━━━━━━\u001b[0m\u001b[37m\u001b[0m \u001b[1m15s\u001b[0m 9ms/step - accuracy: 0.6014 - loss: 0.6604 - val_accuracy: 0.6065 - val_loss: 0.6629\n",
      "Epoch 37/100\n",
      "\u001b[1m1632/1636\u001b[0m \u001b[32m━━━━━━━━━━━━━━━━━━━\u001b[0m\u001b[37m━\u001b[0m \u001b[1m0s\u001b[0m 8ms/step - accuracy: 0.6015 - loss: 0.6596"
     ]
    },
    {
     "name": "stderr",
     "output_type": "stream",
     "text": [
      "WARNING:absl:You are saving your model as an HDF5 file via `model.save()` or `keras.saving.save_model(model)`. This file format is considered legacy. We recommend using instead the native Keras format, e.g. `model.save('my_model.keras')` or `keras.saving.save_model(model, 'my_model.keras')`. \n"
     ]
    },
    {
     "name": "stdout",
     "output_type": "stream",
     "text": [
      "\u001b[1m1636/1636\u001b[0m \u001b[32m━━━━━━━━━━━━━━━━━━━━\u001b[0m\u001b[37m\u001b[0m \u001b[1m15s\u001b[0m 9ms/step - accuracy: 0.6015 - loss: 0.6596 - val_accuracy: 0.6115 - val_loss: 0.6565\n",
      "Epoch 38/100\n",
      "\u001b[1m1636/1636\u001b[0m \u001b[32m━━━━━━━━━━━━━━━━━━━━\u001b[0m\u001b[37m\u001b[0m \u001b[1m14s\u001b[0m 9ms/step - accuracy: 0.5993 - loss: 0.6609 - val_accuracy: 0.6142 - val_loss: 0.6576\n",
      "Epoch 39/100\n",
      "\u001b[1m1636/1636\u001b[0m \u001b[32m━━━━━━━━━━━━━━━━━━━━\u001b[0m\u001b[37m\u001b[0m \u001b[1m15s\u001b[0m 9ms/step - accuracy: 0.6000 - loss: 0.6627 - val_accuracy: 0.6101 - val_loss: 0.6613\n",
      "Epoch 40/100\n",
      "\u001b[1m1632/1636\u001b[0m \u001b[32m━━━━━━━━━━━━━━━━━━━\u001b[0m\u001b[37m━\u001b[0m \u001b[1m0s\u001b[0m 8ms/step - accuracy: 0.6009 - loss: 0.6587"
     ]
    },
    {
     "name": "stderr",
     "output_type": "stream",
     "text": [
      "WARNING:absl:You are saving your model as an HDF5 file via `model.save()` or `keras.saving.save_model(model)`. This file format is considered legacy. We recommend using instead the native Keras format, e.g. `model.save('my_model.keras')` or `keras.saving.save_model(model, 'my_model.keras')`. \n"
     ]
    },
    {
     "name": "stdout",
     "output_type": "stream",
     "text": [
      "\u001b[1m1636/1636\u001b[0m \u001b[32m━━━━━━━━━━━━━━━━━━━━\u001b[0m\u001b[37m\u001b[0m \u001b[1m15s\u001b[0m 9ms/step - accuracy: 0.6009 - loss: 0.6587 - val_accuracy: 0.6130 - val_loss: 0.6565\n",
      "Epoch 41/100\n",
      "\u001b[1m1636/1636\u001b[0m \u001b[32m━━━━━━━━━━━━━━━━━━━━\u001b[0m\u001b[37m\u001b[0m \u001b[1m15s\u001b[0m 9ms/step - accuracy: 0.6041 - loss: 0.6610 - val_accuracy: 0.5991 - val_loss: 0.6573\n",
      "Epoch 42/100\n",
      "\u001b[1m1631/1636\u001b[0m \u001b[32m━━━━━━━━━━━━━━━━━━━\u001b[0m\u001b[37m━\u001b[0m \u001b[1m0s\u001b[0m 8ms/step - accuracy: 0.6013 - loss: 0.6589"
     ]
    },
    {
     "name": "stderr",
     "output_type": "stream",
     "text": [
      "WARNING:absl:You are saving your model as an HDF5 file via `model.save()` or `keras.saving.save_model(model)`. This file format is considered legacy. We recommend using instead the native Keras format, e.g. `model.save('my_model.keras')` or `keras.saving.save_model(model, 'my_model.keras')`. \n"
     ]
    },
    {
     "name": "stdout",
     "output_type": "stream",
     "text": [
      "\u001b[1m1636/1636\u001b[0m \u001b[32m━━━━━━━━━━━━━━━━━━━━\u001b[0m\u001b[37m\u001b[0m \u001b[1m14s\u001b[0m 9ms/step - accuracy: 0.6013 - loss: 0.6589 - val_accuracy: 0.6158 - val_loss: 0.6558\n",
      "Epoch 43/100\n",
      "\u001b[1m1636/1636\u001b[0m \u001b[32m━━━━━━━━━━━━━━━━━━━━\u001b[0m\u001b[37m\u001b[0m \u001b[1m16s\u001b[0m 10ms/step - accuracy: 0.5995 - loss: 0.6592 - val_accuracy: 0.6010 - val_loss: 0.6661\n",
      "Epoch 44/100\n",
      "\u001b[1m1632/1636\u001b[0m \u001b[32m━━━━━━━━━━━━━━━━━━━\u001b[0m\u001b[37m━\u001b[0m \u001b[1m0s\u001b[0m 9ms/step - accuracy: 0.5987 - loss: 0.6596"
     ]
    },
    {
     "name": "stderr",
     "output_type": "stream",
     "text": [
      "WARNING:absl:You are saving your model as an HDF5 file via `model.save()` or `keras.saving.save_model(model)`. This file format is considered legacy. We recommend using instead the native Keras format, e.g. `model.save('my_model.keras')` or `keras.saving.save_model(model, 'my_model.keras')`. \n"
     ]
    },
    {
     "name": "stdout",
     "output_type": "stream",
     "text": [
      "\u001b[1m1636/1636\u001b[0m \u001b[32m━━━━━━━━━━━━━━━━━━━━\u001b[0m\u001b[37m\u001b[0m \u001b[1m16s\u001b[0m 10ms/step - accuracy: 0.5988 - loss: 0.6595 - val_accuracy: 0.6144 - val_loss: 0.6545\n",
      "Epoch 45/100\n",
      "\u001b[1m1636/1636\u001b[0m \u001b[32m━━━━━━━━━━━━━━━━━━━━\u001b[0m\u001b[37m\u001b[0m \u001b[1m15s\u001b[0m 9ms/step - accuracy: 0.6028 - loss: 0.6592 - val_accuracy: 0.5843 - val_loss: 0.6656\n",
      "Epoch 46/100\n",
      "\u001b[1m1636/1636\u001b[0m \u001b[32m━━━━━━━━━━━━━━━━━━━━\u001b[0m\u001b[37m\u001b[0m \u001b[1m15s\u001b[0m 9ms/step - accuracy: 0.6070 - loss: 0.6556 - val_accuracy: 0.6082 - val_loss: 0.6607\n",
      "Epoch 47/100\n",
      "\u001b[1m1636/1636\u001b[0m \u001b[32m━━━━━━━━━━━━━━━━━━━━\u001b[0m\u001b[37m\u001b[0m \u001b[1m14s\u001b[0m 9ms/step - accuracy: 0.6037 - loss: 0.6575 - val_accuracy: 0.6090 - val_loss: 0.6563\n",
      "Epoch 48/100\n",
      "\u001b[1m1636/1636\u001b[0m \u001b[32m━━━━━━━━━━━━━━━━━━━━\u001b[0m\u001b[37m\u001b[0m \u001b[1m14s\u001b[0m 9ms/step - accuracy: 0.6050 - loss: 0.6562 - val_accuracy: 0.6089 - val_loss: 0.6579\n",
      "Epoch 49/100\n",
      "\u001b[1m1636/1636\u001b[0m \u001b[32m━━━━━━━━━━━━━━━━━━━━\u001b[0m\u001b[37m\u001b[0m \u001b[1m15s\u001b[0m 9ms/step - accuracy: 0.6024 - loss: 0.6576 - val_accuracy: 0.6084 - val_loss: 0.6588\n",
      "Epoch 50/100\n",
      "\u001b[1m 289/1636\u001b[0m \u001b[32m━━━\u001b[0m\u001b[37m━━━━━━━━━━━━━━━━━\u001b[0m \u001b[1m11s\u001b[0m 9ms/step - accuracy: 0.6089 - loss: 0.6512"
     ]
    }
   ],
   "source": [
    "\n",
    "\n",
    "# Train model\n",
    "history = model.fit(x_train, y_train, validation_data=(x_test, y_test), epochs=100, batch_size=32, callbacks=[early_stopping, checkpoint])\n"
   ]
  },
  {
   "cell_type": "code",
   "execution_count": null,
   "metadata": {},
   "outputs": [],
   "source": []
  }
 ],
 "metadata": {
  "kernelspec": {
   "display_name": "Python 3 (ipykernel)",
   "language": "python",
   "name": "python3"
  },
  "language_info": {
   "codemirror_mode": {
    "name": "ipython",
    "version": 3
   },
   "file_extension": ".py",
   "mimetype": "text/x-python",
   "name": "python",
   "nbconvert_exporter": "python",
   "pygments_lexer": "ipython3",
   "version": "3.9.23"
  }
 },
 "nbformat": 4,
 "nbformat_minor": 4
}
