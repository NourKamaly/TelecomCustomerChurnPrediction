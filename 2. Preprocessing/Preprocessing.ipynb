{
 "cells": [
  {
   "cell_type": "code",
   "execution_count": 95,
   "id": "09cb98f6",
   "metadata": {},
   "outputs": [],
   "source": [
    "import pandas as pd,numpy as np\n",
    "from scipy import stats\n",
    "from sklearn.impute import KNNImputer\n",
    "from sklearn.tree import DecisionTreeClassifier\n",
    "from sklearn.model_selection import train_test_split, cross_val_score\n",
    "from sklearn.metrics import accuracy_score,precision_score,recall_score,f1_score, confusion_matrix"
   ]
  },
  {
   "cell_type": "code",
   "execution_count": 125,
   "id": "5b1869e9",
   "metadata": {},
   "outputs": [],
   "source": [
    "df = pd.read_csv('../0. Dataset/Training set after splitting.csv')"
   ]
  },
  {
   "cell_type": "code",
   "execution_count": 114,
   "id": "d5fe8d12",
   "metadata": {},
   "outputs": [
    {
     "data": {
      "text/html": [
       "<div>\n",
       "<style scoped>\n",
       "    .dataframe tbody tr th:only-of-type {\n",
       "        vertical-align: middle;\n",
       "    }\n",
       "\n",
       "    .dataframe tbody tr th {\n",
       "        vertical-align: top;\n",
       "    }\n",
       "\n",
       "    .dataframe thead th {\n",
       "        text-align: right;\n",
       "    }\n",
       "</style>\n",
       "<table border=\"1\" class=\"dataframe\">\n",
       "  <thead>\n",
       "    <tr style=\"text-align: right;\">\n",
       "      <th></th>\n",
       "      <th>CustomerID</th>\n",
       "      <th>MonthlyRevenue</th>\n",
       "      <th>MonthlyMinutes</th>\n",
       "      <th>TotalRecurringCharge</th>\n",
       "      <th>DirectorAssistedCalls</th>\n",
       "      <th>OverageMinutes</th>\n",
       "      <th>RoamingCalls</th>\n",
       "      <th>PercChangeMinutes</th>\n",
       "      <th>PercChangeRevenues</th>\n",
       "      <th>DroppedCalls</th>\n",
       "      <th>...</th>\n",
       "      <th>IncomeGroup</th>\n",
       "      <th>OwnsMotorcycle</th>\n",
       "      <th>AdjustmentsToCreditRating</th>\n",
       "      <th>HandsetPrice</th>\n",
       "      <th>MadeCallToRetentionTeam</th>\n",
       "      <th>CreditRating</th>\n",
       "      <th>PrizmCode</th>\n",
       "      <th>Occupation</th>\n",
       "      <th>MaritalStatus</th>\n",
       "      <th>Churn</th>\n",
       "    </tr>\n",
       "  </thead>\n",
       "  <tbody>\n",
       "    <tr>\n",
       "      <th>0</th>\n",
       "      <td>3317770</td>\n",
       "      <td>39.79</td>\n",
       "      <td>234.00</td>\n",
       "      <td>55.00</td>\n",
       "      <td>0.25</td>\n",
       "      <td>0.00</td>\n",
       "      <td>1.70</td>\n",
       "      <td>31.00</td>\n",
       "      <td>8.80</td>\n",
       "      <td>6.70</td>\n",
       "      <td>...</td>\n",
       "      <td>0</td>\n",
       "      <td>No</td>\n",
       "      <td>0</td>\n",
       "      <td>Unknown</td>\n",
       "      <td>No</td>\n",
       "      <td>2-High</td>\n",
       "      <td>Suburban</td>\n",
       "      <td>Other</td>\n",
       "      <td>Unknown</td>\n",
       "      <td>No</td>\n",
       "    </tr>\n",
       "    <tr>\n",
       "      <th>1</th>\n",
       "      <td>3224894</td>\n",
       "      <td>60.19</td>\n",
       "      <td>551.00</td>\n",
       "      <td>60.00</td>\n",
       "      <td>0.74</td>\n",
       "      <td>0.00</td>\n",
       "      <td>0.30</td>\n",
       "      <td>-88.00</td>\n",
       "      <td>-10.20</td>\n",
       "      <td>2.70</td>\n",
       "      <td>...</td>\n",
       "      <td>7</td>\n",
       "      <td>No</td>\n",
       "      <td>0</td>\n",
       "      <td>150</td>\n",
       "      <td>No</td>\n",
       "      <td>2-High</td>\n",
       "      <td>Suburban</td>\n",
       "      <td>Crafts</td>\n",
       "      <td>Yes</td>\n",
       "      <td>No</td>\n",
       "    </tr>\n",
       "    <tr>\n",
       "      <th>2</th>\n",
       "      <td>3231266</td>\n",
       "      <td>85.41</td>\n",
       "      <td>642.00</td>\n",
       "      <td>28.00</td>\n",
       "      <td>0.25</td>\n",
       "      <td>134.00</td>\n",
       "      <td>0.00</td>\n",
       "      <td>129.00</td>\n",
       "      <td>22.80</td>\n",
       "      <td>29.70</td>\n",
       "      <td>...</td>\n",
       "      <td>4</td>\n",
       "      <td>No</td>\n",
       "      <td>0</td>\n",
       "      <td>Unknown</td>\n",
       "      <td>No</td>\n",
       "      <td>2-High</td>\n",
       "      <td>Suburban</td>\n",
       "      <td>Crafts</td>\n",
       "      <td>No</td>\n",
       "      <td>No</td>\n",
       "    </tr>\n",
       "    <tr>\n",
       "      <th>3</th>\n",
       "      <td>3184922</td>\n",
       "      <td>30.18</td>\n",
       "      <td>281.00</td>\n",
       "      <td>30.00</td>\n",
       "      <td>0.00</td>\n",
       "      <td>0.00</td>\n",
       "      <td>0.00</td>\n",
       "      <td>132.00</td>\n",
       "      <td>-0.20</td>\n",
       "      <td>4.00</td>\n",
       "      <td>...</td>\n",
       "      <td>3</td>\n",
       "      <td>No</td>\n",
       "      <td>0</td>\n",
       "      <td>150</td>\n",
       "      <td>No</td>\n",
       "      <td>3-Good</td>\n",
       "      <td>Suburban</td>\n",
       "      <td>Other</td>\n",
       "      <td>Unknown</td>\n",
       "      <td>Yes</td>\n",
       "    </tr>\n",
       "    <tr>\n",
       "      <th>4</th>\n",
       "      <td>3350054</td>\n",
       "      <td>179.29</td>\n",
       "      <td>1459.00</td>\n",
       "      <td>95.00</td>\n",
       "      <td>0.50</td>\n",
       "      <td>118.00</td>\n",
       "      <td>48.60</td>\n",
       "      <td>-1360.00</td>\n",
       "      <td>-77.00</td>\n",
       "      <td>21.70</td>\n",
       "      <td>...</td>\n",
       "      <td>4</td>\n",
       "      <td>No</td>\n",
       "      <td>0</td>\n",
       "      <td>Unknown</td>\n",
       "      <td>No</td>\n",
       "      <td>3-Good</td>\n",
       "      <td>Rural</td>\n",
       "      <td>Other</td>\n",
       "      <td>Unknown</td>\n",
       "      <td>Yes</td>\n",
       "    </tr>\n",
       "  </tbody>\n",
       "</table>\n",
       "<p>5 rows × 58 columns</p>\n",
       "</div>"
      ],
      "text/plain": [
       "   CustomerID  MonthlyRevenue  MonthlyMinutes  TotalRecurringCharge  \\\n",
       "0     3317770           39.79          234.00                 55.00   \n",
       "1     3224894           60.19          551.00                 60.00   \n",
       "2     3231266           85.41          642.00                 28.00   \n",
       "3     3184922           30.18          281.00                 30.00   \n",
       "4     3350054          179.29         1459.00                 95.00   \n",
       "\n",
       "   DirectorAssistedCalls  OverageMinutes  RoamingCalls  PercChangeMinutes  \\\n",
       "0                   0.25            0.00          1.70              31.00   \n",
       "1                   0.74            0.00          0.30             -88.00   \n",
       "2                   0.25          134.00          0.00             129.00   \n",
       "3                   0.00            0.00          0.00             132.00   \n",
       "4                   0.50          118.00         48.60           -1360.00   \n",
       "\n",
       "   PercChangeRevenues  DroppedCalls  ...  IncomeGroup  OwnsMotorcycle  \\\n",
       "0                8.80          6.70  ...            0              No   \n",
       "1              -10.20          2.70  ...            7              No   \n",
       "2               22.80         29.70  ...            4              No   \n",
       "3               -0.20          4.00  ...            3              No   \n",
       "4              -77.00         21.70  ...            4              No   \n",
       "\n",
       "   AdjustmentsToCreditRating  HandsetPrice  MadeCallToRetentionTeam  \\\n",
       "0                          0       Unknown                       No   \n",
       "1                          0           150                       No   \n",
       "2                          0       Unknown                       No   \n",
       "3                          0           150                       No   \n",
       "4                          0       Unknown                       No   \n",
       "\n",
       "   CreditRating  PrizmCode  Occupation  MaritalStatus  Churn  \n",
       "0        2-High   Suburban       Other        Unknown     No  \n",
       "1        2-High   Suburban      Crafts            Yes     No  \n",
       "2        2-High   Suburban      Crafts             No     No  \n",
       "3        3-Good   Suburban       Other        Unknown    Yes  \n",
       "4        3-Good      Rural       Other        Unknown    Yes  \n",
       "\n",
       "[5 rows x 58 columns]"
      ]
     },
     "execution_count": 114,
     "metadata": {},
     "output_type": "execute_result"
    }
   ],
   "source": [
    "df.head()"
   ]
  },
  {
   "cell_type": "code",
   "execution_count": 115,
   "id": "cca17737",
   "metadata": {},
   "outputs": [],
   "source": [
    "m = df.copy()\n",
    "m.drop(columns = ['HandsetPrice'],axis=1,inplace=True)\n",
    "m.drop(columns=['CustomerID'],axis=1,inplace=True)\n",
    "m['MaritalStatus'] = m['MaritalStatus'].replace('Unknown', np.nan)"
   ]
  },
  {
   "cell_type": "code",
   "execution_count": null,
   "id": "f5435305",
   "metadata": {},
   "outputs": [],
   "source": []
  },
  {
   "cell_type": "markdown",
   "id": "c577909d",
   "metadata": {},
   "source": [
    "Remove outliers, standarize monthly revenue, monthly "
   ]
  },
  {
   "cell_type": "code",
   "execution_count": 98,
   "id": "29892972",
   "metadata": {},
   "outputs": [
    {
     "data": {
      "text/plain": [
       "0"
      ]
     },
     "execution_count": 98,
     "metadata": {},
     "output_type": "execute_result"
    }
   ],
   "source": [
    "df.duplicated().sum()"
   ]
  },
  {
   "cell_type": "code",
   "execution_count": 99,
   "id": "be8c00dc",
   "metadata": {},
   "outputs": [
    {
     "data": {
      "text/plain": [
       "CustomerID                     int64\n",
       "MonthlyRevenue               float64\n",
       "MonthlyMinutes               float64\n",
       "TotalRecurringCharge         float64\n",
       "DirectorAssistedCalls        float64\n",
       "OverageMinutes               float64\n",
       "RoamingCalls                 float64\n",
       "PercChangeMinutes            float64\n",
       "PercChangeRevenues           float64\n",
       "DroppedCalls                 float64\n",
       "BlockedCalls                 float64\n",
       "UnansweredCalls              float64\n",
       "CustomerCareCalls            float64\n",
       "ThreewayCalls                float64\n",
       "ReceivedCalls                float64\n",
       "OutboundCalls                float64\n",
       "InboundCalls                 float64\n",
       "PeakCallsInOut               float64\n",
       "OffPeakCallsInOut            float64\n",
       "DroppedBlockedCalls          float64\n",
       "CallForwardingCalls          float64\n",
       "CallWaitingCalls             float64\n",
       "MonthsInService                int64\n",
       "UniqueSubs                     int64\n",
       "ActiveSubs                     int64\n",
       "ServiceArea                   object\n",
       "Handsets                     float64\n",
       "HandsetModels                float64\n",
       "CurrentEquipmentDays         float64\n",
       "AgeHH1                       float64\n",
       "AgeHH2                       float64\n",
       "ChildrenInHH                  object\n",
       "HandsetRefurbished            object\n",
       "HandsetWebCapable             object\n",
       "TruckOwner                    object\n",
       "RVOwner                       object\n",
       "Homeownership                 object\n",
       "BuysViaMailOrder              object\n",
       "RespondsToMailOffers          object\n",
       "OptOutMailings                object\n",
       "NonUSTravel                   object\n",
       "OwnsComputer                  object\n",
       "HasCreditCard                 object\n",
       "RetentionCalls                 int64\n",
       "RetentionOffersAccepted        int64\n",
       "NewCellphoneUser              object\n",
       "NotNewCellphoneUser           object\n",
       "ReferralsMadeBySubscriber      int64\n",
       "IncomeGroup                    int64\n",
       "OwnsMotorcycle                object\n",
       "AdjustmentsToCreditRating      int64\n",
       "HandsetPrice                  object\n",
       "MadeCallToRetentionTeam       object\n",
       "CreditRating                  object\n",
       "PrizmCode                     object\n",
       "Occupation                    object\n",
       "MaritalStatus                 object\n",
       "Churn                         object\n",
       "dtype: object"
      ]
     },
     "execution_count": 99,
     "metadata": {},
     "output_type": "execute_result"
    }
   ],
   "source": [
    "df.dtypes"
   ]
  },
  {
   "cell_type": "code",
   "execution_count": 108,
   "id": "6fa20ce8",
   "metadata": {},
   "outputs": [
    {
     "data": {
      "text/plain": [
       "MonthlyRevenue                 120\n",
       "MonthlyMinutes                 120\n",
       "TotalRecurringCharge           120\n",
       "DirectorAssistedCalls          120\n",
       "OverageMinutes                 120\n",
       "RoamingCalls                   120\n",
       "PercChangeMinutes              290\n",
       "PercChangeRevenues             290\n",
       "DroppedCalls                     0\n",
       "BlockedCalls                     0\n",
       "UnansweredCalls                  0\n",
       "CustomerCareCalls                0\n",
       "ThreewayCalls                    0\n",
       "ReceivedCalls                    0\n",
       "OutboundCalls                    0\n",
       "InboundCalls                     0\n",
       "PeakCallsInOut                   0\n",
       "OffPeakCallsInOut                0\n",
       "DroppedBlockedCalls              0\n",
       "CallForwardingCalls              0\n",
       "CallWaitingCalls                 0\n",
       "MonthsInService                  0\n",
       "UniqueSubs                       0\n",
       "ActiveSubs                       0\n",
       "ServiceArea                      0\n",
       "Handsets                         1\n",
       "HandsetModels                    1\n",
       "CurrentEquipmentDays             1\n",
       "AgeHH1                         716\n",
       "AgeHH2                         716\n",
       "ChildrenInHH                     0\n",
       "HandsetRefurbished               0\n",
       "HandsetWebCapable                0\n",
       "TruckOwner                       0\n",
       "RVOwner                          0\n",
       "Homeownership                    0\n",
       "BuysViaMailOrder                 0\n",
       "RespondsToMailOffers             0\n",
       "OptOutMailings                   0\n",
       "NonUSTravel                      0\n",
       "OwnsComputer                     0\n",
       "HasCreditCard                    0\n",
       "RetentionCalls                   0\n",
       "RetentionOffersAccepted          0\n",
       "NewCellphoneUser                 0\n",
       "NotNewCellphoneUser              0\n",
       "ReferralsMadeBySubscriber        0\n",
       "IncomeGroup                      0\n",
       "OwnsMotorcycle                   0\n",
       "AdjustmentsToCreditRating        0\n",
       "HandsetPrice                 23202\n",
       "MadeCallToRetentionTeam          0\n",
       "CreditRating                     0\n",
       "PrizmCode                        0\n",
       "Occupation                       0\n",
       "MaritalStatus                15748\n",
       "Churn                            0\n",
       "dtype: int64"
      ]
     },
     "execution_count": 108,
     "metadata": {},
     "output_type": "execute_result"
    }
   ],
   "source": [
    "df.isna().sum()"
   ]
  },
  {
   "cell_type": "code",
   "execution_count": 101,
   "id": "cd98d288",
   "metadata": {},
   "outputs": [],
   "source": [
    "df.drop(columns=['CustomerID'],axis=1,inplace=True)\n",
    "df['HandsetPrice'] = df['HandsetPrice'].replace('Unknown', np.nan)\n",
    "df['MaritalStatus'] = df['MaritalStatus'].replace('Unknown', np.nan)"
   ]
  },
  {
   "cell_type": "code",
   "execution_count": 102,
   "id": "891c35f7",
   "metadata": {},
   "outputs": [
    {
     "data": {
      "text/plain": [
       "KNNImputer(weights='distance')"
      ]
     },
     "execution_count": 102,
     "metadata": {},
     "output_type": "execute_result"
    }
   ],
   "source": [
    "imputer = KNNImputer(weights = 'distance')\n",
    "imputer"
   ]
  },
  {
   "cell_type": "code",
   "execution_count": 106,
   "id": "da64793d",
   "metadata": {},
   "outputs": [],
   "source": [
    "df = df.dropna(subset=['ServiceArea'])"
   ]
  },
  {
   "cell_type": "code",
   "execution_count": 129,
   "id": "13d9fa37",
   "metadata": {},
   "outputs": [
    {
     "data": {
      "text/plain": [
       "NYCBRO917   3.26\n",
       "HOUHOU281   3.02\n",
       "DALDAL214   2.93\n",
       "NYCMAN917   2.34\n",
       "DALFTW817   1.56\n",
       "            ... \n",
       "NCRSAN919   0.00\n",
       "OHINOR419   0.00\n",
       "NORZIM763   0.00\n",
       "SEWPAS509   0.00\n",
       "SEWMLF541   0.00\n",
       "Name: ServiceArea, Length: 729, dtype: float64"
      ]
     },
     "execution_count": 129,
     "metadata": {},
     "output_type": "execute_result"
    }
   ],
   "source": [
    "(df['ServiceArea'].value_counts()/df.shape[0])*100"
   ]
  },
  {
   "cell_type": "code",
   "execution_count": 131,
   "id": "1f06e67e",
   "metadata": {},
   "outputs": [
    {
     "data": {
      "text/plain": [
       "9"
      ]
     },
     "execution_count": 131,
     "metadata": {},
     "output_type": "execute_result"
    }
   ],
   "source": [
    "len(df['ServiceArea'][0])"
   ]
  },
  {
   "cell_type": "code",
   "execution_count": 109,
   "id": "418a3ca0",
   "metadata": {
    "collapsed": true
   },
   "outputs": [
    {
     "ename": "ValueError",
     "evalue": "could not convert string to float: 'LAXSAN714'",
     "output_type": "error",
     "traceback": [
      "\u001b[1;31m---------------------------------------------------------------------------\u001b[0m",
      "\u001b[1;31mValueError\u001b[0m                                Traceback (most recent call last)",
      "\u001b[1;32mC:\\Users\\NOURKA~1\\AppData\\Local\\Temp/ipykernel_11364/1064110353.py\u001b[0m in \u001b[0;36m<module>\u001b[1;34m\u001b[0m\n\u001b[1;32m----> 1\u001b[1;33m \u001b[0mimputer\u001b[0m\u001b[1;33m.\u001b[0m\u001b[0mfit_transform\u001b[0m\u001b[1;33m(\u001b[0m\u001b[0mdf\u001b[0m\u001b[1;33m)\u001b[0m\u001b[1;33m\u001b[0m\u001b[1;33m\u001b[0m\u001b[0m\n\u001b[0m",
      "\u001b[1;32m~\\anaconda3\\lib\\site-packages\\sklearn\\base.py\u001b[0m in \u001b[0;36mfit_transform\u001b[1;34m(self, X, y, **fit_params)\u001b[0m\n\u001b[0;32m    697\u001b[0m         \u001b[1;32mif\u001b[0m \u001b[0my\u001b[0m \u001b[1;32mis\u001b[0m \u001b[1;32mNone\u001b[0m\u001b[1;33m:\u001b[0m\u001b[1;33m\u001b[0m\u001b[1;33m\u001b[0m\u001b[0m\n\u001b[0;32m    698\u001b[0m             \u001b[1;31m# fit method of arity 1 (unsupervised transformation)\u001b[0m\u001b[1;33m\u001b[0m\u001b[1;33m\u001b[0m\u001b[0m\n\u001b[1;32m--> 699\u001b[1;33m             \u001b[1;32mreturn\u001b[0m \u001b[0mself\u001b[0m\u001b[1;33m.\u001b[0m\u001b[0mfit\u001b[0m\u001b[1;33m(\u001b[0m\u001b[0mX\u001b[0m\u001b[1;33m,\u001b[0m \u001b[1;33m**\u001b[0m\u001b[0mfit_params\u001b[0m\u001b[1;33m)\u001b[0m\u001b[1;33m.\u001b[0m\u001b[0mtransform\u001b[0m\u001b[1;33m(\u001b[0m\u001b[0mX\u001b[0m\u001b[1;33m)\u001b[0m\u001b[1;33m\u001b[0m\u001b[1;33m\u001b[0m\u001b[0m\n\u001b[0m\u001b[0;32m    700\u001b[0m         \u001b[1;32melse\u001b[0m\u001b[1;33m:\u001b[0m\u001b[1;33m\u001b[0m\u001b[1;33m\u001b[0m\u001b[0m\n\u001b[0;32m    701\u001b[0m             \u001b[1;31m# fit method of arity 2 (supervised transformation)\u001b[0m\u001b[1;33m\u001b[0m\u001b[1;33m\u001b[0m\u001b[0m\n",
      "\u001b[1;32m~\\anaconda3\\lib\\site-packages\\sklearn\\impute\\_knn.py\u001b[0m in \u001b[0;36mfit\u001b[1;34m(self, X, y)\u001b[0m\n\u001b[0;32m    181\u001b[0m                 \"Expected n_neighbors > 0. Got {}\".format(self.n_neighbors))\n\u001b[0;32m    182\u001b[0m \u001b[1;33m\u001b[0m\u001b[0m\n\u001b[1;32m--> 183\u001b[1;33m         X = self._validate_data(X, accept_sparse=False, dtype=FLOAT_DTYPES,\n\u001b[0m\u001b[0;32m    184\u001b[0m                                 \u001b[0mforce_all_finite\u001b[0m\u001b[1;33m=\u001b[0m\u001b[0mforce_all_finite\u001b[0m\u001b[1;33m,\u001b[0m\u001b[1;33m\u001b[0m\u001b[1;33m\u001b[0m\u001b[0m\n\u001b[0;32m    185\u001b[0m                                 copy=self.copy)\n",
      "\u001b[1;32m~\\anaconda3\\lib\\site-packages\\sklearn\\base.py\u001b[0m in \u001b[0;36m_validate_data\u001b[1;34m(self, X, y, reset, validate_separately, **check_params)\u001b[0m\n\u001b[0;32m    419\u001b[0m             \u001b[0mout\u001b[0m \u001b[1;33m=\u001b[0m \u001b[0mX\u001b[0m\u001b[1;33m\u001b[0m\u001b[1;33m\u001b[0m\u001b[0m\n\u001b[0;32m    420\u001b[0m         \u001b[1;32melif\u001b[0m \u001b[0misinstance\u001b[0m\u001b[1;33m(\u001b[0m\u001b[0my\u001b[0m\u001b[1;33m,\u001b[0m \u001b[0mstr\u001b[0m\u001b[1;33m)\u001b[0m \u001b[1;32mand\u001b[0m \u001b[0my\u001b[0m \u001b[1;33m==\u001b[0m \u001b[1;34m'no_validation'\u001b[0m\u001b[1;33m:\u001b[0m\u001b[1;33m\u001b[0m\u001b[1;33m\u001b[0m\u001b[0m\n\u001b[1;32m--> 421\u001b[1;33m             \u001b[0mX\u001b[0m \u001b[1;33m=\u001b[0m \u001b[0mcheck_array\u001b[0m\u001b[1;33m(\u001b[0m\u001b[0mX\u001b[0m\u001b[1;33m,\u001b[0m \u001b[1;33m**\u001b[0m\u001b[0mcheck_params\u001b[0m\u001b[1;33m)\u001b[0m\u001b[1;33m\u001b[0m\u001b[1;33m\u001b[0m\u001b[0m\n\u001b[0m\u001b[0;32m    422\u001b[0m             \u001b[0mout\u001b[0m \u001b[1;33m=\u001b[0m \u001b[0mX\u001b[0m\u001b[1;33m\u001b[0m\u001b[1;33m\u001b[0m\u001b[0m\n\u001b[0;32m    423\u001b[0m         \u001b[1;32melse\u001b[0m\u001b[1;33m:\u001b[0m\u001b[1;33m\u001b[0m\u001b[1;33m\u001b[0m\u001b[0m\n",
      "\u001b[1;32m~\\anaconda3\\lib\\site-packages\\sklearn\\utils\\validation.py\u001b[0m in \u001b[0;36minner_f\u001b[1;34m(*args, **kwargs)\u001b[0m\n\u001b[0;32m     61\u001b[0m             \u001b[0mextra_args\u001b[0m \u001b[1;33m=\u001b[0m \u001b[0mlen\u001b[0m\u001b[1;33m(\u001b[0m\u001b[0margs\u001b[0m\u001b[1;33m)\u001b[0m \u001b[1;33m-\u001b[0m \u001b[0mlen\u001b[0m\u001b[1;33m(\u001b[0m\u001b[0mall_args\u001b[0m\u001b[1;33m)\u001b[0m\u001b[1;33m\u001b[0m\u001b[1;33m\u001b[0m\u001b[0m\n\u001b[0;32m     62\u001b[0m             \u001b[1;32mif\u001b[0m \u001b[0mextra_args\u001b[0m \u001b[1;33m<=\u001b[0m \u001b[1;36m0\u001b[0m\u001b[1;33m:\u001b[0m\u001b[1;33m\u001b[0m\u001b[1;33m\u001b[0m\u001b[0m\n\u001b[1;32m---> 63\u001b[1;33m                 \u001b[1;32mreturn\u001b[0m \u001b[0mf\u001b[0m\u001b[1;33m(\u001b[0m\u001b[1;33m*\u001b[0m\u001b[0margs\u001b[0m\u001b[1;33m,\u001b[0m \u001b[1;33m**\u001b[0m\u001b[0mkwargs\u001b[0m\u001b[1;33m)\u001b[0m\u001b[1;33m\u001b[0m\u001b[1;33m\u001b[0m\u001b[0m\n\u001b[0m\u001b[0;32m     64\u001b[0m \u001b[1;33m\u001b[0m\u001b[0m\n\u001b[0;32m     65\u001b[0m             \u001b[1;31m# extra_args > 0\u001b[0m\u001b[1;33m\u001b[0m\u001b[1;33m\u001b[0m\u001b[0m\n",
      "\u001b[1;32m~\\anaconda3\\lib\\site-packages\\sklearn\\utils\\validation.py\u001b[0m in \u001b[0;36mcheck_array\u001b[1;34m(array, accept_sparse, accept_large_sparse, dtype, order, copy, force_all_finite, ensure_2d, allow_nd, ensure_min_samples, ensure_min_features, estimator)\u001b[0m\n\u001b[0;32m    671\u001b[0m                     \u001b[0marray\u001b[0m \u001b[1;33m=\u001b[0m \u001b[0marray\u001b[0m\u001b[1;33m.\u001b[0m\u001b[0mastype\u001b[0m\u001b[1;33m(\u001b[0m\u001b[0mdtype\u001b[0m\u001b[1;33m,\u001b[0m \u001b[0mcasting\u001b[0m\u001b[1;33m=\u001b[0m\u001b[1;34m\"unsafe\"\u001b[0m\u001b[1;33m,\u001b[0m \u001b[0mcopy\u001b[0m\u001b[1;33m=\u001b[0m\u001b[1;32mFalse\u001b[0m\u001b[1;33m)\u001b[0m\u001b[1;33m\u001b[0m\u001b[1;33m\u001b[0m\u001b[0m\n\u001b[0;32m    672\u001b[0m                 \u001b[1;32melse\u001b[0m\u001b[1;33m:\u001b[0m\u001b[1;33m\u001b[0m\u001b[1;33m\u001b[0m\u001b[0m\n\u001b[1;32m--> 673\u001b[1;33m                     \u001b[0marray\u001b[0m \u001b[1;33m=\u001b[0m \u001b[0mnp\u001b[0m\u001b[1;33m.\u001b[0m\u001b[0masarray\u001b[0m\u001b[1;33m(\u001b[0m\u001b[0marray\u001b[0m\u001b[1;33m,\u001b[0m \u001b[0morder\u001b[0m\u001b[1;33m=\u001b[0m\u001b[0morder\u001b[0m\u001b[1;33m,\u001b[0m \u001b[0mdtype\u001b[0m\u001b[1;33m=\u001b[0m\u001b[0mdtype\u001b[0m\u001b[1;33m)\u001b[0m\u001b[1;33m\u001b[0m\u001b[1;33m\u001b[0m\u001b[0m\n\u001b[0m\u001b[0;32m    674\u001b[0m             \u001b[1;32mexcept\u001b[0m \u001b[0mComplexWarning\u001b[0m \u001b[1;32mas\u001b[0m \u001b[0mcomplex_warning\u001b[0m\u001b[1;33m:\u001b[0m\u001b[1;33m\u001b[0m\u001b[1;33m\u001b[0m\u001b[0m\n\u001b[0;32m    675\u001b[0m                 raise ValueError(\"Complex data not supported\\n\"\n",
      "\u001b[1;32m~\\anaconda3\\lib\\site-packages\\numpy\\core\\_asarray.py\u001b[0m in \u001b[0;36masarray\u001b[1;34m(a, dtype, order, like)\u001b[0m\n\u001b[0;32m    100\u001b[0m         \u001b[1;32mreturn\u001b[0m \u001b[0m_asarray_with_like\u001b[0m\u001b[1;33m(\u001b[0m\u001b[0ma\u001b[0m\u001b[1;33m,\u001b[0m \u001b[0mdtype\u001b[0m\u001b[1;33m=\u001b[0m\u001b[0mdtype\u001b[0m\u001b[1;33m,\u001b[0m \u001b[0morder\u001b[0m\u001b[1;33m=\u001b[0m\u001b[0morder\u001b[0m\u001b[1;33m,\u001b[0m \u001b[0mlike\u001b[0m\u001b[1;33m=\u001b[0m\u001b[0mlike\u001b[0m\u001b[1;33m)\u001b[0m\u001b[1;33m\u001b[0m\u001b[1;33m\u001b[0m\u001b[0m\n\u001b[0;32m    101\u001b[0m \u001b[1;33m\u001b[0m\u001b[0m\n\u001b[1;32m--> 102\u001b[1;33m     \u001b[1;32mreturn\u001b[0m \u001b[0marray\u001b[0m\u001b[1;33m(\u001b[0m\u001b[0ma\u001b[0m\u001b[1;33m,\u001b[0m \u001b[0mdtype\u001b[0m\u001b[1;33m,\u001b[0m \u001b[0mcopy\u001b[0m\u001b[1;33m=\u001b[0m\u001b[1;32mFalse\u001b[0m\u001b[1;33m,\u001b[0m \u001b[0morder\u001b[0m\u001b[1;33m=\u001b[0m\u001b[0morder\u001b[0m\u001b[1;33m)\u001b[0m\u001b[1;33m\u001b[0m\u001b[1;33m\u001b[0m\u001b[0m\n\u001b[0m\u001b[0;32m    103\u001b[0m \u001b[1;33m\u001b[0m\u001b[0m\n\u001b[0;32m    104\u001b[0m \u001b[1;33m\u001b[0m\u001b[0m\n",
      "\u001b[1;32m~\\anaconda3\\lib\\site-packages\\pandas\\core\\generic.py\u001b[0m in \u001b[0;36m__array__\u001b[1;34m(self, dtype)\u001b[0m\n\u001b[0;32m   1991\u001b[0m \u001b[1;33m\u001b[0m\u001b[0m\n\u001b[0;32m   1992\u001b[0m     \u001b[1;32mdef\u001b[0m \u001b[0m__array__\u001b[0m\u001b[1;33m(\u001b[0m\u001b[0mself\u001b[0m\u001b[1;33m,\u001b[0m \u001b[0mdtype\u001b[0m\u001b[1;33m:\u001b[0m \u001b[0mNpDtype\u001b[0m \u001b[1;33m|\u001b[0m \u001b[1;32mNone\u001b[0m \u001b[1;33m=\u001b[0m \u001b[1;32mNone\u001b[0m\u001b[1;33m)\u001b[0m \u001b[1;33m->\u001b[0m \u001b[0mnp\u001b[0m\u001b[1;33m.\u001b[0m\u001b[0mndarray\u001b[0m\u001b[1;33m:\u001b[0m\u001b[1;33m\u001b[0m\u001b[1;33m\u001b[0m\u001b[0m\n\u001b[1;32m-> 1993\u001b[1;33m         \u001b[1;32mreturn\u001b[0m \u001b[0mnp\u001b[0m\u001b[1;33m.\u001b[0m\u001b[0masarray\u001b[0m\u001b[1;33m(\u001b[0m\u001b[0mself\u001b[0m\u001b[1;33m.\u001b[0m\u001b[0m_values\u001b[0m\u001b[1;33m,\u001b[0m \u001b[0mdtype\u001b[0m\u001b[1;33m=\u001b[0m\u001b[0mdtype\u001b[0m\u001b[1;33m)\u001b[0m\u001b[1;33m\u001b[0m\u001b[1;33m\u001b[0m\u001b[0m\n\u001b[0m\u001b[0;32m   1994\u001b[0m \u001b[1;33m\u001b[0m\u001b[0m\n\u001b[0;32m   1995\u001b[0m     def __array_wrap__(\n",
      "\u001b[1;32m~\\anaconda3\\lib\\site-packages\\numpy\\core\\_asarray.py\u001b[0m in \u001b[0;36masarray\u001b[1;34m(a, dtype, order, like)\u001b[0m\n\u001b[0;32m    100\u001b[0m         \u001b[1;32mreturn\u001b[0m \u001b[0m_asarray_with_like\u001b[0m\u001b[1;33m(\u001b[0m\u001b[0ma\u001b[0m\u001b[1;33m,\u001b[0m \u001b[0mdtype\u001b[0m\u001b[1;33m=\u001b[0m\u001b[0mdtype\u001b[0m\u001b[1;33m,\u001b[0m \u001b[0morder\u001b[0m\u001b[1;33m=\u001b[0m\u001b[0morder\u001b[0m\u001b[1;33m,\u001b[0m \u001b[0mlike\u001b[0m\u001b[1;33m=\u001b[0m\u001b[0mlike\u001b[0m\u001b[1;33m)\u001b[0m\u001b[1;33m\u001b[0m\u001b[1;33m\u001b[0m\u001b[0m\n\u001b[0;32m    101\u001b[0m \u001b[1;33m\u001b[0m\u001b[0m\n\u001b[1;32m--> 102\u001b[1;33m     \u001b[1;32mreturn\u001b[0m \u001b[0marray\u001b[0m\u001b[1;33m(\u001b[0m\u001b[0ma\u001b[0m\u001b[1;33m,\u001b[0m \u001b[0mdtype\u001b[0m\u001b[1;33m,\u001b[0m \u001b[0mcopy\u001b[0m\u001b[1;33m=\u001b[0m\u001b[1;32mFalse\u001b[0m\u001b[1;33m,\u001b[0m \u001b[0morder\u001b[0m\u001b[1;33m=\u001b[0m\u001b[0morder\u001b[0m\u001b[1;33m)\u001b[0m\u001b[1;33m\u001b[0m\u001b[1;33m\u001b[0m\u001b[0m\n\u001b[0m\u001b[0;32m    103\u001b[0m \u001b[1;33m\u001b[0m\u001b[0m\n\u001b[0;32m    104\u001b[0m \u001b[1;33m\u001b[0m\u001b[0m\n",
      "\u001b[1;31mValueError\u001b[0m: could not convert string to float: 'LAXSAN714'"
     ]
    }
   ],
   "source": [
    "imputer.fit_transform(df)"
   ]
  },
  {
   "cell_type": "code",
   "execution_count": 38,
   "id": "5c7c9c9e",
   "metadata": {},
   "outputs": [],
   "source": [
    "df['HandsetPrice'] = df['HandsetPrice'].astype(int)\n",
    "#df.reset_index(drop=True,inplace=True)\n",
    "yes_no_features = ['Churn','ChildrenInHH','HandsetRefurbished','HandsetWebCapable','TruckOwner','RVOwner','BuysViaMailOrder',\n",
    "     'RespondsToMailOffers','OptOutMailings','NonUSTravel','OwnsComputer','HasCreditCard','NewCellphoneUser','NotNewCellphoneUser',\n",
    "     'OwnsMotorcycle','MadeCallToRetentionTeam','MaritalStatus']\n",
    "for feature in yes_no_features:\n",
    "    df[feature] = [1 if value == 'Yes' else 0 for value in df[feature]]\n",
    "df['Homeownership'] = [1 if value == 'Known' else 0 for value in df['Homeownership']]"
   ]
  },
  {
   "cell_type": "code",
   "execution_count": 133,
   "id": "1ecd1378",
   "metadata": {},
   "outputs": [],
   "source": [
    "state_map = {\n",
    "        'NYC': 'New York', 'LAX': 'California', 'CHI': 'Illinois', 'HAR': 'Connecticut',\n",
    "        'DAL': 'Texas', 'SAN': 'Texas', 'MIA': 'Florida', 'MIL': 'Wisconsin', 'NCR': 'North Carolina',\n",
    "        'PHI': 'Pennsylvania', 'OKC': 'Oklahoma', 'MIN': 'Minnesota', 'OHI': 'Ohio', 'IND': 'Indiana',\n",
    "        'SFR': 'California', 'LOU': 'Kentucky', 'APC': 'Maryland', 'BOS': 'Massachusetts', 'NOL': 'Louisiana',\n",
    "        'SEA': 'Washington', 'DET': 'Michigan', 'PHX': 'Arizona', 'NEV': 'Nevada', 'OMA': 'Nebraska',\n",
    "        'NNY': 'New York', 'STL': 'Missouri', 'FLN': 'Florida', 'HOU': 'Texas', 'PIT': 'Pennsylvania',\n",
    "        'KCY': 'Kansas', 'ATL': 'Georgia', 'AIR': 'South Carolina', 'NMX': 'New Mexico', 'SHE': 'Virginia',\n",
    "        'LAU': 'Mississippi', 'SLC': 'Utah', 'HWI': 'Hawaii', 'NSH': 'Tennessee', 'BIR': 'Alabama',\n",
    "        'AWI': 'Wisconsin', 'DEN': 'Colorado', 'NOR': 'Minnesota', 'GCW': 'Mississippi', 'NVU': 'Nevada',\n",
    "        'LAW': 'Texas', 'VAH': 'Virginia', 'SDA': 'South Dakota', 'SEW': 'Oregon', 'HOP': 'Montana',\n",
    "        'SFU': 'California'\n",
    "    }\n",
    "\n",
    "def get_state(code):\n",
    "    if not isinstance(code, str) or len(code) < 3:\n",
    "        return 'Unknown'\n",
    "    metro_code = code[:3]  # Extract first 3 letters (e.g., 'NYC')\n",
    "    # Disambiguate 'SAN' based on area code\n",
    "    if metro_code == 'SAN':\n",
    "        area_code = code[-3:] if len(code) >= 9 else ''\n",
    "        if area_code in ['512', '210', '830', '254', '361', '956']:  # Texas area codes\n",
    "            return 'Texas'\n",
    "        return 'California'  # Default for 'SAN' in other contexts (e.g., Santa Ana)\n",
    "    return state_map.get(metro_code, 'Unknown')"
   ]
  },
  {
   "cell_type": "code",
   "execution_count": 121,
   "id": "47805ab3",
   "metadata": {},
   "outputs": [],
   "source": [
    "keep_values = {'CreditRating': ['2-High','1-Highest','3-Good'], 'Occupation': ['Professional','Crafts'], \n",
    "               'PrizmCode': ['Suburban','Town'],'ServiceArea': ['Texas', 'New York', 'California', 'Florida',\n",
    "               'Maryland', 'Illinois','Georgia', 'Ohio', 'North Carolina', 'Nevada', 'Pennsylvania','Michigan', \n",
    "               'Massachusetts' ,'Washington', 'Kansas'] }\n",
    "\n",
    "for feature, values in keep_values.items():\n",
    "    df[feature] = [value if value in values else 'Other' for value in df[feature]]"
   ]
  },
  {
   "cell_type": "code",
   "execution_count": 134,
   "id": "55456433",
   "metadata": {},
   "outputs": [],
   "source": [
    "df['ServiceArea'] = df['ServiceArea'].apply(lambda code: get_state(code))"
   ]
  },
  {
   "cell_type": "code",
   "execution_count": 140,
   "id": "d39aa433",
   "metadata": {},
   "outputs": [
    {
     "data": {
      "text/plain": [
       "Index(['Texas', 'New York', 'California', 'Florida', 'Maryland', 'Illinois',\n",
       "       'Georgia', 'Ohio', 'North Carolina', 'Nevada', 'Pennsylvania',\n",
       "       'Michigan', 'Massachusetts', 'Washington', 'Kansas', 'Connecticut',\n",
       "       'Missouri', 'Minnesota', 'Arizona', 'New Mexico', 'Colorado',\n",
       "       'South Carolina', 'Wisconsin', 'Oklahoma', 'Nebraska', 'Indiana',\n",
       "       'Kentucky', 'Tennessee', 'Louisiana', 'Unknown', 'Hawaii', 'Virginia',\n",
       "       'Utah', 'Alabama', 'Mississippi', 'Oregon', 'South Dakota', 'Montana'],\n",
       "      dtype='object')"
      ]
     },
     "execution_count": 140,
     "metadata": {},
     "output_type": "execute_result"
    }
   ],
   "source": [
    "df['ServiceArea'].value_counts().index"
   ]
  },
  {
   "cell_type": "code",
   "execution_count": 145,
   "id": "b2d4d1f8",
   "metadata": {},
   "outputs": [
    {
     "data": {
      "text/plain": [
       "32639"
      ]
     },
     "execution_count": 145,
     "metadata": {},
     "output_type": "execute_result"
    }
   ],
   "source": [
    "5109 + 5094 +4962+3026+1919+1608+1456+1437+1354+1280+1259+1238+1224 + 870 +803"
   ]
  },
  {
   "cell_type": "code",
   "execution_count": 146,
   "id": "9e4eaa37",
   "metadata": {},
   "outputs": [
    {
     "data": {
      "text/plain": [
       "0.7992506795308176"
      ]
     },
     "execution_count": 146,
     "metadata": {},
     "output_type": "execute_result"
    }
   ],
   "source": [
    "32639 / df.shape[0]"
   ]
  },
  {
   "cell_type": "code",
   "execution_count": 141,
   "id": "7fd6d8b5",
   "metadata": {},
   "outputs": [
    {
     "data": {
      "text/plain": [
       "Texas             5109\n",
       "New York          5094\n",
       "California        4962\n",
       "Florida           3026\n",
       "Maryland          1919\n",
       "Illinois          1608\n",
       "Georgia           1456\n",
       "Ohio              1437\n",
       "North Carolina    1354\n",
       "Nevada            1280\n",
       "Pennsylvania      1259\n",
       "Michigan          1238\n",
       "Massachusetts     1224\n",
       "Washington         871\n",
       "Kansas             803\n",
       "Connecticut        757\n",
       "Missouri           745\n",
       "Minnesota          659\n",
       "Arizona            618\n",
       "New Mexico         597\n",
       "Colorado           567\n",
       "South Carolina     504\n",
       "Wisconsin          503\n",
       "Oklahoma           477\n",
       "Nebraska           399\n",
       "Indiana            386\n",
       "Kentucky           365\n",
       "Tennessee          327\n",
       "Louisiana          301\n",
       "Unknown            267\n",
       "Hawaii             212\n",
       "Virginia           148\n",
       "Utah               127\n",
       "Alabama             92\n",
       "Mississippi         70\n",
       "Oregon              50\n",
       "South Dakota        25\n",
       "Montana              1\n",
       "Name: ServiceArea, dtype: int64"
      ]
     },
     "execution_count": 141,
     "metadata": {},
     "output_type": "execute_result"
    }
   ],
   "source": [
    "df['ServiceArea'].value_counts()"
   ]
  },
  {
   "cell_type": "code",
   "execution_count": 40,
   "id": "ee535611",
   "metadata": {},
   "outputs": [],
   "source": [
    "df = pd.get_dummies(df,columns=['CreditRating','PrizmCode','Occupation','ServiceArea'])"
   ]
  },
  {
   "cell_type": "code",
   "execution_count": 110,
   "id": "f8a064b4",
   "metadata": {},
   "outputs": [],
   "source": [
    "def selectBestFeatures(df, target):\n",
    "    selected_features = []\n",
    "    for column in df.columns:\n",
    "        if column != target:\n",
    "            corr,pval = stats.pearsonr(df[column],df[target])\n",
    "            if pval < 0.05:\n",
    "                selected_features.append(column)\n",
    "            #print(\"'{column}' has correlation of '{corr}' and pvalue of '{pval}'\".format(column=column,corr=corr,pval=pval))\n",
    "    return selected_features"
   ]
  },
  {
   "cell_type": "code",
   "execution_count": 45,
   "id": "4fca739d",
   "metadata": {},
   "outputs": [
    {
     "data": {
      "text/plain": [
       "53"
      ]
     },
     "execution_count": 45,
     "metadata": {},
     "output_type": "execute_result"
    }
   ],
   "source": [
    "len(selected_features)"
   ]
  },
  {
   "cell_type": "code",
   "execution_count": null,
   "id": "aa53b9b1",
   "metadata": {},
   "outputs": [],
   "source": []
  },
  {
   "cell_type": "code",
   "execution_count": 12,
   "id": "48610a1f",
   "metadata": {},
   "outputs": [
    {
     "data": {
      "text/html": [
       "<div>\n",
       "<style scoped>\n",
       "    .dataframe tbody tr th:only-of-type {\n",
       "        vertical-align: middle;\n",
       "    }\n",
       "\n",
       "    .dataframe tbody tr th {\n",
       "        vertical-align: top;\n",
       "    }\n",
       "\n",
       "    .dataframe thead th {\n",
       "        text-align: right;\n",
       "    }\n",
       "</style>\n",
       "<table border=\"1\" class=\"dataframe\">\n",
       "  <thead>\n",
       "    <tr style=\"text-align: right;\">\n",
       "      <th></th>\n",
       "      <th>MonthlyRevenue</th>\n",
       "      <th>MonthlyMinutes</th>\n",
       "      <th>TotalRecurringCharge</th>\n",
       "      <th>DirectorAssistedCalls</th>\n",
       "      <th>OverageMinutes</th>\n",
       "      <th>RoamingCalls</th>\n",
       "      <th>PercChangeMinutes</th>\n",
       "      <th>PercChangeRevenues</th>\n",
       "      <th>DroppedCalls</th>\n",
       "      <th>BlockedCalls</th>\n",
       "      <th>...</th>\n",
       "      <th>OwnsMotorcycle</th>\n",
       "      <th>AdjustmentsToCreditRating</th>\n",
       "      <th>HandsetPrice</th>\n",
       "      <th>MadeCallToRetentionTeam</th>\n",
       "      <th>CreditRating</th>\n",
       "      <th>PrizmCode</th>\n",
       "      <th>Occupation</th>\n",
       "      <th>MaritalStatus</th>\n",
       "      <th>Churn</th>\n",
       "      <th>MaritalStatus</th>\n",
       "    </tr>\n",
       "  </thead>\n",
       "  <tbody>\n",
       "    <tr>\n",
       "      <th>0</th>\n",
       "      <td>39.79</td>\n",
       "      <td>234.0</td>\n",
       "      <td>55.0</td>\n",
       "      <td>0.25</td>\n",
       "      <td>0.0</td>\n",
       "      <td>1.7</td>\n",
       "      <td>31.0</td>\n",
       "      <td>8.8</td>\n",
       "      <td>6.7</td>\n",
       "      <td>0.7</td>\n",
       "      <td>...</td>\n",
       "      <td>0</td>\n",
       "      <td>0</td>\n",
       "      <td>NaN</td>\n",
       "      <td>0</td>\n",
       "      <td>2-High</td>\n",
       "      <td>Suburban</td>\n",
       "      <td>Other</td>\n",
       "      <td>Unknown</td>\n",
       "      <td>0</td>\n",
       "      <td>NaN</td>\n",
       "    </tr>\n",
       "    <tr>\n",
       "      <th>1</th>\n",
       "      <td>60.19</td>\n",
       "      <td>551.0</td>\n",
       "      <td>60.0</td>\n",
       "      <td>0.74</td>\n",
       "      <td>0.0</td>\n",
       "      <td>0.3</td>\n",
       "      <td>-88.0</td>\n",
       "      <td>-10.2</td>\n",
       "      <td>2.7</td>\n",
       "      <td>32.7</td>\n",
       "      <td>...</td>\n",
       "      <td>0</td>\n",
       "      <td>0</td>\n",
       "      <td>150</td>\n",
       "      <td>0</td>\n",
       "      <td>2-High</td>\n",
       "      <td>Suburban</td>\n",
       "      <td>Crafts</td>\n",
       "      <td>Yes</td>\n",
       "      <td>0</td>\n",
       "      <td>Yes</td>\n",
       "    </tr>\n",
       "    <tr>\n",
       "      <th>2</th>\n",
       "      <td>85.41</td>\n",
       "      <td>642.0</td>\n",
       "      <td>28.0</td>\n",
       "      <td>0.25</td>\n",
       "      <td>134.0</td>\n",
       "      <td>0.0</td>\n",
       "      <td>129.0</td>\n",
       "      <td>22.8</td>\n",
       "      <td>29.7</td>\n",
       "      <td>0.0</td>\n",
       "      <td>...</td>\n",
       "      <td>0</td>\n",
       "      <td>0</td>\n",
       "      <td>NaN</td>\n",
       "      <td>0</td>\n",
       "      <td>2-High</td>\n",
       "      <td>Suburban</td>\n",
       "      <td>Crafts</td>\n",
       "      <td>No</td>\n",
       "      <td>0</td>\n",
       "      <td>No</td>\n",
       "    </tr>\n",
       "    <tr>\n",
       "      <th>3</th>\n",
       "      <td>30.18</td>\n",
       "      <td>281.0</td>\n",
       "      <td>30.0</td>\n",
       "      <td>0.00</td>\n",
       "      <td>0.0</td>\n",
       "      <td>0.0</td>\n",
       "      <td>132.0</td>\n",
       "      <td>-0.2</td>\n",
       "      <td>4.0</td>\n",
       "      <td>0.0</td>\n",
       "      <td>...</td>\n",
       "      <td>0</td>\n",
       "      <td>0</td>\n",
       "      <td>150</td>\n",
       "      <td>0</td>\n",
       "      <td>3-Good</td>\n",
       "      <td>Suburban</td>\n",
       "      <td>Other</td>\n",
       "      <td>Unknown</td>\n",
       "      <td>1</td>\n",
       "      <td>NaN</td>\n",
       "    </tr>\n",
       "    <tr>\n",
       "      <th>4</th>\n",
       "      <td>179.29</td>\n",
       "      <td>1459.0</td>\n",
       "      <td>95.0</td>\n",
       "      <td>0.50</td>\n",
       "      <td>118.0</td>\n",
       "      <td>48.6</td>\n",
       "      <td>-1360.0</td>\n",
       "      <td>-77.0</td>\n",
       "      <td>21.7</td>\n",
       "      <td>11.0</td>\n",
       "      <td>...</td>\n",
       "      <td>0</td>\n",
       "      <td>0</td>\n",
       "      <td>NaN</td>\n",
       "      <td>0</td>\n",
       "      <td>3-Good</td>\n",
       "      <td>Rural</td>\n",
       "      <td>Other</td>\n",
       "      <td>Unknown</td>\n",
       "      <td>1</td>\n",
       "      <td>NaN</td>\n",
       "    </tr>\n",
       "    <tr>\n",
       "      <th>...</th>\n",
       "      <td>...</td>\n",
       "      <td>...</td>\n",
       "      <td>...</td>\n",
       "      <td>...</td>\n",
       "      <td>...</td>\n",
       "      <td>...</td>\n",
       "      <td>...</td>\n",
       "      <td>...</td>\n",
       "      <td>...</td>\n",
       "      <td>...</td>\n",
       "      <td>...</td>\n",
       "      <td>...</td>\n",
       "      <td>...</td>\n",
       "      <td>...</td>\n",
       "      <td>...</td>\n",
       "      <td>...</td>\n",
       "      <td>...</td>\n",
       "      <td>...</td>\n",
       "      <td>...</td>\n",
       "      <td>...</td>\n",
       "      <td>...</td>\n",
       "    </tr>\n",
       "    <tr>\n",
       "      <th>40832</th>\n",
       "      <td>19.36</td>\n",
       "      <td>18.0</td>\n",
       "      <td>17.0</td>\n",
       "      <td>0.00</td>\n",
       "      <td>0.0</td>\n",
       "      <td>4.5</td>\n",
       "      <td>-18.0</td>\n",
       "      <td>-9.4</td>\n",
       "      <td>0.0</td>\n",
       "      <td>0.0</td>\n",
       "      <td>...</td>\n",
       "      <td>0</td>\n",
       "      <td>0</td>\n",
       "      <td>NaN</td>\n",
       "      <td>0</td>\n",
       "      <td>1-Highest</td>\n",
       "      <td>Town</td>\n",
       "      <td>Professional</td>\n",
       "      <td>Yes</td>\n",
       "      <td>1</td>\n",
       "      <td>Yes</td>\n",
       "    </tr>\n",
       "    <tr>\n",
       "      <th>40833</th>\n",
       "      <td>50.30</td>\n",
       "      <td>140.0</td>\n",
       "      <td>50.0</td>\n",
       "      <td>0.00</td>\n",
       "      <td>0.0</td>\n",
       "      <td>0.0</td>\n",
       "      <td>-77.0</td>\n",
       "      <td>-0.3</td>\n",
       "      <td>1.3</td>\n",
       "      <td>3.0</td>\n",
       "      <td>...</td>\n",
       "      <td>0</td>\n",
       "      <td>0</td>\n",
       "      <td>NaN</td>\n",
       "      <td>0</td>\n",
       "      <td>1-Highest</td>\n",
       "      <td>Suburban</td>\n",
       "      <td>Professional</td>\n",
       "      <td>Yes</td>\n",
       "      <td>0</td>\n",
       "      <td>Yes</td>\n",
       "    </tr>\n",
       "    <tr>\n",
       "      <th>40834</th>\n",
       "      <td>15.73</td>\n",
       "      <td>713.0</td>\n",
       "      <td>10.0</td>\n",
       "      <td>1.73</td>\n",
       "      <td>0.0</td>\n",
       "      <td>0.0</td>\n",
       "      <td>-143.0</td>\n",
       "      <td>0.2</td>\n",
       "      <td>4.0</td>\n",
       "      <td>55.0</td>\n",
       "      <td>...</td>\n",
       "      <td>0</td>\n",
       "      <td>0</td>\n",
       "      <td>NaN</td>\n",
       "      <td>0</td>\n",
       "      <td>3-Good</td>\n",
       "      <td>Suburban</td>\n",
       "      <td>Other</td>\n",
       "      <td>Unknown</td>\n",
       "      <td>1</td>\n",
       "      <td>NaN</td>\n",
       "    </tr>\n",
       "    <tr>\n",
       "      <th>40835</th>\n",
       "      <td>80.69</td>\n",
       "      <td>504.0</td>\n",
       "      <td>50.0</td>\n",
       "      <td>0.00</td>\n",
       "      <td>77.0</td>\n",
       "      <td>0.0</td>\n",
       "      <td>48.0</td>\n",
       "      <td>-30.7</td>\n",
       "      <td>1.7</td>\n",
       "      <td>0.7</td>\n",
       "      <td>...</td>\n",
       "      <td>0</td>\n",
       "      <td>0</td>\n",
       "      <td>NaN</td>\n",
       "      <td>0</td>\n",
       "      <td>4-Medium</td>\n",
       "      <td>Suburban</td>\n",
       "      <td>Other</td>\n",
       "      <td>No</td>\n",
       "      <td>0</td>\n",
       "      <td>No</td>\n",
       "    </tr>\n",
       "    <tr>\n",
       "      <th>40836</th>\n",
       "      <td>112.30</td>\n",
       "      <td>452.0</td>\n",
       "      <td>60.0</td>\n",
       "      <td>1.73</td>\n",
       "      <td>0.0</td>\n",
       "      <td>60.6</td>\n",
       "      <td>8.0</td>\n",
       "      <td>-60.3</td>\n",
       "      <td>5.3</td>\n",
       "      <td>6.0</td>\n",
       "      <td>...</td>\n",
       "      <td>0</td>\n",
       "      <td>0</td>\n",
       "      <td>NaN</td>\n",
       "      <td>0</td>\n",
       "      <td>1-Highest</td>\n",
       "      <td>Town</td>\n",
       "      <td>Other</td>\n",
       "      <td>Yes</td>\n",
       "      <td>0</td>\n",
       "      <td>Yes</td>\n",
       "    </tr>\n",
       "  </tbody>\n",
       "</table>\n",
       "<p>40837 rows × 58 columns</p>\n",
       "</div>"
      ],
      "text/plain": [
       "       MonthlyRevenue  MonthlyMinutes  TotalRecurringCharge  \\\n",
       "0               39.79           234.0                  55.0   \n",
       "1               60.19           551.0                  60.0   \n",
       "2               85.41           642.0                  28.0   \n",
       "3               30.18           281.0                  30.0   \n",
       "4              179.29          1459.0                  95.0   \n",
       "...               ...             ...                   ...   \n",
       "40832           19.36            18.0                  17.0   \n",
       "40833           50.30           140.0                  50.0   \n",
       "40834           15.73           713.0                  10.0   \n",
       "40835           80.69           504.0                  50.0   \n",
       "40836          112.30           452.0                  60.0   \n",
       "\n",
       "       DirectorAssistedCalls  OverageMinutes  RoamingCalls  PercChangeMinutes  \\\n",
       "0                       0.25             0.0           1.7               31.0   \n",
       "1                       0.74             0.0           0.3              -88.0   \n",
       "2                       0.25           134.0           0.0              129.0   \n",
       "3                       0.00             0.0           0.0              132.0   \n",
       "4                       0.50           118.0          48.6            -1360.0   \n",
       "...                      ...             ...           ...                ...   \n",
       "40832                   0.00             0.0           4.5              -18.0   \n",
       "40833                   0.00             0.0           0.0              -77.0   \n",
       "40834                   1.73             0.0           0.0             -143.0   \n",
       "40835                   0.00            77.0           0.0               48.0   \n",
       "40836                   1.73             0.0          60.6                8.0   \n",
       "\n",
       "       PercChangeRevenues  DroppedCalls  BlockedCalls  ...  OwnsMotorcycle  \\\n",
       "0                     8.8           6.7           0.7  ...               0   \n",
       "1                   -10.2           2.7          32.7  ...               0   \n",
       "2                    22.8          29.7           0.0  ...               0   \n",
       "3                    -0.2           4.0           0.0  ...               0   \n",
       "4                   -77.0          21.7          11.0  ...               0   \n",
       "...                   ...           ...           ...  ...             ...   \n",
       "40832                -9.4           0.0           0.0  ...               0   \n",
       "40833                -0.3           1.3           3.0  ...               0   \n",
       "40834                 0.2           4.0          55.0  ...               0   \n",
       "40835               -30.7           1.7           0.7  ...               0   \n",
       "40836               -60.3           5.3           6.0  ...               0   \n",
       "\n",
       "       AdjustmentsToCreditRating  HandsetPrice  MadeCallToRetentionTeam  \\\n",
       "0                              0           NaN                        0   \n",
       "1                              0           150                        0   \n",
       "2                              0           NaN                        0   \n",
       "3                              0           150                        0   \n",
       "4                              0           NaN                        0   \n",
       "...                          ...           ...                      ...   \n",
       "40832                          0           NaN                        0   \n",
       "40833                          0           NaN                        0   \n",
       "40834                          0           NaN                        0   \n",
       "40835                          0           NaN                        0   \n",
       "40836                          0           NaN                        0   \n",
       "\n",
       "       CreditRating  PrizmCode    Occupation  MaritalStatus  Churn  \\\n",
       "0            2-High   Suburban         Other        Unknown      0   \n",
       "1            2-High   Suburban        Crafts            Yes      0   \n",
       "2            2-High   Suburban        Crafts             No      0   \n",
       "3            3-Good   Suburban         Other        Unknown      1   \n",
       "4            3-Good      Rural         Other        Unknown      1   \n",
       "...             ...        ...           ...            ...    ...   \n",
       "40832     1-Highest       Town  Professional            Yes      1   \n",
       "40833     1-Highest   Suburban  Professional            Yes      0   \n",
       "40834        3-Good   Suburban         Other        Unknown      1   \n",
       "40835      4-Medium   Suburban         Other             No      0   \n",
       "40836     1-Highest       Town         Other            Yes      0   \n",
       "\n",
       "       MaritalStatus   \n",
       "0                 NaN  \n",
       "1                 Yes  \n",
       "2                  No  \n",
       "3                 NaN  \n",
       "4                 NaN  \n",
       "...               ...  \n",
       "40832             Yes  \n",
       "40833             Yes  \n",
       "40834             NaN  \n",
       "40835              No  \n",
       "40836             Yes  \n",
       "\n",
       "[40837 rows x 58 columns]"
      ]
     },
     "execution_count": 12,
     "metadata": {},
     "output_type": "execute_result"
    }
   ],
   "source": [
    "df"
   ]
  },
  {
   "cell_type": "code",
   "execution_count": 126,
   "id": "1ea7651c",
   "metadata": {},
   "outputs": [
    {
     "data": {
      "text/plain": [
       "Other      48.34\n",
       "Suburban   32.18\n",
       "Town       14.79\n",
       "Rural       4.69\n",
       "Name: PrizmCode, dtype: float64"
      ]
     },
     "execution_count": 126,
     "metadata": {},
     "output_type": "execute_result"
    }
   ],
   "source": [
    "(df['PrizmCode'].value_counts()/df.shape[0])*100"
   ]
  },
  {
   "cell_type": "code",
   "execution_count": 123,
   "id": "765e9630",
   "metadata": {},
   "outputs": [
    {
     "data": {
      "text/plain": [
       "Other           32634\n",
       "Professional     7001\n",
       "Crafts           1202\n",
       "Name: Occupation, dtype: int64"
      ]
     },
     "execution_count": 123,
     "metadata": {},
     "output_type": "execute_result"
    }
   ],
   "source": [
    "df['Occupation'].value_counts()"
   ]
  },
  {
   "cell_type": "code",
   "execution_count": 122,
   "id": "688b353b",
   "metadata": {},
   "outputs": [
    {
     "data": {
      "text/plain": [
       "2-High      37.19\n",
       "Other       29.66\n",
       "1-Highest   16.71\n",
       "3-Good      16.44\n",
       "Name: CreditRating, dtype: float64"
      ]
     },
     "execution_count": 122,
     "metadata": {},
     "output_type": "execute_result"
    }
   ],
   "source": [
    "(df['CreditRating'].value_counts()/df.shape[0])*100"
   ]
  },
  {
   "cell_type": "code",
   "execution_count": null,
   "id": "1eed625f",
   "metadata": {},
   "outputs": [],
   "source": []
  },
  {
   "cell_type": "code",
   "execution_count": 21,
   "id": "817fb04a",
   "metadata": {
    "scrolled": true
   },
   "outputs": [
    {
     "data": {
      "text/plain": [
       "30     14.384014\n",
       "150     7.995200\n",
       "130     4.079634\n",
       "80      3.851899\n",
       "10      3.739256\n",
       "60      3.501726\n",
       "200     2.480594\n",
       "100     2.414477\n",
       "40      0.497098\n",
       "400     0.090604\n",
       "250     0.044078\n",
       "300     0.024488\n",
       "180     0.022039\n",
       "500     0.017141\n",
       "240     0.012244\n",
       "Name: HandsetPrice, dtype: float64"
      ]
     },
     "execution_count": 21,
     "metadata": {},
     "output_type": "execute_result"
    }
   ],
   "source": [
    "(df['HandsetPrice'].value_counts()/df.shape[0])*100"
   ]
  },
  {
   "cell_type": "code",
   "execution_count": 116,
   "id": "21f9c629",
   "metadata": {},
   "outputs": [
    {
     "data": {
      "text/plain": [
       "70.19999999999999"
      ]
     },
     "execution_count": 116,
     "metadata": {},
     "output_type": "execute_result"
    }
   ],
   "source": [
    "37.1 + 16.7+ 16.4"
   ]
  },
  {
   "cell_type": "code",
   "execution_count": 32,
   "id": "9775555d",
   "metadata": {},
   "outputs": [],
   "source": [
    "def remove_outliers_using_IQR(df,column):\n",
    "    first_quartile, third_quartile = np.percentile(df[column],25), np.percentile(df[column],75)\n",
    "    IQR = third_quartile - first_quartile\n",
    "    floor = first_quartile - 1.5 * IQR\n",
    "    cieling = third_quartile + 1.5 * IQR\n",
    "    outlier_mask = (df[column] < floor) | (df[column] > cieling)\n",
    "    print()\n",
    "    df = df[~outlier_mask]\n",
    "    return df"
   ]
  },
  {
   "cell_type": "code",
   "execution_count": 47,
   "id": "50ca401a",
   "metadata": {},
   "outputs": [
    {
     "name": "stdout",
     "output_type": "stream",
     "text": [
      "[0.7 0.  2.  5.7 6.7 7.3 0.3 3.  4.7 3.7 5.  9.  1.  1.7 7.  1.3 5.3 4.\n",
      " 3.3 4.3 2.7 2.3 6.  8.7 8.  6.3 7.7 8.3]\n"
     ]
    }
   ],
   "source": [
    "column = 'BlockedCalls'\n",
    "first_quartile, third_quartile = np.percentile(df[column],25), np.percentile(df[column],75)\n",
    "IQR = third_quartile - first_quartile\n",
    "floor = first_quartile - 1.5 * IQR\n",
    "cieling = third_quartile + 1.5 * IQR\n",
    "outlier_mask = (df[column] < floor) | (df[column] > cieling)\n",
    "print(df[~outlier_mask][column].unique())"
   ]
  },
  {
   "cell_type": "code",
   "execution_count": 50,
   "id": "2d186915",
   "metadata": {},
   "outputs": [],
   "source": [
    "features = df[selected_features]\n",
    "labels = df['Churn']\n",
    "\n",
    "x_train, x_validation, y_train, y_validation = train_test_split(features, labels, random_state = 42, stratify = labels, test_size = 0.2)"
   ]
  },
  {
   "cell_type": "code",
   "execution_count": 54,
   "id": "3958504d",
   "metadata": {},
   "outputs": [],
   "source": [
    "classifier = DecisionTreeClassifier()"
   ]
  },
  {
   "cell_type": "code",
   "execution_count": 55,
   "id": "bfdaed76",
   "metadata": {},
   "outputs": [
    {
     "data": {
      "text/plain": [
       "DecisionTreeClassifier()"
      ]
     },
     "execution_count": 55,
     "metadata": {},
     "output_type": "execute_result"
    }
   ],
   "source": [
    "classifier.fit(x_train,y_train)"
   ]
  },
  {
   "cell_type": "code",
   "execution_count": 56,
   "id": "d2b638af",
   "metadata": {},
   "outputs": [],
   "source": [
    "y_pred = classifier.predict(x_validation)"
   ]
  },
  {
   "cell_type": "code",
   "execution_count": 57,
   "id": "afa00ae4",
   "metadata": {},
   "outputs": [
    {
     "data": {
      "text/plain": [
       "0.32437275985663083"
      ]
     },
     "execution_count": 57,
     "metadata": {},
     "output_type": "execute_result"
    }
   ],
   "source": [
    "precision_score(y_validation,y_pred)"
   ]
  },
  {
   "cell_type": "code",
   "execution_count": 58,
   "id": "94030bae",
   "metadata": {},
   "outputs": [
    {
     "data": {
      "text/plain": [
       "0.32437275985663083"
      ]
     },
     "execution_count": 58,
     "metadata": {},
     "output_type": "execute_result"
    }
   ],
   "source": [
    "recall_score(y_validation,y_pred)"
   ]
  },
  {
   "cell_type": "code",
   "execution_count": 63,
   "id": "376e1d42",
   "metadata": {},
   "outputs": [
    {
     "data": {
      "text/plain": [
       "1.0"
      ]
     },
     "execution_count": 63,
     "metadata": {},
     "output_type": "execute_result"
    }
   ],
   "source": [
    "y = classifier.predict(x_train)\n",
    "precision_score(y_train,y)"
   ]
  },
  {
   "cell_type": "code",
   "execution_count": 64,
   "id": "2019e08d",
   "metadata": {},
   "outputs": [
    {
     "data": {
      "text/plain": [
       "1.0"
      ]
     },
     "execution_count": 64,
     "metadata": {},
     "output_type": "execute_result"
    }
   ],
   "source": [
    "recall_score(y_train,y)"
   ]
  },
  {
   "cell_type": "code",
   "execution_count": 66,
   "id": "d32e4a00",
   "metadata": {},
   "outputs": [],
   "source": [
    "params = classifier.get_params()"
   ]
  },
  {
   "cell_type": "code",
   "execution_count": 68,
   "id": "6f9f74ca",
   "metadata": {},
   "outputs": [
    {
     "data": {
      "text/plain": [
       "{'ccp_alpha': 0.0,\n",
       " 'class_weight': None,\n",
       " 'criterion': 'gini',\n",
       " 'max_depth': None,\n",
       " 'max_features': None,\n",
       " 'max_leaf_nodes': None,\n",
       " 'min_impurity_decrease': 0.0,\n",
       " 'min_impurity_split': None,\n",
       " 'min_samples_leaf': 1,\n",
       " 'min_samples_split': 2,\n",
       " 'min_weight_fraction_leaf': 0.0,\n",
       " 'random_state': None,\n",
       " 'splitter': 'best'}"
      ]
     },
     "execution_count": 68,
     "metadata": {},
     "output_type": "execute_result"
    }
   ],
   "source": [
    "params"
   ]
  },
  {
   "cell_type": "code",
   "execution_count": 77,
   "id": "f43427e8",
   "metadata": {},
   "outputs": [
    {
     "name": "stdout",
     "output_type": "stream",
     "text": [
      "Using model: AdaBoost\n",
      "Training Score: 1.0\n",
      "Test Score: 0.6346880907372401\n",
      "confusion_matrix:\n",
      " [[1154  404]\n",
      " [ 369  189]]\n",
      "accuracy_score: 0.6346880907372401\n",
      "precision_score: 0.5382167086129599\n",
      "recall_score: 0.5397014369125015\n",
      "f1_score: 0.5397014369125015\n",
      "-------------\n",
      "Using model: GradientBoosting\n",
      "Training Score: 0.7607847772130953\n",
      "Test Score: 0.7457466918714556\n",
      "confusion_matrix:\n",
      " [[1536   22]\n",
      " [ 516   42]]\n",
      "accuracy_score: 0.7457466918714556\n",
      "precision_score: 0.7023940058479532\n",
      "recall_score: 0.5305740748409182\n",
      "f1_score: 0.5305740748409182\n",
      "-------------\n",
      "Using model: BaggingClassifier\n",
      "Training Score: 0.974707481385179\n",
      "Test Score: 0.717391304347826\n",
      "confusion_matrix:\n",
      " [[1442  116]\n",
      " [ 482   76]]\n",
      "accuracy_score: 0.717391304347826\n",
      "precision_score: 0.5726567914067914\n",
      "recall_score: 0.5308731440455321\n",
      "f1_score: 0.5308731440455321\n",
      "-------------\n",
      "Using model: RandomForest\n",
      "Training Score: 0.9387779222314148\n",
      "Test Score: 0.6658790170132325\n",
      "confusion_matrix:\n",
      " [[1273  285]\n",
      " [ 422  136]]\n",
      "accuracy_score: 0.6658790170132325\n",
      "precision_score: 0.5370364142125436\n",
      "recall_score: 0.5304003846490077\n",
      "f1_score: 0.5304003846490077\n",
      "-------------\n",
      "Using model: eXtremeGradientBoosting\n",
      "Training Score: 0.9254225268880747\n",
      "Test Score: 0.7225897920604915\n",
      "confusion_matrix:\n",
      " [[1422  136]\n",
      " [ 451  107]]\n",
      "accuracy_score: 0.7225897920604915\n",
      "precision_score: 0.5997695209595311\n",
      "recall_score: 0.552232436585826\n",
      "f1_score: 0.552232436585826\n",
      "-------------\n",
      "Using model: DecisionTree\n",
      "Training Score: 1.0\n",
      "Test Score: 0.6389413988657845\n",
      "confusion_matrix:\n",
      " [[1172  386]\n",
      " [ 378  180]]\n",
      "accuracy_score: 0.6389413988657845\n",
      "precision_score: 0.537075116835746\n",
      "recall_score: 0.5374135574972049\n",
      "f1_score: 0.5374135574972049\n",
      "-------------\n",
      "Using model: ExtraTreeClassifier\n",
      "Training Score: 1.0\n",
      "Test Score: 0.6762759924385633\n",
      "confusion_matrix:\n",
      " [[1297  261]\n",
      " [ 424  134]]\n",
      "accuracy_score: 0.6762759924385633\n",
      "precision_score: 0.5464360579292287\n",
      "recall_score: 0.536310452238648\n",
      "f1_score: 0.536310452238648\n",
      "-------------\n"
     ]
    }
   ],
   "source": [
    "#Models\n",
    "from sklearn.ensemble import BaggingClassifier,GradientBoostingClassifier, RandomForestClassifier,AdaBoostClassifier,ExtraTreesClassifier\n",
    "from sklearn import tree\n",
    "from sklearn.linear_model import SGDClassifier,RidgeClassifier\n",
    "from xgboost import XGBClassifier\n",
    "from sklearn.neighbors import KNeighborsClassifier\n",
    "from sklearn.naive_bayes import MultinomialNB,GaussianNB,GaussianNB\n",
    "from sklearn.tree import DecisionTreeClassifier\n",
    "\n",
    "\n",
    "models = {\n",
    "    \"AdaBoost\" : AdaBoostClassifier(DecisionTreeClassifier(),algorithm=\"SAMME.R\",n_estimators=100),\n",
    "    \"GradientBoosting\"      : GradientBoostingClassifier(),\n",
    "    \"BaggingClassifier\"  : BaggingClassifier(tree.DecisionTreeClassifier(random_state=1)),\n",
    "    \"RandomForest\"      : RandomForestClassifier(n_estimators=3),\n",
    "    \"eXtremeGradientBoosting\"     : XGBClassifier(objective= 'binary:logistic'),\n",
    "    #\"KNN\"                : KNeighborsClassifier(n_neighbors = 30, weights = 'distance'),\n",
    "    \"DecisionTree\"      : DecisionTreeClassifier(),\n",
    "    \"ExtraTreeClassifier\"       : ExtraTreesClassifier(n_estimators=3)\n",
    "}\n",
    "\n",
    "\n",
    "for name, model in models.items():\n",
    "    \n",
    "\n",
    "    print(f'Using model: {name}')\n",
    "    model.fit(x_train, y_train)\n",
    "\n",
    "    print(f'Training Score: {model.score(x_train, y_train)}')\n",
    "    print(f'Test Score: {model.score(x_validation, y_validation)}') \n",
    "    \n",
    "    y_pred = model.predict(x_validation)\n",
    "    print(f'confusion_matrix:\\n {confusion_matrix(y_validation, y_pred)}')\n",
    "    print(f'accuracy_score: {accuracy_score(y_validation, y_pred)}')\n",
    "    print(f'precision_score: {precision_score(y_validation, y_pred,average=\"macro\")}')\n",
    "    print(f'recall_score: {recall_score(y_validation, y_pred,average=\"macro\")}')\n",
    "    print(f'f1_score: {recall_score(y_validation, y_pred,average=\"macro\")}')\n",
    "    print('-------------')"
   ]
  },
  {
   "cell_type": "code",
   "execution_count": null,
   "id": "a0e95985",
   "metadata": {},
   "outputs": [],
   "source": [
    "# Define the objective function for Optuna\n",
    "def objective(trial):\n",
    "    # Suggest hyperparameters\n",
    "    max_depth = trial.suggest_int(\"max_depth\", 1, 20)\n",
    "    min_samples_split = trial.suggest_int(\"min_samples_split\", 2, 20)\n",
    "    min_samples_leaf = trial.suggest_int(\"min_samples_leaf\", 1, 20)\n",
    "    criterion = trial.suggest_categorical(\"criterion\", [\"gini\", \"entropy\"])\n",
    "    \n",
    "    # Create and train the model\n",
    "    model = DecisionTreeClassifier(\n",
    "        max_depth=max_depth,\n",
    "        min_samples_split=min_samples_split,\n",
    "        min_samples_leaf=min_samples_leaf,\n",
    "        criterion=criterion,\n",
    "        random_state=42\n",
    "    )\n",
    "    \n",
    "    # Use cross-validation to evaluate the model\n",
    "    scores = cross_val_score(model, X_train, y_train, cv=3, scoring=\"accuracy\")\n",
    "    return scores.mean()\n",
    "\n",
    "# Create a study and optimize\n",
    "study = optuna.create_study(direction=\"maximize\")\n",
    "study.optimize(objective, n_trials=50)"
   ]
  },
  {
   "cell_type": "code",
   "execution_count": 86,
   "id": "d4e84e1c",
   "metadata": {
    "collapsed": true
   },
   "outputs": [
    {
     "name": "stderr",
     "output_type": "stream",
     "text": [
      "100%|██████████████████████████████████████████████████████████████████████████████████| 29/29 [01:23<00:00,  2.87s/it]"
     ]
    },
    {
     "name": "stdout",
     "output_type": "stream",
     "text": [
      "                               Accuracy  Balanced Accuracy  ROC AUC  F1 Score  \\\n",
      "Model                                                                           \n",
      "NearestCentroid                    0.59               0.57     0.57      0.62   \n",
      "XGBClassifier                      0.72               0.55     0.55      0.68   \n",
      "DecisionTreeClassifier             0.65               0.55     0.55      0.65   \n",
      "LGBMClassifier                     0.73               0.54     0.54      0.68   \n",
      "Perceptron                         0.62               0.54     0.54      0.63   \n",
      "BaggingClassifier                  0.73               0.54     0.54      0.67   \n",
      "BernoulliNB                        0.73               0.54     0.54      0.67   \n",
      "AdaBoostClassifier                 0.74               0.53     0.53      0.67   \n",
      "PassiveAggressiveClassifier        0.64               0.53     0.53      0.64   \n",
      "KNeighborsClassifier               0.70               0.53     0.53      0.66   \n",
      "LabelPropagation                   0.64               0.53     0.53      0.63   \n",
      "LabelSpreading                     0.64               0.52     0.52      0.63   \n",
      "ExtraTreesClassifier               0.73               0.52     0.52      0.65   \n",
      "NuSVC                              0.74               0.52     0.52      0.65   \n",
      "RandomForestClassifier             0.74               0.52     0.52      0.65   \n",
      "LogisticRegression                 0.74               0.52     0.52      0.65   \n",
      "LinearSVC                          0.74               0.52     0.52      0.65   \n",
      "LinearDiscriminantAnalysis         0.73               0.51     0.51      0.64   \n",
      "RidgeClassifier                    0.74               0.51     0.51      0.64   \n",
      "RidgeClassifierCV                  0.74               0.51     0.51      0.64   \n",
      "CalibratedClassifierCV             0.74               0.51     0.51      0.64   \n",
      "ExtraTreeClassifier                0.62               0.51     0.51      0.62   \n",
      "GaussianNB                         0.73               0.51     0.51      0.64   \n",
      "SVC                                0.74               0.51     0.51      0.64   \n",
      "QuadraticDiscriminantAnalysis      0.73               0.51     0.51      0.64   \n",
      "SGDClassifier                      0.73               0.50     0.50      0.63   \n",
      "DummyClassifier                    0.74               0.50     0.50      0.62   \n",
      "\n",
      "                               Time Taken  \n",
      "Model                                      \n",
      "NearestCentroid                      0.13  \n",
      "XGBClassifier                        0.82  \n",
      "DecisionTreeClassifier               0.20  \n",
      "LGBMClassifier                       0.71  \n",
      "Perceptron                           0.17  \n",
      "BaggingClassifier                    0.96  \n",
      "BernoulliNB                          0.09  \n",
      "AdaBoostClassifier                   0.84  \n",
      "PassiveAggressiveClassifier          0.21  \n",
      "KNeighborsClassifier                 0.58  \n",
      "LabelPropagation                     4.39  \n",
      "LabelSpreading                      12.22  \n",
      "ExtraTreesClassifier                 1.42  \n",
      "NuSVC                               19.71  \n",
      "RandomForestClassifier               4.24  \n",
      "LogisticRegression                   0.24  \n",
      "LinearSVC                            5.51  \n",
      "LinearDiscriminantAnalysis           0.45  \n",
      "RidgeClassifier                      0.16  \n",
      "RidgeClassifierCV                    0.20  \n",
      "CalibratedClassifierCV              10.41  \n",
      "ExtraTreeClassifier                  0.05  \n",
      "GaussianNB                           0.06  \n",
      "SVC                                 18.61  \n",
      "QuadraticDiscriminantAnalysis        0.19  \n",
      "SGDClassifier                        0.50  \n",
      "DummyClassifier                      0.04  \n"
     ]
    },
    {
     "name": "stderr",
     "output_type": "stream",
     "text": [
      "\n"
     ]
    }
   ],
   "source": [
    "from lazypredict.Supervised import LazyClassifier\n",
    "\n",
    "clf = LazyClassifier(verbose=0, ignore_warnings=True, custom_metric=None)\n",
    "\n",
    "# Fit and evaluate models\n",
    "models, predictions = clf.fit(x_train, x_validation, y_train, y_validation)\n",
    "\n",
    "\n"
   ]
  },
  {
   "cell_type": "code",
   "execution_count": 87,
   "id": "5ef3fd5e",
   "metadata": {},
   "outputs": [
    {
     "data": {
      "text/html": [
       "<div>\n",
       "<style scoped>\n",
       "    .dataframe tbody tr th:only-of-type {\n",
       "        vertical-align: middle;\n",
       "    }\n",
       "\n",
       "    .dataframe tbody tr th {\n",
       "        vertical-align: top;\n",
       "    }\n",
       "\n",
       "    .dataframe thead th {\n",
       "        text-align: right;\n",
       "    }\n",
       "</style>\n",
       "<table border=\"1\" class=\"dataframe\">\n",
       "  <thead>\n",
       "    <tr style=\"text-align: right;\">\n",
       "      <th></th>\n",
       "      <th>Accuracy</th>\n",
       "      <th>Balanced Accuracy</th>\n",
       "      <th>ROC AUC</th>\n",
       "      <th>F1 Score</th>\n",
       "      <th>Time Taken</th>\n",
       "    </tr>\n",
       "    <tr>\n",
       "      <th>Model</th>\n",
       "      <th></th>\n",
       "      <th></th>\n",
       "      <th></th>\n",
       "      <th></th>\n",
       "      <th></th>\n",
       "    </tr>\n",
       "  </thead>\n",
       "  <tbody>\n",
       "    <tr>\n",
       "      <th>NearestCentroid</th>\n",
       "      <td>0.59</td>\n",
       "      <td>0.57</td>\n",
       "      <td>0.57</td>\n",
       "      <td>0.62</td>\n",
       "      <td>0.13</td>\n",
       "    </tr>\n",
       "    <tr>\n",
       "      <th>XGBClassifier</th>\n",
       "      <td>0.72</td>\n",
       "      <td>0.55</td>\n",
       "      <td>0.55</td>\n",
       "      <td>0.68</td>\n",
       "      <td>0.82</td>\n",
       "    </tr>\n",
       "    <tr>\n",
       "      <th>DecisionTreeClassifier</th>\n",
       "      <td>0.65</td>\n",
       "      <td>0.55</td>\n",
       "      <td>0.55</td>\n",
       "      <td>0.65</td>\n",
       "      <td>0.20</td>\n",
       "    </tr>\n",
       "    <tr>\n",
       "      <th>LGBMClassifier</th>\n",
       "      <td>0.73</td>\n",
       "      <td>0.54</td>\n",
       "      <td>0.54</td>\n",
       "      <td>0.68</td>\n",
       "      <td>0.71</td>\n",
       "    </tr>\n",
       "    <tr>\n",
       "      <th>Perceptron</th>\n",
       "      <td>0.62</td>\n",
       "      <td>0.54</td>\n",
       "      <td>0.54</td>\n",
       "      <td>0.63</td>\n",
       "      <td>0.17</td>\n",
       "    </tr>\n",
       "    <tr>\n",
       "      <th>BaggingClassifier</th>\n",
       "      <td>0.73</td>\n",
       "      <td>0.54</td>\n",
       "      <td>0.54</td>\n",
       "      <td>0.67</td>\n",
       "      <td>0.96</td>\n",
       "    </tr>\n",
       "    <tr>\n",
       "      <th>BernoulliNB</th>\n",
       "      <td>0.73</td>\n",
       "      <td>0.54</td>\n",
       "      <td>0.54</td>\n",
       "      <td>0.67</td>\n",
       "      <td>0.09</td>\n",
       "    </tr>\n",
       "    <tr>\n",
       "      <th>AdaBoostClassifier</th>\n",
       "      <td>0.74</td>\n",
       "      <td>0.53</td>\n",
       "      <td>0.53</td>\n",
       "      <td>0.67</td>\n",
       "      <td>0.84</td>\n",
       "    </tr>\n",
       "    <tr>\n",
       "      <th>PassiveAggressiveClassifier</th>\n",
       "      <td>0.64</td>\n",
       "      <td>0.53</td>\n",
       "      <td>0.53</td>\n",
       "      <td>0.64</td>\n",
       "      <td>0.21</td>\n",
       "    </tr>\n",
       "    <tr>\n",
       "      <th>KNeighborsClassifier</th>\n",
       "      <td>0.70</td>\n",
       "      <td>0.53</td>\n",
       "      <td>0.53</td>\n",
       "      <td>0.66</td>\n",
       "      <td>0.58</td>\n",
       "    </tr>\n",
       "    <tr>\n",
       "      <th>LabelPropagation</th>\n",
       "      <td>0.64</td>\n",
       "      <td>0.53</td>\n",
       "      <td>0.53</td>\n",
       "      <td>0.63</td>\n",
       "      <td>4.39</td>\n",
       "    </tr>\n",
       "    <tr>\n",
       "      <th>LabelSpreading</th>\n",
       "      <td>0.64</td>\n",
       "      <td>0.52</td>\n",
       "      <td>0.52</td>\n",
       "      <td>0.63</td>\n",
       "      <td>12.22</td>\n",
       "    </tr>\n",
       "    <tr>\n",
       "      <th>ExtraTreesClassifier</th>\n",
       "      <td>0.73</td>\n",
       "      <td>0.52</td>\n",
       "      <td>0.52</td>\n",
       "      <td>0.65</td>\n",
       "      <td>1.42</td>\n",
       "    </tr>\n",
       "    <tr>\n",
       "      <th>NuSVC</th>\n",
       "      <td>0.74</td>\n",
       "      <td>0.52</td>\n",
       "      <td>0.52</td>\n",
       "      <td>0.65</td>\n",
       "      <td>19.71</td>\n",
       "    </tr>\n",
       "    <tr>\n",
       "      <th>RandomForestClassifier</th>\n",
       "      <td>0.74</td>\n",
       "      <td>0.52</td>\n",
       "      <td>0.52</td>\n",
       "      <td>0.65</td>\n",
       "      <td>4.24</td>\n",
       "    </tr>\n",
       "    <tr>\n",
       "      <th>LogisticRegression</th>\n",
       "      <td>0.74</td>\n",
       "      <td>0.52</td>\n",
       "      <td>0.52</td>\n",
       "      <td>0.65</td>\n",
       "      <td>0.24</td>\n",
       "    </tr>\n",
       "    <tr>\n",
       "      <th>LinearSVC</th>\n",
       "      <td>0.74</td>\n",
       "      <td>0.52</td>\n",
       "      <td>0.52</td>\n",
       "      <td>0.65</td>\n",
       "      <td>5.51</td>\n",
       "    </tr>\n",
       "    <tr>\n",
       "      <th>LinearDiscriminantAnalysis</th>\n",
       "      <td>0.73</td>\n",
       "      <td>0.51</td>\n",
       "      <td>0.51</td>\n",
       "      <td>0.64</td>\n",
       "      <td>0.45</td>\n",
       "    </tr>\n",
       "    <tr>\n",
       "      <th>RidgeClassifier</th>\n",
       "      <td>0.74</td>\n",
       "      <td>0.51</td>\n",
       "      <td>0.51</td>\n",
       "      <td>0.64</td>\n",
       "      <td>0.16</td>\n",
       "    </tr>\n",
       "    <tr>\n",
       "      <th>RidgeClassifierCV</th>\n",
       "      <td>0.74</td>\n",
       "      <td>0.51</td>\n",
       "      <td>0.51</td>\n",
       "      <td>0.64</td>\n",
       "      <td>0.20</td>\n",
       "    </tr>\n",
       "    <tr>\n",
       "      <th>CalibratedClassifierCV</th>\n",
       "      <td>0.74</td>\n",
       "      <td>0.51</td>\n",
       "      <td>0.51</td>\n",
       "      <td>0.64</td>\n",
       "      <td>10.41</td>\n",
       "    </tr>\n",
       "    <tr>\n",
       "      <th>ExtraTreeClassifier</th>\n",
       "      <td>0.62</td>\n",
       "      <td>0.51</td>\n",
       "      <td>0.51</td>\n",
       "      <td>0.62</td>\n",
       "      <td>0.05</td>\n",
       "    </tr>\n",
       "    <tr>\n",
       "      <th>GaussianNB</th>\n",
       "      <td>0.73</td>\n",
       "      <td>0.51</td>\n",
       "      <td>0.51</td>\n",
       "      <td>0.64</td>\n",
       "      <td>0.06</td>\n",
       "    </tr>\n",
       "    <tr>\n",
       "      <th>SVC</th>\n",
       "      <td>0.74</td>\n",
       "      <td>0.51</td>\n",
       "      <td>0.51</td>\n",
       "      <td>0.64</td>\n",
       "      <td>18.61</td>\n",
       "    </tr>\n",
       "    <tr>\n",
       "      <th>QuadraticDiscriminantAnalysis</th>\n",
       "      <td>0.73</td>\n",
       "      <td>0.51</td>\n",
       "      <td>0.51</td>\n",
       "      <td>0.64</td>\n",
       "      <td>0.19</td>\n",
       "    </tr>\n",
       "    <tr>\n",
       "      <th>SGDClassifier</th>\n",
       "      <td>0.73</td>\n",
       "      <td>0.50</td>\n",
       "      <td>0.50</td>\n",
       "      <td>0.63</td>\n",
       "      <td>0.50</td>\n",
       "    </tr>\n",
       "    <tr>\n",
       "      <th>DummyClassifier</th>\n",
       "      <td>0.74</td>\n",
       "      <td>0.50</td>\n",
       "      <td>0.50</td>\n",
       "      <td>0.62</td>\n",
       "      <td>0.04</td>\n",
       "    </tr>\n",
       "  </tbody>\n",
       "</table>\n",
       "</div>"
      ],
      "text/plain": [
       "                               Accuracy  Balanced Accuracy  ROC AUC  F1 Score  \\\n",
       "Model                                                                           \n",
       "NearestCentroid                    0.59               0.57     0.57      0.62   \n",
       "XGBClassifier                      0.72               0.55     0.55      0.68   \n",
       "DecisionTreeClassifier             0.65               0.55     0.55      0.65   \n",
       "LGBMClassifier                     0.73               0.54     0.54      0.68   \n",
       "Perceptron                         0.62               0.54     0.54      0.63   \n",
       "BaggingClassifier                  0.73               0.54     0.54      0.67   \n",
       "BernoulliNB                        0.73               0.54     0.54      0.67   \n",
       "AdaBoostClassifier                 0.74               0.53     0.53      0.67   \n",
       "PassiveAggressiveClassifier        0.64               0.53     0.53      0.64   \n",
       "KNeighborsClassifier               0.70               0.53     0.53      0.66   \n",
       "LabelPropagation                   0.64               0.53     0.53      0.63   \n",
       "LabelSpreading                     0.64               0.52     0.52      0.63   \n",
       "ExtraTreesClassifier               0.73               0.52     0.52      0.65   \n",
       "NuSVC                              0.74               0.52     0.52      0.65   \n",
       "RandomForestClassifier             0.74               0.52     0.52      0.65   \n",
       "LogisticRegression                 0.74               0.52     0.52      0.65   \n",
       "LinearSVC                          0.74               0.52     0.52      0.65   \n",
       "LinearDiscriminantAnalysis         0.73               0.51     0.51      0.64   \n",
       "RidgeClassifier                    0.74               0.51     0.51      0.64   \n",
       "RidgeClassifierCV                  0.74               0.51     0.51      0.64   \n",
       "CalibratedClassifierCV             0.74               0.51     0.51      0.64   \n",
       "ExtraTreeClassifier                0.62               0.51     0.51      0.62   \n",
       "GaussianNB                         0.73               0.51     0.51      0.64   \n",
       "SVC                                0.74               0.51     0.51      0.64   \n",
       "QuadraticDiscriminantAnalysis      0.73               0.51     0.51      0.64   \n",
       "SGDClassifier                      0.73               0.50     0.50      0.63   \n",
       "DummyClassifier                    0.74               0.50     0.50      0.62   \n",
       "\n",
       "                               Time Taken  \n",
       "Model                                      \n",
       "NearestCentroid                      0.13  \n",
       "XGBClassifier                        0.82  \n",
       "DecisionTreeClassifier               0.20  \n",
       "LGBMClassifier                       0.71  \n",
       "Perceptron                           0.17  \n",
       "BaggingClassifier                    0.96  \n",
       "BernoulliNB                          0.09  \n",
       "AdaBoostClassifier                   0.84  \n",
       "PassiveAggressiveClassifier          0.21  \n",
       "KNeighborsClassifier                 0.58  \n",
       "LabelPropagation                     4.39  \n",
       "LabelSpreading                      12.22  \n",
       "ExtraTreesClassifier                 1.42  \n",
       "NuSVC                               19.71  \n",
       "RandomForestClassifier               4.24  \n",
       "LogisticRegression                   0.24  \n",
       "LinearSVC                            5.51  \n",
       "LinearDiscriminantAnalysis           0.45  \n",
       "RidgeClassifier                      0.16  \n",
       "RidgeClassifierCV                    0.20  \n",
       "CalibratedClassifierCV              10.41  \n",
       "ExtraTreeClassifier                  0.05  \n",
       "GaussianNB                           0.06  \n",
       "SVC                                 18.61  \n",
       "QuadraticDiscriminantAnalysis        0.19  \n",
       "SGDClassifier                        0.50  \n",
       "DummyClassifier                      0.04  "
      ]
     },
     "execution_count": 87,
     "metadata": {},
     "output_type": "execute_result"
    }
   ],
   "source": [
    "models"
   ]
  },
  {
   "cell_type": "code",
   "execution_count": null,
   "id": "ebe75c6c",
   "metadata": {},
   "outputs": [],
   "source": []
  }
 ],
 "metadata": {
  "kernelspec": {
   "display_name": "Python 3 (ipykernel)",
   "language": "python",
   "name": "python3"
  },
  "language_info": {
   "codemirror_mode": {
    "name": "ipython",
    "version": 3
   },
   "file_extension": ".py",
   "mimetype": "text/x-python",
   "name": "python",
   "nbconvert_exporter": "python",
   "pygments_lexer": "ipython3",
   "version": "3.9.7"
  }
 },
 "nbformat": 4,
 "nbformat_minor": 5
}
